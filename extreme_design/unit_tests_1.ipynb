{
 "cells": [
  {
   "cell_type": "markdown",
   "metadata": {},
   "source": [
    "## Test and fix.\n",
    "'An ontology module developed for addressing a certain user story associated to a certain competency question, is tested e.g.\n",
    "\n",
    "- (i) by encoding in the ontology for a sample set of facts based on the user\n",
    "story, \n",
    "- (ii) defining one or a set of SPARQL queries that formally encode\n",
    "the competency question, \n",
    "- (iii) associating each SPARQL query with the expected result, \n",
    "- and (i) running the SPARQL queries against the ontology and compare actual with expected results.' \n",
    "\n",
    "### Task description\n",
    "\n",
    "'The goal of this task is to validate the resulting module\n",
    "with respect to the CQ just modeled. To this aim, the task is executed through\n",
    "the following steps: \n",
    "- (i) the CQ is elaborated in order to derive a unit test e.g.,\n",
    "SPARQL query;\n",
    "- (ii) the instance module is fed with sample facts based on the\n",
    "story; \n",
    "- (iii) the unit test is ran against the ontology module. If the result is not\n",
    "the expected one i.e. the test is not passed, the module is revised in order to fix\n",
    "it, and the unit test ran again until the test is passed; \n",
    "- (iv) run all other unit\n",
    "tests associated with the story so far until they all pass.'  <br>\n",
    "\n",
    "<br>\n",
    "Reference:<br>\n",
    "Presutti, V., Daga, E., Gangemi, A., & Blomqvist, E. (2009). eXtreme Design with Content Ontology Design Patterns. WOP.  https://dl.acm.org/doi/10.5555/2889761.2889768"
   ]
  },
  {
   "cell_type": "code",
   "execution_count": 1,
   "metadata": {},
   "outputs": [
    {
     "data": {
      "text/plain": [
       "<Graph identifier=N0f4f9e642ff84e60b4d0d439b001f58c (<class 'rdflib.graph.Graph'>)>"
      ]
     },
     "execution_count": 1,
     "metadata": {},
     "output_type": "execute_result"
    }
   ],
   "source": [
    "#%pip install rdflib\n",
    "from rdflib import *\n",
    "whataGraph = Graph()\n",
    "whataGraph.parse(\"kg_3.ttl\", format=\"ttl\")"
   ]
  },
  {
   "cell_type": "markdown",
   "metadata": {},
   "source": [
    "## SPARQL queries\n",
    "#### Perspectivisation CQs\n",
    "1. Is whataboutism recognisable as an (or part of an ) act of perspectivisation? Which elements of the cognitive perspectivisation are present and manifest concretely in a whataboutist claim?  --> Which is the  specific component of the Perspectivisation which is modified by whataboutism ?  \n",
    "<br>Expected result: \n"
   ]
  },
  {
   "cell_type": "code",
   "execution_count": 2,
   "metadata": {},
   "outputs": [
    {
     "name": "stdout",
     "output_type": "stream",
     "text": [
      "(rdflib.term.URIRef('https://raw.githubusercontent.com/Salvadana/whata_ontology/main/ontology_development/whata_ontology.owl#WhataboutistPerspectivisation'),)\n"
     ]
    }
   ],
   "source": [
    "\n",
    "cq1 = \"\"\"PREFIX whata:<https://raw.githubusercontent.com/Salvadana/whata_ontology/main/ontology_development/whata_ontology.owl#> \n",
    "    PREFIX rdf: <http://www.w3.org/1999/02/22-rdf-syntax-ns#>\n",
    "    PREFIX per:<http://www.ontologydesignpatterns.org/ont/persp/perspectivisation.owl#>\n",
    "    \n",
    "SELECT  ?perspectivisation\n",
    "WHERE {\n",
    "  ?perspectivisation a whata:WhataboutistPerspectivisation;\n",
    "      per:Eventuality ?eventuality;\n",
    "     per:Lens ?lens;\n",
    "     per:Cut ?cut.\n",
    "}     \n",
    "\"\"\"\n",
    "results = whataGraph.query(cq1)\n",
    "\n",
    "for row in results:\n",
    "    print(row)\n",
    "    "
   ]
  },
  {
   "cell_type": "markdown",
   "metadata": {},
   "source": [
    "2. By the means of which component of perpectivisation does Whataboutism act? The aim is retrieving the entity type that is responsible in the focus shifting action within a cognitiveperspectivisation. <br> expected: Whataboutist Lens"
   ]
  },
  {
   "cell_type": "code",
   "execution_count": 3,
   "metadata": {},
   "outputs": [
    {
     "name": "stdout",
     "output_type": "stream",
     "text": [
      "(rdflib.term.URIRef('https://raw.githubusercontent.com/Salvadana/whata_ontology/main/ontology_development/whata_ontology.owl#WhataboutistLens'),)\n"
     ]
    }
   ],
   "source": [
    "\n",
    "cq2 = \"\"\"PREFIX whata:<https://raw.githubusercontent.com/Salvadana/whata_ontology/main/ontology_development/whata_ontology.owl#> \n",
    "    PREFIX rdf: <http://www.w3.org/1999/02/22-rdf-syntax-ns#>\n",
    "    PREFIX per:<http://www.ontologydesignpatterns.org/ont/persp/perspectivisation.owl#>\n",
    "    PREFIX owl: <http://www.w3.org/2002/07/owl#>\n",
    "SELECT ?lens\n",
    "WHERE {\n",
    "  ?p a whata:WhataboutistPerspectivisation.\n",
    "  ?p per:Eventuality ?e.\n",
    "  ?lens whata:shiftsFocusFrom ?e.\n",
    "  \n",
    "}\n",
    "      \n",
    "\"\"\"\n",
    "results = whataGraph.query(cq2)\n",
    "\n",
    "for row in results:\n",
    "    print(row)\n",
    "    "
   ]
  },
  {
   "cell_type": "markdown",
   "metadata": {},
   "source": [
    "2a. Which elements does the lens shot?\n",
    "<br>Expected: Sample Counter Blamable"
   ]
  },
  {
   "cell_type": "code",
   "execution_count": 4,
   "metadata": {},
   "outputs": [
    {
     "name": "stdout",
     "output_type": "stream",
     "text": [
      "(rdflib.term.URIRef('https://raw.githubusercontent.com/Salvadana/whata_ontology/main/ontology_development/whata_ontology.owl#CounterBlamable'),)\n"
     ]
    }
   ],
   "source": [
    "\n",
    "cq2a = \"\"\"PREFIX whata:<https://raw.githubusercontent.com/Salvadana/whata_ontology/main/ontology_development/whata_ontology.owl#> \n",
    "    PREFIX rdf: <http://www.w3.org/1999/02/22-rdf-syntax-ns#>\n",
    "    PREFIX per:<http://www.ontologydesignpatterns.org/ont/persp/perspectivisation.owl#>\n",
    "    PREFIX owl: <http://www.w3.org/2002/07/owl#>\n",
    "SELECT ?cut\n",
    "WHERE {\n",
    "  ?p a whata:WhataboutistPerspectivisation.\n",
    "  ?p per:Lens ?lens.\n",
    "   ?cut per:shotThrough ?lens.\n",
    "  \n",
    "}\n",
    "      \n",
    "\"\"\"\n",
    "results = whataGraph.query(cq2a)\n",
    "\n",
    "for row in results:\n",
    "    print(row)\n",
    "    "
   ]
  },
  {
   "cell_type": "markdown",
   "metadata": {},
   "source": [
    "3. What is the action performed by whataboutism on the main perspectivised eventuality? <br> expected:Shift Focus"
   ]
  },
  {
   "cell_type": "code",
   "execution_count": 6,
   "metadata": {},
   "outputs": [
    {
     "name": "stdout",
     "output_type": "stream",
     "text": [
      "(rdflib.term.URIRef('https://raw.githubusercontent.com/Salvadana/whata_ontology/main/ontology_development/whata_ontology.owl#shiftsFocusFrom'),)\n"
     ]
    }
   ],
   "source": [
    "#what does whataboutism do? how it acts in the perspectivisation situation?\n",
    "\n",
    "cq3 = \"\"\"PREFIX whata:<https://raw.githubusercontent.com/Salvadana/whata_ontology/main/ontology_development/whata_ontology.owl#> \n",
    "    PREFIX rdf: <http://www.w3.org/1999/02/22-rdf-syntax-ns#>\n",
    "    PREFIX per:<http://www.ontologydesignpatterns.org/ont/persp/perspectivisation.owl#>\n",
    "SELECT    ?action\n",
    "WHERE {\n",
    "  ?s a whata:WhataboutistPerspectivisation.\n",
    "  ?s per:Lens ?lens.\n",
    "  ?s per:Eventuality ?eventuality.\n",
    "  ?lens ?action  ?eventuality.\n",
    "  \n",
    "}\n",
    "      \n",
    "\"\"\"\n",
    "results = whataGraph.query(cq3)\n",
    "\n",
    "for row in results:\n",
    "    print(row)\n",
    "    "
   ]
  },
  {
   "cell_type": "markdown",
   "metadata": {},
   "source": [
    "#### Linguistic Features CQs"
   ]
  },
  {
   "cell_type": "markdown",
   "metadata": {},
   "source": [
    "4. Which linguistic elements do denote whataboutism? <br>\n",
    "expected result: string with pattern, string with sentence"
   ]
  },
  {
   "cell_type": "code",
   "execution_count": 7,
   "metadata": {},
   "outputs": [
    {
     "name": "stdout",
     "output_type": "stream",
     "text": [
      "(rdflib.term.Literal('what about'),)\n"
     ]
    }
   ],
   "source": [
    "# Which linguistic elements do denote whataboutism?\n",
    "#expected result: string with pattern, string with sentence\n",
    "cq4 = \"\"\"PREFIX whata:<https://raw.githubusercontent.com/Salvadana/whata_ontology/main/ontology_development/whata_ontology.owl#> \n",
    "    PREFIX rdf: <http://www.w3.org/1999/02/22-rdf-syntax-ns#>\n",
    "SELECT  ?pattern \n",
    "WHERE {\n",
    "  ?s a whata:WhataboutistPerspectivisation;\n",
    "    \n",
    "   whata:relatedIdentifyingPattern ?pattern;\n",
    "   \n",
    "}\n",
    "      \n",
    "\"\"\"\n",
    "results = whataGraph.query(cq4)\n",
    "\n",
    "for row in results:\n",
    "    print(row)\n",
    "    "
   ]
  },
  {
   "cell_type": "markdown",
   "metadata": {},
   "source": [
    "5. Is the arguer in the considered perspectivisation being whataboutist? Expected: True"
   ]
  },
  {
   "cell_type": "code",
   "execution_count": 2,
   "metadata": {},
   "outputs": [
    {
     "name": "stdout",
     "output_type": "stream",
     "text": [
      "True\n"
     ]
    }
   ],
   "source": [
    "\n",
    "cq5 = \"\"\"PREFIX whata:<https://raw.githubusercontent.com/Salvadana/whata_ontology/main/ontology_development/whata_ontology.owl#> \n",
    "    PREFIX rdf: <http://www.w3.org/1999/02/22-rdf-syntax-ns#>\n",
    "    PREFIX per:<http://www.ontologydesignpatterns.org/ont/persp/perspectivisation.owl#>\n",
    "    PREFIX owl: <http://www.w3.org/2002/07/owl#>\n",
    "ASK\n",
    "WHERE {\n",
    "  ?p a whata:WhataboutistPerspectivisation.\n",
    "  ?p per:Lens ?lens.\n",
    "  ?lens a whata:WhataboutistLens.\n",
    "   ?cut per:shotThrough ?lens.\n",
    "   ?cut a whata:CounterBlamable.\n",
    "  \n",
    "}\n",
    "      \n",
    "\"\"\"\n",
    "results = whataGraph.query(cq5)\n",
    "\n",
    "for row in results:\n",
    "    print(row)\n",
    "    "
   ]
  }
 ],
 "metadata": {
  "kernelspec": {
   "display_name": "Python 3",
   "language": "python",
   "name": "python3"
  },
  "language_info": {
   "codemirror_mode": {
    "name": "ipython",
    "version": 3
   },
   "file_extension": ".py",
   "mimetype": "text/x-python",
   "name": "python",
   "nbconvert_exporter": "python",
   "pygments_lexer": "ipython3",
   "version": "3.10.0"
  }
 },
 "nbformat": 4,
 "nbformat_minor": 2
}
