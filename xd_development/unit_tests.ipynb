{
 "cells": [
  {
   "cell_type": "markdown",
   "metadata": {},
   "source": [
    "'An ontology module developed for addressing a certain user story associated to a certain competency question, is tested e.g.\n",
    "<ul>\n",
    "<li>(i) by encoding in the ontology for a sample set of facts based on the user\n",
    "story, </li>\n",
    "<li>(ii) defining one or a set of SPARQL queries that formally encode\n",
    "the competency question, </li>\n",
    "<li>(iii) associating each SPARQL query with the expected result, </li>\n",
    "<li>and (i) running the SPARQL queries against the ontology and compare actual with expected results.' </li>\n",
    "</ul>\n",
    "\n",
    "##### Reference:\n",
    "Presutti, V., Daga, E., Gangemi, A., & Blomqvist, E. (2009). eXtreme Design with Content Ontology Design Patterns. WOP.  https://dl.acm.org/doi/10.5555/2889761.2889768"
   ]
  },
  {
   "cell_type": "code",
   "execution_count": null,
   "metadata": {},
   "outputs": [],
   "source": []
  }
 ],
 "metadata": {
  "language_info": {
   "name": "python"
  }
 },
 "nbformat": 4,
 "nbformat_minor": 2
}
