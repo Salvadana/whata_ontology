{
 "cells": [
  {
   "cell_type": "markdown",
   "metadata": {},
   "source": [
    "## Test and fix.\n",
    "'An ontology module developed for addressing a certain user story associated to a certain competency question, is tested e.g.\n",
    "<ul>\n",
    "<li>(i) by encoding in the ontology for a sample set of facts based on the user\n",
    "story, </li>\n",
    "<li>(ii) defining one or a set of SPARQL queries that formally encode\n",
    "the competency question, </li>\n",
    "<li>(iii) associating each SPARQL query with the expected result, </li>\n",
    "<li>and (i) running the SPARQL queries against the ontology and compare actual with expected results.' </li>\n",
    "</ul>\n",
    "\n",
    "### Task description\n",
    "\n",
    "'The goal of this task is to validate the resulting module\n",
    "with respect to the CQ just modeled. To this aim, the task is executed through\n",
    "the following steps: \n",
    "- (i) the CQ is elaborated in order to derive a unit test e.g.,\n",
    "SPARQL query;\n",
    "- (ii) the instance module is fed with sample facts based on the\n",
    "story; \n",
    "- (iii) the unit test is ran against the ontology module. If the result is not\n",
    "the expected one i.e. the test is not passed, the module is revised in order to fix\n",
    "it, and the unit test ran again until the test is passed; \n",
    "- (iv) run all other unit\n",
    "tests associated with the story so far until they all pass.'  <br>\n",
    "\n",
    "<br>\n",
    "Reference:<br>\n",
    "Presutti, V., Daga, E., Gangemi, A., & Blomqvist, E. (2009). eXtreme Design with Content Ontology Design Patterns. WOP.  https://dl.acm.org/doi/10.5555/2889761.2889768"
   ]
  },
  {
   "cell_type": "code",
   "execution_count": 145,
   "metadata": {},
   "outputs": [
    {
     "data": {
      "text/plain": [
       "<Graph identifier=N739ec57927bc479a8375ea2c898e5875 (<class 'rdflib.graph.Graph'>)>"
      ]
     },
     "execution_count": 145,
     "metadata": {},
     "output_type": "execute_result"
    }
   ],
   "source": [
    "#%pip install rdflib\n",
    "from rdflib import *\n",
    "whataGraph = Graph()\n",
    "whataGraph.parse(\"../ontology/knowledge_graph.ttl\", format=\"ttl\")"
   ]
  },
  {
   "cell_type": "markdown",
   "metadata": {},
   "source": [
    "## SPARQL queries\n",
    "#### Perspectivisation CQs\n",
    "1. Is whataboutism recognisable as an (or part of an ) act of perspectivisation? Which elements of the cognitive perspectivisation are present and manifest concretely in a whataboutist claim? \n",
    "<br>Expected result: Lens, eventuality, conceptualiser, (cut?)\n"
   ]
  },
  {
   "cell_type": "code",
   "execution_count": 134,
   "metadata": {},
   "outputs": [
    {
     "name": "stdout",
     "output_type": "stream",
     "text": [
      "(rdflib.term.URIRef('https://raw.githubusercontent.com/Salvadana/whata_ontology/main/ontology/whataboutism_ontology.owl#RoomEventuality1'), rdflib.term.URIRef('https://raw.githubusercontent.com/Salvadana/whata_ontology/main/ontology/whataboutism_ontology.owl#WhataboutistLens'), rdflib.term.URIRef('https://raw.githubusercontent.com/Salvadana/whata_ontology/main/ontology/whataboutism_ontology.owl#RoomResponsibilityOwner1'), rdflib.term.URIRef('https://raw.githubusercontent.com/Salvadana/whata_ontology/main/ontology/whataboutism_ontology.owl#WhataboutistAttitude'), rdflib.term.URIRef('https://raw.githubusercontent.com/Salvadana/whata_ontology/main/ontology/whataboutism_ontology.owl#WhataboutistCut'), rdflib.term.URIRef('https://raw.githubusercontent.com/Salvadana/whata_ontology/main/ontology/whataboutism_ontology.owl#RoomEventualityBackground'))\n"
     ]
    }
   ],
   "source": [
    "\n",
    "cq1 = \"\"\"PREFIX whata:<https://raw.githubusercontent.com/Salvadana/whata_ontology/main/ontology/whataboutism_ontology.owl#> \n",
    "    PREFIX rdf: <http://www.w3.org/1999/02/22-rdf-syntax-ns#>\n",
    "    PREFIX per:<http://www.ontologydesignpatterns.org/ont/persp/perspectivisation.owl#>\n",
    "    \n",
    "SELECT  ?eventuality ?lens ?conceptualiser ?attitude ?cut ?background \n",
    "WHERE {\n",
    "  ?s a whata:WhataboutistPerspectivisation.\n",
    "  ?s per:Lens ?lens.\n",
    "  ?s per:Eventuality ?eventuality.\n",
    "  ?s per:Conceptualiser ?conceptualiser.\n",
    "  ?s per:Attitude ?attitude.\n",
    "  ?s per:Cut ?cut.\n",
    "  ?s per:Background ?background.\n",
    "\n",
    "}     \n",
    "\"\"\"\n",
    "results = whataGraph.query(cq1)\n",
    "\n",
    "for row in results:\n",
    "    print(row)\n",
    "    "
   ]
  },
  {
   "cell_type": "markdown",
   "metadata": {},
   "source": [
    "2. Which is the  specific component of the Perspectivisation which is modified by whataboutism? And by the means of which component of perpectivisation does Whataboutism act? <br> expected: Blamable Eventuality, Lens"
   ]
  },
  {
   "cell_type": "code",
   "execution_count": 190,
   "metadata": {},
   "outputs": [
    {
     "name": "stdout",
     "output_type": "stream",
     "text": [
      "(rdflib.term.URIRef('https://raw.githubusercontent.com/Salvadana/whata_ontology/main/ontology/whataboutism_ontology.owl#BlamableEventuality'), rdflib.term.URIRef('https://raw.githubusercontent.com/Salvadana/whata_ontology/main/ontology/whataboutism_ontology.owl#WhataboutistLens'))\n"
     ]
    }
   ],
   "source": [
    "\n",
    "cq2 = \"\"\"PREFIX whata:<https://raw.githubusercontent.com/Salvadana/whata_ontology/main/ontology/whataboutism_ontology.owl#> \n",
    "    PREFIX rdf: <http://www.w3.org/1999/02/22-rdf-syntax-ns#>\n",
    "    PREFIX per:<http://www.ontologydesignpatterns.org/ont/persp/perspectivisation.owl#>\n",
    "    PREFIX owl: <http://www.w3.org/2002/07/owl#>\n",
    "SELECT DISTINCT ?type ?stype\n",
    "WHERE {\n",
    "  ?p a whata:WhataboutistPerspectivisation.\n",
    "  ?p per:Eventuality ?e.\n",
    "   ?e a ?type.\n",
    "   ?s whata:shiftsFocusFrom ?e.\n",
    "   ?s a ?stype.\n",
    "   \n",
    "   FILTER (?type != owl:NamedIndividual)   \n",
    "   FILTER (?stype != owl:NamedIndividual)   \n",
    "  \n",
    "}\n",
    "      \n",
    "\"\"\"\n",
    "results = whataGraph.query(cq2)\n",
    "\n",
    "for row in results:\n",
    "    print(row)\n",
    "    "
   ]
  },
  {
   "cell_type": "markdown",
   "metadata": {},
   "source": [
    "3. What is the action performed by whataboutism on the perspectivised eventuality? <br> expected:Shift Focus"
   ]
  },
  {
   "cell_type": "code",
   "execution_count": 139,
   "metadata": {},
   "outputs": [
    {
     "name": "stdout",
     "output_type": "stream",
     "text": [
      "(rdflib.term.URIRef('https://raw.githubusercontent.com/Salvadana/whata_ontology/main/ontology/whataboutism_ontology.owl#shiftsFocusFrom'),)\n"
     ]
    }
   ],
   "source": [
    "#what does whataboutism do? how it acts in the perspectivisation situation?\n",
    "##WhataboutistLens, #RoomEventuality1', #shiftsFocusFrom')\n",
    "\n",
    "cq3 = \"\"\"PREFIX whata:<https://raw.githubusercontent.com/Salvadana/whata_ontology/main/ontology/whataboutism_ontology.owl#> \n",
    "    PREFIX rdf: <http://www.w3.org/1999/02/22-rdf-syntax-ns#>\n",
    "    PREFIX per:<http://www.ontologydesignpatterns.org/ont/persp/perspectivisation.owl#>\n",
    "SELECT   ?actsUpon\n",
    "WHERE {\n",
    "  ?s a whata:WhataboutistPerspectivisation.\n",
    "  ?s per:Lens ?lens.\n",
    "  ?s per:Eventuality ?eventuality.\n",
    "  ?lens ?actsUpon ?eventuality.\n",
    "}\n",
    "      \n",
    "\"\"\"\n",
    "results = whataGraph.query(cq3)\n",
    "\n",
    "for row in results:\n",
    "    print(row)\n",
    "    "
   ]
  },
  {
   "cell_type": "code",
   "execution_count": 140,
   "metadata": {},
   "outputs": [
    {
     "name": "stdout",
     "output_type": "stream",
     "text": [
      "(rdflib.term.URIRef('http://www.w3.org/1999/02/22-rdf-syntax-ns#type'),)\n",
      "(rdflib.term.URIRef('http://www.w3.org/1999/02/22-rdf-syntax-ns#type'),)\n",
      "(rdflib.term.URIRef('https://raw.githubusercontent.com/Salvadana/whata_ontology/main/ontology/whataboutism_ontology.owl#createsBlended'),)\n",
      "(rdflib.term.URIRef('https://raw.githubusercontent.com/Salvadana/whata_ontology/main/ontology/whataboutism_ontology.owl#shiftsFocusFrom'),)\n",
      "(rdflib.term.URIRef('https://raw.githubusercontent.com/Salvadana/whata_ontology/main/ontology/whataboutism_ontology.owl#shiftsFocusOn'),)\n"
     ]
    }
   ],
   "source": [
    "#what does whataboutism do? how it acts in the perspectivisation situation?\n",
    "##WhataboutistLens, #RoomEventuality1', #shiftsFocusFrom')\n",
    "\n",
    "cq3_a = \"\"\"PREFIX whata:<https://raw.githubusercontent.com/Salvadana/whata_ontology/main/ontology/whataboutism_ontology.owl#> \n",
    "    PREFIX rdf: <http://www.w3.org/1999/02/22-rdf-syntax-ns#>\n",
    "    PREFIX per:<http://www.ontologydesignpatterns.org/ont/persp/perspectivisation.owl#>\n",
    "SELECT   ?actsUpon\n",
    "WHERE {\n",
    "  ?s a whata:WhataboutistPerspectivisation.\n",
    "  ?s per:Lens ?lens.\n",
    "  \n",
    "  ?lens ?actsUpon ?eventuality.\n",
    "}\n",
    "      \n",
    "\"\"\"\n",
    "results = whataGraph.query(cq3_a)\n",
    "\n",
    "for row in results:\n",
    "    print(row)\n",
    "    "
   ]
  },
  {
   "cell_type": "markdown",
   "metadata": {},
   "source": [
    "#### Linguistic Features CQs"
   ]
  },
  {
   "cell_type": "markdown",
   "metadata": {},
   "source": [
    "4. Which linguistic elements do denote whataboutism? <br>\n",
    "expected result: string with pattern, string with sentence"
   ]
  },
  {
   "cell_type": "code",
   "execution_count": 146,
   "metadata": {},
   "outputs": [
    {
     "name": "stdout",
     "output_type": "stream",
     "text": [
      "(rdflib.term.Literal('what about'), rdflib.term.Literal('That’s not fair! What about Bobby? His room is just as bad as mine and you’ve let him go out to his friend’s. You’re so unreasonable, it’s always one rule for him and another for me. I’m not doing it.'))\n"
     ]
    }
   ],
   "source": [
    "# Which linguistic elements do denote whataboutism?\n",
    "#expected result: string with pattern, string with sentence\n",
    "cq4 = \"\"\"PREFIX whata:<https://raw.githubusercontent.com/Salvadana/whata_ontology/main/ontology/whataboutism_ontology.owl#> \n",
    "    PREFIX rdf: <http://www.w3.org/1999/02/22-rdf-syntax-ns#>\n",
    "SELECT  ?pattern ?sentence\n",
    "WHERE {\n",
    "  ?s a whata:WhataboutistPerspectivisation;\n",
    "    \n",
    "   whata:relatedIdentifyingPattern ?pattern;\n",
    "   whata:relatedSentence ?sentence.\n",
    "}\n",
    "      \n",
    "\"\"\"\n",
    "results = whataGraph.query(cq4)\n",
    "\n",
    "for row in results:\n",
    "    print(row)\n",
    "    "
   ]
  },
  {
   "cell_type": "markdown",
   "metadata": {},
   "source": [
    "#### Blaming Situation"
   ]
  },
  {
   "cell_type": "markdown",
   "metadata": {},
   "source": [
    "5. On which kind of situation does Whataboutism act? <br>\n",
    "expected: Blamable Eventuality"
   ]
  },
  {
   "cell_type": "code",
   "execution_count": 147,
   "metadata": {},
   "outputs": [
    {
     "name": "stdout",
     "output_type": "stream",
     "text": [
      "(rdflib.term.URIRef('http://www.w3.org/2002/07/owl#NamedIndividual'),)\n",
      "(rdflib.term.URIRef('https://raw.githubusercontent.com/Salvadana/whata_ontology/main/ontology/whataboutism_ontology.owl#BlamableEventuality'),)\n"
     ]
    }
   ],
   "source": [
    "\n",
    "\n",
    "#- Which kind of situation is the one involved in Whataboutism?\n",
    "\n",
    "cq5 = \"\"\"\n",
    "    PREFIX whata:<https://raw.githubusercontent.com/Salvadana/whata_ontology/main/ontology/whataboutism_ontology.owl#> \n",
    "    PREFIX rdf: <http://www.w3.org/1999/02/22-rdf-syntax-ns#>\n",
    "    SELECT DISTINCT ?situation \n",
    "   WHERE {\n",
    "       whata:WhataboutistLens whata:shiftsFocusFrom ?o.\n",
    "       whata:WhataboutistLens whata:shiftsFocusOn ?o2.\n",
    "       ?o a ?situation.\n",
    "       ?o2 a ?situation.\n",
    "        }\n",
    "\"\"\"\n",
    "results = whataGraph.query(cq5)\n",
    "\n",
    "for row in results:\n",
    "    print(row)\n",
    "    \n",
    "\n",
    "\n",
    "    "
   ]
  },
  {
   "cell_type": "markdown",
   "metadata": {},
   "source": [
    "\n",
    "6.  Do these blamable eventualities perspectivised by whataboutism all correspond to a common description? And if so, which is this description?\n",
    "<br> Expected:  Yes/True, Blaming\n"
   ]
  },
  {
   "cell_type": "code",
   "execution_count": 148,
   "metadata": {},
   "outputs": [
    {
     "name": "stdout",
     "output_type": "stream",
     "text": [
      "(rdflib.term.URIRef('https://raw.githubusercontent.com/Salvadana/whata_ontology/main/ontology/whataboutism_ontology.owl#BlamingFrameDescription'),)\n"
     ]
    }
   ],
   "source": [
    "#- Which kind of situation is the one involved in Whataboutism?\n",
    "# - What entities are involved in the blaming situation?\n",
    "cq6 = '''\n",
    "PREFIX whata: <https://raw.githubusercontent.com/Salvadana/whata_ontology/main/ontology/whataboutism_ontology.owl#>\n",
    "PREFIX owl: <http://www.w3.org/2002/07/owl#>\n",
    "PREFIX dcterms: <http://purl.org/dc/terms/>\n",
    "PREFIX dns: <http://www.ontologydesignpatterns.org/cp/owl/description.owl#>\n",
    "\n",
    "SELECT ?description\n",
    "WHERE {\n",
    "whata:WhataboutistLens whata:shiftsFocusFrom ?o.\n",
    "  ?o dns:satisfies ?description .\n",
    "}\n",
    "\n",
    "'''\n",
    "results = whataGraph.query(cq6)\n",
    "\n",
    "for row in results:\n",
    "    print(row)\n",
    "    "
   ]
  },
  {
   "cell_type": "markdown",
   "metadata": {},
   "source": [
    " 7. What entities are involved in the blaming situation?\n",
    " <br> Expected: responsibility owner, ought"
   ]
  },
  {
   "cell_type": "code",
   "execution_count": 149,
   "metadata": {},
   "outputs": [
    {
     "name": "stdout",
     "output_type": "stream",
     "text": [
      "(rdflib.term.URIRef('https://raw.githubusercontent.com/Salvadana/whata_ontology/main/ontology/whataboutism_ontology.owl#RoomResponsibilityOwner1'),)\n",
      "(rdflib.term.URIRef('https://raw.githubusercontent.com/Salvadana/whata_ontology/main/ontology/whataboutism_ontology.owl#TidyingRoomOught'),)\n",
      "(rdflib.term.URIRef('https://raw.githubusercontent.com/Salvadana/whata_ontology/main/ontology/whataboutism_ontology.owl#RoomResponsibilityOwner2'),)\n"
     ]
    }
   ],
   "source": [
    "\n",
    "# - What entities are involved in the blaming situation?\n",
    "cq7 = \"\"\"\n",
    "    PREFIX whata:<https://raw.githubusercontent.com/Salvadana/whata_ontology/main/ontology/whataboutism_ontology.owl#> \n",
    "    PREFIX rdf: <http://www.w3.org/1999/02/22-rdf-syntax-ns#>\n",
    "    SELECT DISTINCT ?s\n",
    "   WHERE {\n",
    "       ?s whata:isParticipantIn ?blamable.\n",
    "       ?blamable a whata:BlamableEventuality.\n",
    "        }\n",
    "\"\"\"\n",
    "results = whataGraph.query(cq7)\n",
    "\n",
    "for row in results:\n",
    "    print(row)\n",
    "    "
   ]
  },
  {
   "cell_type": "markdown",
   "metadata": {},
   "source": [
    "Further tests on CQ7: <br>\n",
    "- does a blamable eventuality involve an ought and a responsibility owner?\n",
    "<br>expected: True"
   ]
  },
  {
   "cell_type": "code",
   "execution_count": 150,
   "metadata": {},
   "outputs": [
    {
     "name": "stdout",
     "output_type": "stream",
     "text": [
      "True\n"
     ]
    }
   ],
   "source": [
    "\n",
    "#what does a blamable eventuality involve?\n",
    "cq7_a = \"\"\"PREFIX whata:<https://raw.githubusercontent.com/Salvadana/whata_ontology/main/ontology/whataboutism_ontology.owl#> \n",
    "    PREFIX rdf: <http://www.w3.org/1999/02/22-rdf-syntax-ns#>\n",
    "    PREFIX per:<http://www.ontologydesignpatterns.org/ont/persp/perspectivisation.owl#>\n",
    "ASK\n",
    "WHERE {\n",
    "  ?s whata:isParticipantIn ?blamable.\n",
    "  ?blamable a whata:BlamableEventuality.\n",
    "  ?s a whata:Ought.\n",
    "}\n",
    "      \n",
    "\"\"\"\n",
    "results = whataGraph.query(cq7_a)\n",
    "\n",
    "for row in results:\n",
    "    print(row)\n",
    "    "
   ]
  },
  {
   "cell_type": "code",
   "execution_count": 151,
   "metadata": {},
   "outputs": [
    {
     "name": "stdout",
     "output_type": "stream",
     "text": [
      "True\n"
     ]
    }
   ],
   "source": [
    "\n",
    "#what does a blamable eventuality involve?\n",
    "cq7_b = \"\"\"PREFIX whata:<https://raw.githubusercontent.com/Salvadana/whata_ontology/main/ontology/whataboutism_ontology.owl#> \n",
    "    PREFIX rdf: <http://www.w3.org/1999/02/22-rdf-syntax-ns#>\n",
    "    PREFIX per:<http://www.ontologydesignpatterns.org/ont/persp/perspectivisation.owl#>\n",
    "ASK\n",
    "WHERE {\n",
    "  ?s whata:isParticipantIn ?blamable.\n",
    "  ?blamable a whata:BlamableEventuality.\n",
    "  ?s a whata:ResponsibilityOwner.\n",
    "}\n",
    "      \n",
    "\"\"\"\n",
    "results = whataGraph.query(cq7_b)\n",
    "\n",
    "for row in results:\n",
    "    print(row)\n",
    "    "
   ]
  },
  {
   "cell_type": "markdown",
   "metadata": {},
   "source": [
    "query with result Responsibility owner acts again ought<br>expected: Responsibility Owner1/2, TidyingRoom"
   ]
  },
  {
   "cell_type": "code",
   "execution_count": 152,
   "metadata": {},
   "outputs": [
    {
     "name": "stdout",
     "output_type": "stream",
     "text": [
      "(rdflib.term.URIRef('https://raw.githubusercontent.com/Salvadana/whata_ontology/main/ontology/whataboutism_ontology.owl#RoomResponsibilityOwner1'), rdflib.term.URIRef('https://raw.githubusercontent.com/Salvadana/whata_ontology/main/ontology/whataboutism_ontology.owl#TidyingRoomOught'))\n",
      "(rdflib.term.URIRef('https://raw.githubusercontent.com/Salvadana/whata_ontology/main/ontology/whataboutism_ontology.owl#RoomResponsibilityOwner2'), rdflib.term.URIRef('https://raw.githubusercontent.com/Salvadana/whata_ontology/main/ontology/whataboutism_ontology.owl#TidyingRoomOught'))\n"
     ]
    }
   ],
   "source": [
    "#query with result Responsibility owner acts again ought\n",
    "cq='''SELECT ?responsibilityOwner ?ought\n",
    "WHERE {\n",
    "  ?responsibilityOwner rdf:type :ResponsibilityOwner ;\n",
    "                       :actsAgainst ?ought .\n",
    "}\n",
    "\n",
    "'''\n",
    "results = whataGraph.query(cq)\n",
    "\n",
    "for row in results:\n",
    "    print(row)"
   ]
  },
  {
   "cell_type": "markdown",
   "metadata": {},
   "source": [
    "#### Blending\n",
    "\n",
    "8. Does Whataboutism act accordingly to the Conceptual Blanding Theory? I.e. Does it blend some elements? <br> Expected result:True"
   ]
  },
  {
   "cell_type": "code",
   "execution_count": 158,
   "metadata": {},
   "outputs": [
    {
     "name": "stdout",
     "output_type": "stream",
     "text": [
      "True\n"
     ]
    }
   ],
   "source": [
    "\n",
    "\n",
    "cq8 = \"\"\"PREFIX whata:<https://raw.githubusercontent.com/Salvadana/whata_ontology/main/ontology/whataboutism_ontology.owl#> \n",
    "    PREFIX rdf: <http://www.w3.org/1999/02/22-rdf-syntax-ns#>\n",
    "    PREFIX per:<http://www.ontologydesignpatterns.org/ont/persp/perspectivisation.owl#>\n",
    "ASK\n",
    "WHERE {\n",
    "  ?s a whata:WhataboutistPerspectivisation.\n",
    "  ?s whata:createsBlended ?o.\n",
    "}\n",
    "      \n",
    "\"\"\"\n",
    "results = whataGraph.query(cq8)\n",
    "\n",
    "for row in results:\n",
    "    print(row)\n",
    "    "
   ]
  },
  {
   "cell_type": "markdown",
   "metadata": {},
   "source": [
    "9. Which kind of elements are blended together by whataboutism? i.e. which are the blendable elements involved?"
   ]
  },
  {
   "cell_type": "code",
   "execution_count": 162,
   "metadata": {},
   "outputs": [
    {
     "name": "stdout",
     "output_type": "stream",
     "text": [
      "(rdflib.term.URIRef('https://raw.githubusercontent.com/Salvadana/whata_ontology/main/ontology/whataboutism_ontology.owl#BlamingFrameDescription'),)\n"
     ]
    }
   ],
   "source": [
    "\n",
    "#what does a blamable eventuality involve?\n",
    "cq9 = \"\"\"PREFIX whata:<https://raw.githubusercontent.com/Salvadana/whata_ontology/main/ontology/whataboutism_ontology.owl#> \n",
    "    PREFIX rdf: <http://www.w3.org/1999/02/22-rdf-syntax-ns#>\n",
    "    PREFIX per:<http://www.ontologydesignpatterns.org/ont/persp/perspectivisation.owl#>\n",
    "    PREFIX dns: <http://www.ontologydesignpatterns.org/cp/owl/description.owl#>\n",
    "SELECT ?d\n",
    "WHERE {\n",
    "  ?s a whata:WhataboutistPerspectivisation.\n",
    "  ?s whata:createsBlended ?o.\n",
    "  ?o dns:satisfies ?d.\n",
    "\n",
    "}\n",
    "      \n",
    "\"\"\"\n",
    "results = whataGraph.query(cq9)\n",
    "\n",
    "for row in results:\n",
    "    print(row)\n",
    "    "
   ]
  },
  {
   "cell_type": "markdown",
   "metadata": {},
   "source": [
    "10. which is the resulting Blanded Element?"
   ]
  },
  {
   "cell_type": "code",
   "execution_count": 163,
   "metadata": {},
   "outputs": [
    {
     "name": "stdout",
     "output_type": "stream",
     "text": [
      "(rdflib.term.URIRef('http://www.w3.org/2002/07/owl#NamedIndividual'),)\n",
      "(rdflib.term.URIRef('https://raw.githubusercontent.com/Salvadana/whata_ontology/main/ontology/whataboutism_ontology.owl#BlandedBlameFrame'),)\n"
     ]
    }
   ],
   "source": [
    "\n",
    "\n",
    "cq10 = \"\"\"PREFIX whata:<https://raw.githubusercontent.com/Salvadana/whata_ontology/main/ontology/whataboutism_ontology.owl#> \n",
    "    PREFIX rdf: <http://www.w3.org/1999/02/22-rdf-syntax-ns#>\n",
    "    PREFIX per:<http://www.ontologydesignpatterns.org/ont/persp/perspectivisation.owl#>\n",
    "SELECT ?type\n",
    "WHERE {\n",
    "  ?s a whata:WhataboutistPerspectivisation.\n",
    "  ?s whata:createsBlended ?o.\n",
    "  ?o a ?type.\n",
    "\n",
    "}\n",
    "      \n",
    "\"\"\"\n",
    "results = whataGraph.query(cq10)\n",
    "\n",
    "for row in results:\n",
    "    print(row)\n",
    "    "
   ]
  },
  {
   "cell_type": "markdown",
   "metadata": {},
   "source": [
    "#### Whataboutism usage\n",
    "11. Is the arguer being whataboutist? I.e. is this situation an example of whataboutism?"
   ]
  },
  {
   "cell_type": "code",
   "execution_count": 168,
   "metadata": {},
   "outputs": [
    {
     "name": "stdout",
     "output_type": "stream",
     "text": [
      "True\n"
     ]
    }
   ],
   "source": [
    "cq='''PREFIX whata: <https://raw.githubusercontent.com/Salvadana/whata_ontology/main/ontology/whataboutism_ontology.owl#>\n",
    "PREFIX owl: <http://www.w3.org/2002/07/owl#>\n",
    "PREFIX rdf: <http://www.w3.org/1999/02/22-rdf-syntax-ns#>\n",
    "PREFIX rdfs: <http://www.w3.org/2000/01/rdf-schema#>\n",
    "PREFIX per:<http://www.ontologydesignpatterns.org/ont/persp/perspectivisation.owl#>\n",
    "ASK \n",
    "WHERE{ ?p per:Lens ?lens.\n",
    "        ?lens a whata:WhataboutistLens. }\n",
    "\n",
    "  \n",
    "'''\n",
    "results = whataGraph.query(cq)\n",
    "\n",
    "for row in results:\n",
    "    print(row)"
   ]
  },
  {
   "cell_type": "markdown",
   "metadata": {},
   "source": [
    "#### Fallacies and Biases connections with whataboutism"
   ]
  },
  {
   "cell_type": "markdown",
   "metadata": {},
   "source": [
    "12. Is whataboutism connected to any discourse fallacies? And to which kind? By means of what feature?\n",
    "<br> Expected: Relevance Fallacies, Lens"
   ]
  },
  {
   "cell_type": "code",
   "execution_count": 169,
   "metadata": {},
   "outputs": [
    {
     "name": "stdout",
     "output_type": "stream",
     "text": [
      "(rdflib.term.URIRef('https://raw.githubusercontent.com/Salvadana/whata_ontology/main/ontology/whataboutism_ontology.owl#FallacyLens'),)\n"
     ]
    }
   ],
   "source": [
    "cq12='''PREFIX : <https://raw.githubusercontent.com/Salvadana/whata_ontology/main/ontology/whataboutism_ontology.owl#>\n",
    "PREFIX rdf: <http://www.w3.org/1999/02/22-rdf-syntax-ns#>\n",
    "\n",
    "SELECT ?relatedLens\n",
    "WHERE {\n",
    "  ?relatedLens :relatedToLens :WhataboutistLens .\n",
    "  ?relatedLens rdf:type :RelevanceFallacyLens .\n",
    "}'''\n",
    "results = whataGraph.query(cq12)\n",
    "\n",
    "for row in results:\n",
    "    print(row)"
   ]
  },
  {
   "cell_type": "markdown",
   "metadata": {},
   "source": [
    "13.  Is whataboutism connected to any Cognitive Bias? And to which kind? By means of what feature?\n",
    "<br> Expected: Confirmation Bias, Lens"
   ]
  },
  {
   "cell_type": "code",
   "execution_count": 170,
   "metadata": {},
   "outputs": [
    {
     "name": "stdout",
     "output_type": "stream",
     "text": [
      "(rdflib.term.URIRef('https://raw.githubusercontent.com/Salvadana/whata_ontology/main/ontology/whataboutism_ontology.owl#BiasLens'),)\n"
     ]
    }
   ],
   "source": [
    "cq13='''PREFIX : <https://raw.githubusercontent.com/Salvadana/whata_ontology/main/ontology/whataboutism_ontology.owl#>\n",
    "PREFIX rdf: <http://www.w3.org/1999/02/22-rdf-syntax-ns#>\n",
    "\n",
    "SELECT ?relatedLens\n",
    "WHERE {\n",
    "  ?relatedLens :relatedToLens :WhataboutistLens .\n",
    "  ?relatedLens rdf:type :ConfirmationBiasLens .\n",
    "}'''\n",
    "results = whataGraph.query(cq13)\n",
    "\n",
    "for row in results:\n",
    "    print(row)"
   ]
  },
  {
   "cell_type": "markdown",
   "metadata": {},
   "source": []
  }
 ],
 "metadata": {
  "kernelspec": {
   "display_name": "Python 3",
   "language": "python",
   "name": "python3"
  },
  "language_info": {
   "codemirror_mode": {
    "name": "ipython",
    "version": 3
   },
   "file_extension": ".py",
   "mimetype": "text/x-python",
   "name": "python",
   "nbconvert_exporter": "python",
   "pygments_lexer": "ipython3",
   "version": "3.10.0"
  }
 },
 "nbformat": 4,
 "nbformat_minor": 2
}
