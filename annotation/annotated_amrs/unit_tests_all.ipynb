{
 "cells": [
  {
   "cell_type": "markdown",
   "metadata": {},
   "source": [
    "## Test and fix.\n",
    "'An ontology module developed for addressing a certain user story associated to a certain competency question, is tested e.g.\n",
    "\n",
    "- (i) by encoding in the ontology for a sample set of facts based on the user\n",
    "story, \n",
    "- (ii) defining one or a set of SPARQL queries that formally encode\n",
    "the competency question, \n",
    "- (iii) associating each SPARQL query with the expected result, \n",
    "- and (i) running the SPARQL queries against the ontology and compare actual with expected results.' \n",
    "\n",
    "### Task description\n",
    "\n",
    "'The goal of this task is to validate the resulting module\n",
    "with respect to the CQ just modeled. To this aim, the task is executed through\n",
    "the following steps: \n",
    "- (i) the CQ is elaborated in order to derive a unit test e.g.,\n",
    "SPARQL query;\n",
    "- (ii) the instance module is fed with sample facts based on the\n",
    "story; \n",
    "- (iii) the unit test is ran against the ontology module. If the result is not\n",
    "the expected one i.e. the test is not passed, the module is revised in order to fix\n",
    "it, and the unit test ran again until the test is passed; \n",
    "- (iv) run all other unit\n",
    "tests associated with the story so far until they all pass.'  <br>\n",
    "\n",
    "<br>\n",
    "Reference:<br>\n",
    "Presutti, V., Daga, E., Gangemi, A., & Blomqvist, E. (2009). eXtreme Design with Content Ontology Design Patterns. WOP.  https://dl.acm.org/doi/10.5555/2889761.2889768"
   ]
  },
  {
   "cell_type": "code",
   "execution_count": 44,
   "metadata": {},
   "outputs": [
    {
     "name": "stdout",
     "output_type": "stream",
     "text": [
      "Defaulting to user installation because normal site-packages is not writeable\n",
      "Requirement already satisfied: rdflib in c:\\users\\lored\\appdata\\roaming\\python\\python310\\site-packages (6.1.1)\n",
      "Requirement already satisfied: isodate in c:\\users\\lored\\appdata\\roaming\\python\\python310\\site-packages (from rdflib) (0.6.1)\n",
      "Requirement already satisfied: pyparsing in c:\\users\\lored\\appdata\\roaming\\python\\python310\\site-packages (from rdflib) (3.0.7)\n",
      "Requirement already satisfied: setuptools in c:\\program files\\python310\\lib\\site-packages (from rdflib) (57.4.0)\n",
      "Requirement already satisfied: six in c:\\users\\lored\\appdata\\roaming\\python\\python310\\site-packages (from isodate->rdflib) (1.16.0)\n",
      "Note: you may need to restart the kernel to use updated packages.\n"
     ]
    },
    {
     "data": {
      "text/plain": [
       "<Graph identifier=Nb8fc25ac91734a7b8a8ddc151b793436 (<class 'rdflib.graph.Graph'>)>"
      ]
     },
     "execution_count": 44,
     "metadata": {},
     "output_type": "execute_result"
    }
   ],
   "source": [
    "%pip install rdflib\n",
    "from rdflib import *\n",
    "whataGraph = Graph()\n",
    "whataGraph.parse(\"annotated_amrs.ttl\", format=\"ttl\")"
   ]
  },
  {
   "cell_type": "markdown",
   "metadata": {},
   "source": [
    "## SPARQL queries\n",
    "#### Perspectivisation CQs\n",
    "1. Is whataboutism recognisable as an (or part of an ) act of perspectivisation?     \n",
    "<br>Expected result: perspectivisation 1, 2, 3, 4, 5\n"
   ]
  },
  {
   "cell_type": "code",
   "execution_count": 2,
   "metadata": {},
   "outputs": [
    {
     "name": "stdout",
     "output_type": "stream",
     "text": [
      "(rdflib.term.URIRef('https://raw.githubusercontent.com/Salvadana/whata_ontology/main/ontology_development/whata_ontology.owl#perspectivisation_1'),)\n",
      "(rdflib.term.URIRef('https://raw.githubusercontent.com/Salvadana/whata_ontology/main/ontology_development/whata_ontology.owl#perspectivisation_2'),)\n",
      "(rdflib.term.URIRef('https://raw.githubusercontent.com/Salvadana/whata_ontology/main/ontology_development/whata_ontology.owl#perspectivisation_3'),)\n",
      "(rdflib.term.URIRef('https://raw.githubusercontent.com/Salvadana/whata_ontology/main/ontology_development/whata_ontology.owl#perspectivisation_4'),)\n",
      "(rdflib.term.URIRef('https://raw.githubusercontent.com/Salvadana/whata_ontology/main/ontology_development/whata_ontology.owl#perspectivisation_5'),)\n",
      "(rdflib.term.URIRef('https://raw.githubusercontent.com/Salvadana/whata_ontology/main/ontology_development/whata_ontology.owl#perspectivisation_6'),)\n",
      "(rdflib.term.URIRef('https://raw.githubusercontent.com/Salvadana/whata_ontology/main/ontology_development/whata_ontology.owl#perspectivisation_7'),)\n",
      "(rdflib.term.URIRef('https://raw.githubusercontent.com/Salvadana/whata_ontology/main/ontology_development/whata_ontology.owl#perspectivisation_8'),)\n",
      "(rdflib.term.URIRef('https://raw.githubusercontent.com/Salvadana/whata_ontology/main/ontology_development/whata_ontology.owl#perspectivisation_9'),)\n",
      "(rdflib.term.URIRef('https://raw.githubusercontent.com/Salvadana/whata_ontology/main/ontology_development/whata_ontology.owl#perspectivisation_10'),)\n"
     ]
    }
   ],
   "source": [
    "\n",
    "cq1 = \"\"\"PREFIX whata:<https://raw.githubusercontent.com/Salvadana/whata_ontology/main/ontology_development/whata_ontology.owl#> \n",
    "    PREFIX rdf: <http://www.w3.org/1999/02/22-rdf-syntax-ns#>\n",
    "    PREFIX per:<http://www.ontologydesignpatterns.org/ont/persp/perspectivisation.owl#>\n",
    "    \n",
    "SELECT  ?perspectivisation\n",
    "WHERE {\n",
    "  ?perspectivisation a whata:WhataboutistPerspectivisation;\n",
    "      per:Eventuality ?eventuality;\n",
    "     per:Lens ?lens;\n",
    "     per:Background ?background;\n",
    "     per:Cut ?cut.\n",
    "}     \n",
    "\"\"\"\n",
    "results = whataGraph.query(cq1)\n",
    "\n",
    "for row in results:\n",
    "    print(row)\n",
    "    "
   ]
  },
  {
   "cell_type": "markdown",
   "metadata": {},
   "source": [
    "2. By the means of which component of perpectivisation does Whataboutism act? The aim is retrieving the entities that are responsible in the focus shifting action within a cognitiveperspectivisation. <br> Expected result: the lenses look_1, contrast_1 (used in 4 different perspectivisations), doubt_1 and equal_1, raise_1, doubt_1, lens_8."
   ]
  },
  {
   "cell_type": "code",
   "execution_count": 45,
   "metadata": {},
   "outputs": [
    {
     "name": "stdout",
     "output_type": "stream",
     "text": [
      "(rdflib.term.URIRef('http://www.ontologydesignpatterns.org/ont/fred/domain.owl#look_1'),)\n",
      "(rdflib.term.URIRef('http://www.ontologydesignpatterns.org/ont/fred/domain.owl#contrast_1'),)\n",
      "(rdflib.term.URIRef('http://www.ontologydesignpatterns.org/ont/fred/domain.owl#doubt_1'),)\n",
      "(rdflib.term.URIRef('http://www.ontologydesignpatterns.org/ont/fred/domain.owl#contrast_1'),)\n",
      "(rdflib.term.URIRef('http://www.ontologydesignpatterns.org/ont/fred/domain.owl#equal_1'),)\n",
      "(rdflib.term.URIRef('http://www.ontologydesignpatterns.org/ont/fred/domain.owl#raise_1'),)\n",
      "(rdflib.term.URIRef('http://www.ontologydesignpatterns.org/ont/fred/domain.owl#doubt_1'),)\n",
      "(rdflib.term.URIRef('https://raw.githubusercontent.com/Salvadana/whata_ontology/main/ontology_development/whata_ontology.owl#lens_8'),)\n",
      "(rdflib.term.URIRef('http://www.ontologydesignpatterns.org/ont/fred/domain.owl#contrast_1'),)\n",
      "(rdflib.term.URIRef('http://www.ontologydesignpatterns.org/ont/fred/domain.owl#infer_1'),)\n"
     ]
    }
   ],
   "source": [
    "\n",
    "cq2 = \"\"\"PREFIX whata:<https://raw.githubusercontent.com/Salvadana/whata_ontology/main/ontology_development/whata_ontology.owl#> \n",
    "    PREFIX rdf: <http://www.w3.org/1999/02/22-rdf-syntax-ns#>\n",
    "    PREFIX per:<http://www.ontologydesignpatterns.org/ont/persp/perspectivisation.owl#>\n",
    "    PREFIX owl: <http://www.w3.org/2002/07/owl#>\n",
    "SELECT ?lens\n",
    "WHERE {\n",
    "  ?p a whata:WhataboutistPerspectivisation.\n",
    "  ?p per:Eventuality ?e.\n",
    "  ?lens whata:shiftsFocusFrom ?e.\n",
    "  \n",
    "}\n",
    "      \n",
    "\"\"\"\n",
    "results = whataGraph.query(cq2)\n",
    "\n",
    "for row in results:\n",
    "    print(row)\n",
    "    "
   ]
  },
  {
   "cell_type": "markdown",
   "metadata": {},
   "source": [
    "2a. Which elements does the lens shot?\n",
    "Expected: Sample Counter Blamable elements: conjunct_1, consume_1, crime_2, emit_2, bad_1, take-away_1, car_1, AlsoBigot, kill_2, case_1"
   ]
  },
  {
   "cell_type": "code",
   "execution_count": 4,
   "metadata": {},
   "outputs": [
    {
     "name": "stdout",
     "output_type": "stream",
     "text": [
      "(rdflib.term.URIRef('http://www.ontologydesignpatterns.org/ont/fred/domain.owl#conjunct_1'),)\n",
      "(rdflib.term.URIRef('http://www.ontologydesignpatterns.org/ont/fred/domain.owl#consume_1'),)\n",
      "(rdflib.term.URIRef('http://www.ontologydesignpatterns.org/ont/fred/domain.owl#crime_2'),)\n",
      "(rdflib.term.URIRef('http://www.ontologydesignpatterns.org/ont/fred/domain.owl#kill_2'),)\n",
      "(rdflib.term.URIRef('http://www.ontologydesignpatterns.org/ont/fred/domain.owl#emit_2'),)\n",
      "(rdflib.term.URIRef('http://www.ontologydesignpatterns.org/ont/fred/domain.owl#take-away_1'),)\n",
      "(rdflib.term.URIRef('http://www.ontologydesignpatterns.org/ont/fred/domain.owl#bad_1'),)\n",
      "(rdflib.term.URIRef('http://www.ontologydesignpatterns.org/ont/fred/domain.owl#case_1'),)\n",
      "(rdflib.term.URIRef('http://www.ontologydesignpatterns.org/ont/fred/domain.owl#car_1'),)\n",
      "(rdflib.term.URIRef('http://www.ontologydesignpatterns.org/ont/fred/domain.owl#AlsoBigot'),)\n"
     ]
    }
   ],
   "source": [
    "\n",
    "cq2a = \"\"\"PREFIX whata:<https://raw.githubusercontent.com/Salvadana/whata_ontology/main/ontology_development/whata_ontology.owl#> \n",
    "    PREFIX rdf: <http://www.w3.org/1999/02/22-rdf-syntax-ns#>\n",
    "    PREFIX per:<http://www.ontologydesignpatterns.org/ont/persp/perspectivisation.owl#>\n",
    "    PREFIX owl: <http://www.w3.org/2002/07/owl#>\n",
    "SELECT ?cut\n",
    "WHERE {\n",
    "  \n",
    "   ?cut per:shotThrough ?lens.\n",
    "  \n",
    "}\n",
    "      \n",
    "\"\"\"\n",
    "results = whataGraph.query(cq2a)\n",
    "\n",
    "for row in results:\n",
    "    print(row)\n",
    "    "
   ]
  },
  {
   "cell_type": "markdown",
   "metadata": {},
   "source": [
    "3. What is the action performed by whataboutism on the main perspectivised eventuality? <br> Expected: the 'Shift Focus From' property for each of the perspectivisation acts (+ evental properties linking the elements annotated as lenses to the elements annotated as eventualities in the amr produced by Arco)"
   ]
  },
  {
   "cell_type": "code",
   "execution_count": 5,
   "metadata": {},
   "outputs": [
    {
     "name": "stdout",
     "output_type": "stream",
     "text": [
      "(rdflib.term.URIRef('https://raw.githubusercontent.com/Salvadana/whata_ontology/main/ontology_development/whata_ontology.owl#perspectivisation_1'), rdflib.term.URIRef('https://raw.githubusercontent.com/Salvadana/whata_ontology/main/ontology_development/whata_ontology.owl#shiftsFocusFrom'))\n",
      "(rdflib.term.URIRef('https://raw.githubusercontent.com/Salvadana/whata_ontology/main/ontology_development/whata_ontology.owl#perspectivisation_2'), rdflib.term.URIRef('https://raw.githubusercontent.com/Salvadana/whata_ontology/main/ontology_development/whata_ontology.owl#shiftsFocusFrom'))\n",
      "(rdflib.term.URIRef('https://raw.githubusercontent.com/Salvadana/whata_ontology/main/ontology_development/whata_ontology.owl#perspectivisation_2'), rdflib.term.URIRef('https://w3id.org/framester/pb/localrole/second_item_in_comparison'))\n",
      "(rdflib.term.URIRef('https://raw.githubusercontent.com/Salvadana/whata_ontology/main/ontology_development/whata_ontology.owl#perspectivisation_3'), rdflib.term.URIRef('https://raw.githubusercontent.com/Salvadana/whata_ontology/main/ontology_development/whata_ontology.owl#shiftsFocusFrom'))\n",
      "(rdflib.term.URIRef('https://raw.githubusercontent.com/Salvadana/whata_ontology/main/ontology_development/whata_ontology.owl#perspectivisation_4'), rdflib.term.URIRef('https://raw.githubusercontent.com/Salvadana/whata_ontology/main/ontology_development/whata_ontology.owl#shiftsFocusFrom'))\n",
      "(rdflib.term.URIRef('https://raw.githubusercontent.com/Salvadana/whata_ontology/main/ontology_development/whata_ontology.owl#perspectivisation_5'), rdflib.term.URIRef('https://raw.githubusercontent.com/Salvadana/whata_ontology/main/ontology_development/whata_ontology.owl#shiftsFocusFrom'))\n",
      "(rdflib.term.URIRef('https://raw.githubusercontent.com/Salvadana/whata_ontology/main/ontology_development/whata_ontology.owl#perspectivisation_6'), rdflib.term.URIRef('https://raw.githubusercontent.com/Salvadana/whata_ontology/main/ontology_development/whata_ontology.owl#shiftsFocusFrom'))\n",
      "(rdflib.term.URIRef('https://raw.githubusercontent.com/Salvadana/whata_ontology/main/ontology_development/whata_ontology.owl#perspectivisation_7'), rdflib.term.URIRef('https://raw.githubusercontent.com/Salvadana/whata_ontology/main/ontology_development/whata_ontology.owl#shiftsFocusFrom'))\n",
      "(rdflib.term.URIRef('https://raw.githubusercontent.com/Salvadana/whata_ontology/main/ontology_development/whata_ontology.owl#perspectivisation_8'), rdflib.term.URIRef('https://raw.githubusercontent.com/Salvadana/whata_ontology/main/ontology_development/whata_ontology.owl#shiftsFocusFrom'))\n",
      "(rdflib.term.URIRef('https://raw.githubusercontent.com/Salvadana/whata_ontology/main/ontology_development/whata_ontology.owl#perspectivisation_9'), rdflib.term.URIRef('https://raw.githubusercontent.com/Salvadana/whata_ontology/main/ontology_development/whata_ontology.owl#shiftsFocusFrom'))\n",
      "(rdflib.term.URIRef('https://raw.githubusercontent.com/Salvadana/whata_ontology/main/ontology_development/whata_ontology.owl#perspectivisation_9'), rdflib.term.URIRef('https://w3id.org/framester/pb/localrole/first_item_in_comparison'))\n",
      "(rdflib.term.URIRef('https://raw.githubusercontent.com/Salvadana/whata_ontology/main/ontology_development/whata_ontology.owl#perspectivisation_10'), rdflib.term.URIRef('https://raw.githubusercontent.com/Salvadana/whata_ontology/main/ontology_development/whata_ontology.owl#shiftsFocusFrom'))\n"
     ]
    }
   ],
   "source": [
    "#what does whataboutism do? how it acts in the perspectivisation situation?\n",
    "\n",
    "cq3 = \"\"\"PREFIX whata:<https://raw.githubusercontent.com/Salvadana/whata_ontology/main/ontology_development/whata_ontology.owl#> \n",
    "    PREFIX rdf: <http://www.w3.org/1999/02/22-rdf-syntax-ns#>\n",
    "    PREFIX per:<http://www.ontologydesignpatterns.org/ont/persp/perspectivisation.owl#>\n",
    "SELECT  ?s  ?action\n",
    "WHERE {\n",
    "  ?s a whata:WhataboutistPerspectivisation.\n",
    "  ?s per:Lens ?lens.\n",
    "  ?s per:Eventuality ?eventuality.\n",
    "  ?lens ?action  ?eventuality.\n",
    "  \n",
    "}\n",
    "      \n",
    "\"\"\"\n",
    "results = whataGraph.query(cq3)\n",
    "\n",
    "for row in results:\n",
    "    print(row)\n",
    "    "
   ]
  },
  {
   "cell_type": "markdown",
   "metadata": {},
   "source": [
    "#### Linguistic Features CQs"
   ]
  },
  {
   "cell_type": "markdown",
   "metadata": {},
   "source": [
    "4. Which linguistic elements do denote whataboutism? <br>\n",
    "Expected result: \n",
    "- 'look at'\n",
    "- 'the root of the climate change problem'\n",
    "- 'other countries'\n",
    "- 'but what about'\n",
    "- 'what about'\n",
    "- \"i don't doubt it but\"\n",
    "- \"don't you\"\n",
    "- 'but what about'\n",
    "- 'you have no right to criticize'"
   ]
  },
  {
   "cell_type": "code",
   "execution_count": 46,
   "metadata": {},
   "outputs": [
    {
     "name": "stdout",
     "output_type": "stream",
     "text": [
      "(rdflib.term.Literal('look at'),)\n",
      "(rdflib.term.Literal('the root of the climate change problem'),)\n",
      "(rdflib.term.Literal('other countries'),)\n",
      "(rdflib.term.Literal('but what about'),)\n",
      "(rdflib.term.Literal('what about'),)\n",
      "(rdflib.term.Literal('other cases'),)\n",
      "(rdflib.term.Literal(\"i don't doubt it but\"),)\n",
      "(rdflib.term.Literal(\"don't you\"),)\n",
      "(rdflib.term.Literal('but what about'),)\n",
      "(rdflib.term.Literal('you have no right to criticize'),)\n"
     ]
    }
   ],
   "source": [
    "# Which linguistic elements do denote whataboutism?\n",
    "#expected result: string with pattern, string with sentence\n",
    "cq4 = \"\"\"PREFIX whata:<https://raw.githubusercontent.com/Salvadana/whata_ontology/main/ontology_development/whata_ontology.owl#> \n",
    "    PREFIX rdf: <http://www.w3.org/1999/02/22-rdf-syntax-ns#>\n",
    "SELECT  ?pattern \n",
    "WHERE {\n",
    "  ?s a whata:WhataboutistPerspectivisation;\n",
    "    \n",
    "   whata:relatedIdentifyingPattern ?pattern;\n",
    "   \n",
    "}\n",
    "      \n",
    "\"\"\"\n",
    "results = whataGraph.query(cq4)\n",
    "\n",
    "for row in results:\n",
    "    print(row)\n",
    "    "
   ]
  },
  {
   "cell_type": "markdown",
   "metadata": {},
   "source": [
    "5. is the arguer in the considered annotated perspectivisations being whataboutist? <br> Expected result: True"
   ]
  },
  {
   "cell_type": "code",
   "execution_count": 7,
   "metadata": {},
   "outputs": [
    {
     "name": "stdout",
     "output_type": "stream",
     "text": [
      "True\n"
     ]
    }
   ],
   "source": [
    "\n",
    "cq5 = \"\"\"PREFIX whata:<https://raw.githubusercontent.com/Salvadana/whata_ontology/main/ontology_development/whata_ontology.owl#> \n",
    "    PREFIX rdf: <http://www.w3.org/1999/02/22-rdf-syntax-ns#>\n",
    "    PREFIX per:<http://www.ontologydesignpatterns.org/ont/persp/perspectivisation.owl#>\n",
    "    PREFIX owl: <http://www.w3.org/2002/07/owl#>\n",
    "ASK\n",
    "WHERE {\n",
    "  ?p a whata:WhataboutistPerspectivisation.\n",
    "  ?p per:Lens ?lens.\n",
    "  ?lens a whata:WhataboutistLens.\n",
    "   ?cut per:shotThrough ?lens.\n",
    "   ?cut a whata:CounterBlamable.\n",
    "  \n",
    "}\n",
    "      \n",
    "\"\"\"\n",
    "results = whataGraph.query(cq5)\n",
    "\n",
    "for row in results:\n",
    "    print(row)\n",
    "    "
   ]
  },
  {
   "cell_type": "markdown",
   "metadata": {},
   "source": [
    "### Blame"
   ]
  },
  {
   "cell_type": "markdown",
   "metadata": {},
   "source": [
    "6. On which kind of situation does Whataboutism act? From which does it shift focus? <br>\n",
    "expected: Blamable Eventualities: record1, produce1, emit1, penalty1, tidy1, CrocodileTear, rise1, pollute1,kill1, bigotry1"
   ]
  },
  {
   "cell_type": "code",
   "execution_count": 47,
   "metadata": {},
   "outputs": [
    {
     "name": "stdout",
     "output_type": "stream",
     "text": [
      "(rdflib.term.URIRef('http://www.ontologydesignpatterns.org/ont/fred/domain.owl#record_1'),)\n",
      "(rdflib.term.URIRef('http://www.ontologydesignpatterns.org/ont/fred/domain.owl#produce_1'),)\n",
      "(rdflib.term.URIRef('http://www.ontologydesignpatterns.org/ont/fred/domain.owl#emit_1'),)\n",
      "(rdflib.term.URIRef('http://www.ontologydesignpatterns.org/ont/fred/domain.owl#penalty_1'),)\n",
      "(rdflib.term.URIRef('http://www.ontologydesignpatterns.org/ont/fred/domain.owl#tidy_1'),)\n",
      "(rdflib.term.URIRef('http://www.ontologydesignpatterns.org/ont/fred/domain.owl#CrocodileTear'),)\n",
      "(rdflib.term.URIRef('http://www.ontologydesignpatterns.org/ont/fred/domain.owl#rise_1'),)\n",
      "(rdflib.term.URIRef('http://www.ontologydesignpatterns.org/ont/fred/domain.owl#pollute_1'),)\n",
      "(rdflib.term.URIRef('http://www.ontologydesignpatterns.org/ont/fred/domain.owl#kill_1'),)\n",
      "(rdflib.term.URIRef('http://www.ontologydesignpatterns.org/ont/fred/domain.owl#bigotry_1'),)\n"
     ]
    }
   ],
   "source": [
    "#- Which kind of situation is the one involved in Whataboutism?\n",
    "# - What entities are involved in the blaming situation?\n",
    "#----------------------------------------------\n",
    "cq6 = '''\n",
    "\n",
    "PREFIX whata: <https://raw.githubusercontent.com/Salvadana/whata_ontology/main/ontology_development/whata_ontology.owl#>\n",
    "PREFIX owl: <http://www.w3.org/2002/07/owl#>\n",
    "PREFIX dcterms: <http://purl.org/dc/terms/>\n",
    "PREFIX rdfs: <http://www.w3.org/2000/01/rdf-schema#>\n",
    "PREFIX dns: <http://www.ontologydesignpatterns.org/cp/owl/description.owl#>\n",
    " PREFIX rdf: <http://www.w3.org/1999/02/22-rdf-syntax-ns#>\n",
    "PREFIX per:<http://www.ontologydesignpatterns.org/ont/persp/perspectivisation.owl#>\n",
    "\n",
    "SELECT  ?o  \n",
    "WHERE {\n",
    "  ?s whata:shiftsFocusFrom ?o.\n",
    "}\n",
    "\n",
    "'''\n",
    "results = whataGraph.query(cq6)\n",
    "\n",
    "for row in results:\n",
    "    print(row)\n",
    "    "
   ]
  },
  {
   "cell_type": "markdown",
   "metadata": {},
   "source": [
    "\n",
    "7.  Do all the blamable eventualities have as participants responsibility owners and oughts?\n",
    "<br> Expected result:   True"
   ]
  },
  {
   "cell_type": "code",
   "execution_count": 9,
   "metadata": {},
   "outputs": [
    {
     "name": "stdout",
     "output_type": "stream",
     "text": [
      "True\n"
     ]
    }
   ],
   "source": [
    "\n",
    "\n",
    "cq7= \"\"\"PREFIX whata:<https://raw.githubusercontent.com/Salvadana/whata_ontology/main/ontology_development/whata_ontology.owl#> \n",
    "    PREFIX rdf: <http://www.w3.org/1999/02/22-rdf-syntax-ns#>\n",
    "    PREFIX per:<http://www.ontologydesignpatterns.org/ont/persp/perspectivisation.owl#>\n",
    "ASK\n",
    "WHERE {\n",
    "  ?s whata:isParticipantIn ?blamable.\n",
    "   ?s2 whata:isParticipantIn ?blamable.\n",
    "  ?blamable a whata:Blamable.\n",
    "  ?s a whata:Ought.\n",
    "   ?s2 a whata:ResponsibilityOwner.\n",
    "}\n",
    "      \n",
    "\"\"\"\n",
    "results = whataGraph.query(cq7)\n",
    "\n",
    "for row in results:\n",
    "    print(row)\n",
    "    "
   ]
  },
  {
   "cell_type": "markdown",
   "metadata": {},
   "source": [
    " 8. (Which individuals are involved in the blaming situation frame?) Which Responsibility owners are involved in the blamable situations?\n",
    " <br> Expected result: person_1, yale, country_1, penalty responsibility owner, Billy, ro1, person_0\n",
    " "
   ]
  },
  {
   "cell_type": "code",
   "execution_count": 24,
   "metadata": {},
   "outputs": [
    {
     "name": "stdout",
     "output_type": "stream",
     "text": [
      "(rdflib.term.URIRef('http://www.ontologydesignpatterns.org/ont/fred/domain.owl#person_1'),)\n",
      "(rdflib.term.URIRef('http://www.ontologydesignpatterns.org/ont/fred/domain.owl#Yale'),)\n",
      "(rdflib.term.URIRef('http://www.ontologydesignpatterns.org/ont/fred/domain.owl#country_1'),)\n",
      "(rdflib.term.URIRef('https://raw.githubusercontent.com/Salvadana/whata_ontology/main/ontology_development/whata_ontology.owl#PenaltyResponsibilityOwner'),)\n",
      "(rdflib.term.URIRef('http://www.ontologydesignpatterns.org/ont/fred/domain.owl#Billy'),)\n",
      "(rdflib.term.URIRef('http://www.ontologydesignpatterns.org/ont/fred/domain.owl#person_1'),)\n",
      "(rdflib.term.URIRef('https://raw.githubusercontent.com/Salvadana/whata_ontology/main/ontology_development/whata_ontology.owl#ro1'),)\n",
      "(rdflib.term.URIRef('https://raw.githubusercontent.com/Salvadana/whata_ontology/main/ontology_development/whata_ontology.owl#person_0'),)\n",
      "(rdflib.term.URIRef('http://www.ontologydesignpatterns.org/ont/fred/domain.owl#DieselCar'),)\n",
      "(rdflib.term.URIRef('http://www.ontologydesignpatterns.org/ont/fred/domain.owl#person_2'),)\n"
     ]
    }
   ],
   "source": [
    "\n",
    "# - What entities are involved in the blaming situation?\n",
    "cq8 = \"\"\"\n",
    "    PREFIX whata:<https://raw.githubusercontent.com/Salvadana/whata_ontology/main/ontology_development/whata_ontology.owl#> \n",
    "    PREFIX rdf: <http://www.w3.org/1999/02/22-rdf-syntax-ns#>\n",
    "    SELECT  ?s\n",
    "   WHERE {\n",
    "   ?s a whata:ResponsibilityOwner.\n",
    "    ?s whata:isParticipantIn ?blamable.\n",
    "    ?persp per:Eventuality ?blamable.\n",
    "    ?blamable a whata:Blamable.\n",
    "        }\n",
    "\"\"\"\n",
    "results = whataGraph.query(cq8)\n",
    "\n",
    "for row in results:\n",
    "    print(row)\n",
    "    "
   ]
  },
  {
   "cell_type": "markdown",
   "metadata": {},
   "source": [
    "8a. Which ROs are involved in the Counter-Blamable situation? <br> Expected result: US, Yale, person_1, man_1, Bobby <br> (note that some counter blamable situations can have the same ROs than the blamable but still consist in different situations)"
   ]
  },
  {
   "cell_type": "code",
   "execution_count": 23,
   "metadata": {},
   "outputs": [
    {
     "name": "stdout",
     "output_type": "stream",
     "text": [
      "(rdflib.term.URIRef('http://www.ontologydesignpatterns.org/ont/fred/domain.owl#US'),)\n",
      "(rdflib.term.URIRef('http://www.ontologydesignpatterns.org/ont/fred/domain.owl#Yale'),)\n",
      "(rdflib.term.URIRef('http://www.ontologydesignpatterns.org/ont/fred/domain.owl#person_1'),)\n",
      "(rdflib.term.URIRef('http://www.ontologydesignpatterns.org/ont/fred/domain.owl#man_1'),)\n",
      "(rdflib.term.URIRef('http://www.ontologydesignpatterns.org/ont/fred/domain.owl#Bobby'),)\n",
      "(rdflib.term.URIRef('http://www.ontologydesignpatterns.org/ont/fred/domain.owl#person_2'),)\n",
      "(rdflib.term.URIRef('http://www.ontologydesignpatterns.org/ont/fred/domain.owl#Robert_Mugabe'),)\n",
      "(rdflib.term.URIRef('http://www.ontologydesignpatterns.org/ont/fred/domain.owl#person_1'),)\n",
      "(rdflib.term.URIRef('http://www.ontologydesignpatterns.org/ont/fred/domain.owl#PetrolCar'),)\n",
      "(rdflib.term.URIRef('http://www.ontologydesignpatterns.org/ont/fred/domain.owl#person_1'),)\n"
     ]
    }
   ],
   "source": [
    "\n",
    "# - What ros are involved in the counter blamable situation?\n",
    "cq8a = \"\"\"\n",
    "    PREFIX whata:<https://raw.githubusercontent.com/Salvadana/whata_ontology/main/ontology_development/whata_ontology.owl#> \n",
    "    PREFIX rdf: <http://www.w3.org/1999/02/22-rdf-syntax-ns#>\n",
    "    SELECT  ?s \n",
    "   WHERE {\n",
    "   ?s a whata:ResponsibilityOwner.\n",
    "       ?s whata:isParticipantIn ?cblamable.\n",
    "       ?cblamable a whata:CounterBlamable.\n",
    "        }\n",
    "\"\"\"\n",
    "results = whataGraph.query(cq8a)\n",
    "\n",
    "for row in results:\n",
    "    print(row)\n",
    "    "
   ]
  },
  {
   "cell_type": "markdown",
   "metadata": {},
   "source": [
    "### Blending"
   ]
  },
  {
   "cell_type": "markdown",
   "metadata": {},
   "source": [
    "#### Blending\n",
    "\n",
    "9. Does Whataboutism act accordingly to the Conceptual Blanding Theory? I.e. Does it create a blended space? <br> Expected result:True"
   ]
  },
  {
   "cell_type": "code",
   "execution_count": 12,
   "metadata": {},
   "outputs": [
    {
     "name": "stdout",
     "output_type": "stream",
     "text": [
      "True\n"
     ]
    }
   ],
   "source": [
    "\n",
    "\n",
    "cq9 = \"\"\"PREFIX whata:<https://raw.githubusercontent.com/Salvadana/whata_ontology/main/ontology_development/whata_ontology.owl#> \n",
    "    PREFIX rdf: <http://www.w3.org/1999/02/22-rdf-syntax-ns#>\n",
    "    PREFIX per:<http://www.ontologydesignpatterns.org/ont/persp/perspectivisation.owl#>\n",
    "ASK\n",
    "WHERE {\n",
    "  ?s a whata:BlendedBlameBackground .\n",
    "  ?persp a whata:WhataboutistPerspectivisation.\n",
    "  ?perp per:Background ?s.\n",
    "}\n",
    "      \n",
    "\"\"\"\n",
    "results = whataGraph.query(cq9)\n",
    "\n",
    "for row in results:\n",
    "    print(row)\n",
    "    "
   ]
  },
  {
   "cell_type": "markdown",
   "metadata": {},
   "source": [
    "10. Which kind of elements are the blended spaces created as a basis for applying whataboutism? <br> Expected result:act-02, problem1, emit-01, , crime-02, bad-07"
   ]
  },
  {
   "cell_type": "code",
   "execution_count": 13,
   "metadata": {},
   "outputs": [
    {
     "name": "stdout",
     "output_type": "stream",
     "text": [
      "(rdflib.term.URIRef('https://w3id.org/framester/pb/data/act-02'),)\n",
      "(rdflib.term.URIRef('http://www.ontologydesignpatterns.org/ont/fred/domain.owl#problem_1'),)\n",
      "(rdflib.term.URIRef('https://w3id.org/framester/pb/data/emit-01'),)\n",
      "(rdflib.term.URIRef('https://w3id.org/framester/pb/data/crime-02'),)\n",
      "(rdflib.term.URIRef('https://w3id.org/framester/pb/data/bad-07'),)\n",
      "(rdflib.term.URIRef('http://www.ontologydesignpatterns.org/ont/fred/domain.owl#violence_1'),)\n",
      "(rdflib.term.URIRef('http://www.ontologydesignpatterns.org/ont/fred/domain.owl#starve_1'),)\n",
      "(rdflib.term.URIRef('https://w3id.org/framester/pb/data/pollute-01'),)\n",
      "(rdflib.term.URIRef('http://www.ontologydesignpatterns.org/ont/fred/domain.owl#emit_1'),)\n",
      "(rdflib.term.URIRef('http://www.ontologydesignpatterns.org/ont/fred/domain.owl#Bigotry'),)\n"
     ]
    }
   ],
   "source": [
    "#Which kind of elements are the blended spaces created as a basis for applying whataboutism? \n",
    "#which is the blended space?\n",
    "cq10 = \"\"\"PREFIX whata:<https://raw.githubusercontent.com/Salvadana/whata_ontology/main/ontology_development/whata_ontology.owl#> \n",
    "    PREFIX rdf: <http://www.w3.org/1999/02/22-rdf-syntax-ns#>\n",
    "    PREFIX rdfs: <http://www.w3.org/2000/01/rdf-schema#>\n",
    "    PREFIX per:<http://www.ontologydesignpatterns.org/ont/persp/perspectivisation.owl#>\n",
    "    PREFIX dns: <http://www.ontologydesignpatterns.org/cp/owl/description.owl#>\n",
    "SELECT ?s\n",
    "WHERE {\n",
    "  ?s a whata:BlendedBlameBackground.\n",
    "}\n",
    "      \n",
    "\"\"\"\n",
    "results = whataGraph.query(cq10)\n",
    "\n",
    "for row in results:\n",
    "    print(row)\n",
    "    "
   ]
  },
  {
   "cell_type": "markdown",
   "metadata": {},
   "source": [
    "11. Which are the features of the Blended Space? Which ROs and oughts are involved in a blended space?\n",
    "<br> Expected: responsibility owner 1 and 2 + ought for each perspectivisation: \n",
    "- ought: right_2/ ROs: US,person_1;\n",
    "- ought: climate1/ RO: Yale;\n",
    "- ought: stop / ROs: country1 and person1; \n",
    "- oughts :effective1 and victim1/ ROs: penalty ro, man1; \n",
    "- ought: clean-01/ ROs: Billy, Bobby...\n"
   ]
  },
  {
   "cell_type": "code",
   "execution_count": 48,
   "metadata": {},
   "outputs": [
    {
     "name": "stdout",
     "output_type": "stream",
     "text": [
      "(rdflib.term.URIRef('https://w3id.org/framester/pb/data/act-02'), rdflib.term.URIRef('http://www.ontologydesignpatterns.org/ont/fred/domain.owl#US'))\n",
      "(rdflib.term.URIRef('https://w3id.org/framester/pb/data/act-02'), rdflib.term.URIRef('http://www.ontologydesignpatterns.org/ont/fred/domain.owl#person_1'))\n",
      "(rdflib.term.URIRef('https://w3id.org/framester/pb/data/act-02'), rdflib.term.URIRef('http://www.ontologydesignpatterns.org/ont/fred/domain.owl#right_2'))\n",
      "(rdflib.term.URIRef('http://www.ontologydesignpatterns.org/ont/fred/domain.owl#problem_1'), rdflib.term.URIRef('http://www.ontologydesignpatterns.org/ont/fred/domain.owl#Yale'))\n",
      "(rdflib.term.URIRef('http://www.ontologydesignpatterns.org/ont/fred/domain.owl#problem_1'), rdflib.term.URIRef('http://www.ontologydesignpatterns.org/ont/fred/domain.owl#climate_1'))\n",
      "(rdflib.term.URIRef('https://w3id.org/framester/pb/data/emit-01'), rdflib.term.URIRef('http://www.ontologydesignpatterns.org/ont/fred/domain.owl#stop_1'))\n",
      "(rdflib.term.URIRef('https://w3id.org/framester/pb/data/emit-01'), rdflib.term.URIRef('http://www.ontologydesignpatterns.org/ont/fred/domain.owl#country_1'))\n",
      "(rdflib.term.URIRef('https://w3id.org/framester/pb/data/emit-01'), rdflib.term.URIRef('http://www.ontologydesignpatterns.org/ont/fred/domain.owl#person_1'))\n",
      "(rdflib.term.URIRef('https://w3id.org/framester/pb/data/crime-02'), rdflib.term.URIRef('http://www.ontologydesignpatterns.org/ont/fred/domain.owl#effective_1'))\n",
      "(rdflib.term.URIRef('https://w3id.org/framester/pb/data/crime-02'), rdflib.term.URIRef('https://raw.githubusercontent.com/Salvadana/whata_ontology/main/ontology_development/whata_ontology.owl#PenaltyResponsibilityOwner'))\n",
      "(rdflib.term.URIRef('https://w3id.org/framester/pb/data/crime-02'), rdflib.term.URIRef('http://www.ontologydesignpatterns.org/ont/fred/domain.owl#victim_1'))\n",
      "(rdflib.term.URIRef('https://w3id.org/framester/pb/data/crime-02'), rdflib.term.URIRef('http://www.ontologydesignpatterns.org/ont/fred/domain.owl#man_1'))\n",
      "(rdflib.term.URIRef('https://w3id.org/framester/pb/data/bad-07'), rdflib.term.URIRef('http://www.ontologydesignpatterns.org/ont/fred/domain.owl#Billy'))\n",
      "(rdflib.term.URIRef('https://w3id.org/framester/pb/data/bad-07'), rdflib.term.URIRef('https://w3id.org/framester/pb/data/clean-01'))\n",
      "(rdflib.term.URIRef('https://w3id.org/framester/pb/data/bad-07'), rdflib.term.URIRef('http://www.ontologydesignpatterns.org/ont/fred/domain.owl#Bobby'))\n",
      "(rdflib.term.URIRef('http://www.ontologydesignpatterns.org/ont/fred/domain.owl#violence_1'), rdflib.term.URIRef('http://www.ontologydesignpatterns.org/ont/fred/domain.owl#safe_1'))\n",
      "(rdflib.term.URIRef('http://www.ontologydesignpatterns.org/ont/fred/domain.owl#violence_1'), rdflib.term.URIRef('http://www.ontologydesignpatterns.org/ont/fred/domain.owl#person_1'))\n",
      "(rdflib.term.URIRef('http://www.ontologydesignpatterns.org/ont/fred/domain.owl#violence_1'), rdflib.term.URIRef('http://www.ontologydesignpatterns.org/ont/fred/domain.owl#person_2'))\n",
      "(rdflib.term.URIRef('http://www.ontologydesignpatterns.org/ont/fred/domain.owl#starve_1'), rdflib.term.URIRef('http://www.ontologydesignpatterns.org/ont/fred/domain.owl#farm_2'))\n",
      "(rdflib.term.URIRef('http://www.ontologydesignpatterns.org/ont/fred/domain.owl#starve_1'), rdflib.term.URIRef('http://www.ontologydesignpatterns.org/ont/fred/domain.owl#food_1'))\n",
      "(rdflib.term.URIRef('http://www.ontologydesignpatterns.org/ont/fred/domain.owl#starve_1'), rdflib.term.URIRef('http://www.ontologydesignpatterns.org/ont/fred/domain.owl#Robert_Mugabe'))\n",
      "(rdflib.term.URIRef('http://www.ontologydesignpatterns.org/ont/fred/domain.owl#starve_1'), rdflib.term.URIRef('https://raw.githubusercontent.com/Salvadana/whata_ontology/main/ontology_development/whata_ontology.owl#ro1'))\n",
      "(rdflib.term.URIRef('https://w3id.org/framester/pb/data/pollute-01'), rdflib.term.URIRef('http://www.ontologydesignpatterns.org/ont/fred/domain.owl#Air'))\n",
      "(rdflib.term.URIRef('https://w3id.org/framester/pb/data/pollute-01'), rdflib.term.URIRef('http://www.ontologydesignpatterns.org/ont/fred/domain.owl#person_1'))\n",
      "(rdflib.term.URIRef('https://w3id.org/framester/pb/data/pollute-01'), rdflib.term.URIRef('https://raw.githubusercontent.com/Salvadana/whata_ontology/main/ontology_development/whata_ontology.owl#person_0'))\n",
      "(rdflib.term.URIRef('https://raw.githubusercontent.com/Salvadana/whata_ontology/main/ontology_development/whata_ontology.owl#emit_1'), rdflib.term.URIRef('http://www.ontologydesignpatterns.org/ont/fred/domain.owl#DieselCar'))\n",
      "(rdflib.term.URIRef('https://raw.githubusercontent.com/Salvadana/whata_ontology/main/ontology_development/whata_ontology.owl#emit_1'), rdflib.term.URIRef('http://www.ontologydesignpatterns.org/ont/fred/domain.owl#PetrolCar'))\n",
      "(rdflib.term.URIRef('https://raw.githubusercontent.com/Salvadana/whata_ontology/main/ontology_development/whata_ontology.owl#emit_1'), rdflib.term.URIRef('http://www.ontologydesignpatterns.org/ont/fred/domain.owl#climate_1'))\n",
      "(rdflib.term.URIRef('http://www.ontologydesignpatterns.org/ont/fred/domain.owl#Bigotry'), rdflib.term.URIRef('http://www.ontologydesignpatterns.org/ont/fred/domain.owl#person_2'))\n",
      "(rdflib.term.URIRef('http://www.ontologydesignpatterns.org/ont/fred/domain.owl#Bigotry'), rdflib.term.URIRef('http://www.ontologydesignpatterns.org/ont/fred/domain.owl#person_1'))\n",
      "(rdflib.term.URIRef('http://www.ontologydesignpatterns.org/ont/fred/domain.owl#Bigotry'), rdflib.term.URIRef('https://raw.githubusercontent.com/Salvadana/whata_ontology/main/ontology_development/whata_ontology.owl#ought_10'))\n"
     ]
    }
   ],
   "source": [
    "\n",
    "#what does a blamable eventuality involve?\n",
    "cq11 = \"\"\"PREFIX whata:<https://raw.githubusercontent.com/Salvadana/whata_ontology/main/ontology_development/whata_ontology.owl#> \n",
    "    PREFIX rdf: <http://www.w3.org/1999/02/22-rdf-syntax-ns#>\n",
    "    PREFIX rdfs: <http://www.w3.org/2000/01/rdf-schema#>\n",
    "    PREFIX per:<http://www.ontologydesignpatterns.org/ont/persp/perspectivisation.owl#>\n",
    "    PREFIX dns: <http://www.ontologydesignpatterns.org/cp/owl/description.owl#>\n",
    "SELECT  ?blended ?s\n",
    "WHERE {\n",
    "  ?s whata:isParticipantIn ?blended.\n",
    "  ?blended a whata:BlendedBlameBackground.\n",
    "}\n",
    "      \n",
    "\"\"\"\n",
    "results = whataGraph.query(cq11)\n",
    "\n",
    "for row in results:\n",
    "    \n",
    "    print(row)\n",
    "    "
   ]
  },
  {
   "cell_type": "markdown",
   "metadata": {},
   "source": [
    "#### Fallacies and Biases connections with whataboutism"
   ]
  },
  {
   "cell_type": "markdown",
   "metadata": {},
   "source": [
    "12. In which of the annotated perspectivisations is whataboutism connected to any discourse fallacies?\n",
    "<br> Expected: perspectivisation_5, 6,8,10 , relevance_fallacy"
   ]
  },
  {
   "cell_type": "code",
   "execution_count": 22,
   "metadata": {},
   "outputs": [
    {
     "name": "stdout",
     "output_type": "stream",
     "text": [
      "(rdflib.term.URIRef('https://raw.githubusercontent.com/Salvadana/whata_ontology/main/ontology_development/whata_ontology.owl#perspectivisation_5'), rdflib.term.URIRef('https://raw.githubusercontent.com/Salvadana/whata_ontology/main/ontology_development/whata_ontology.owl#relevance_fallacy_1'))\n",
      "(rdflib.term.URIRef('https://raw.githubusercontent.com/Salvadana/whata_ontology/main/ontology_development/whata_ontology.owl#perspectivisation_6'), rdflib.term.URIRef('https://raw.githubusercontent.com/Salvadana/whata_ontology/main/ontology_development/whata_ontology.owl#relevance_fallacy'))\n",
      "(rdflib.term.URIRef('https://raw.githubusercontent.com/Salvadana/whata_ontology/main/ontology_development/whata_ontology.owl#perspectivisation_8'), rdflib.term.URIRef('https://raw.githubusercontent.com/Salvadana/whata_ontology/main/ontology_development/whata_ontology.owl#relevance_fallacy'))\n",
      "(rdflib.term.URIRef('https://raw.githubusercontent.com/Salvadana/whata_ontology/main/ontology_development/whata_ontology.owl#perspectivisation_10'), rdflib.term.URIRef('https://raw.githubusercontent.com/Salvadana/whata_ontology/main/ontology_development/whata_ontology.owl#relevance_fallacy'))\n"
     ]
    }
   ],
   "source": [
    "cq12='''PREFIX whata:<https://raw.githubusercontent.com/Salvadana/whata_ontology/main/ontology_development/whata_ontology.owl#> \n",
    "    PREFIX rdf: <http://www.w3.org/1999/02/22-rdf-syntax-ns#>\n",
    "    PREFIX rdfs: <http://www.w3.org/2000/01/rdf-schema#>\n",
    "    PREFIX per:<http://www.ontologydesignpatterns.org/ont/persp/perspectivisation.owl#>\n",
    "    PREFIX dns: <http://www.ontologydesignpatterns.org/cp/owl/description.owl#>\n",
    "\n",
    "SELECT  ?p  ?relatedLens\n",
    "WHERE {\n",
    "  ?p per:Lens ?lens.\n",
    "  ?relatedLens whata:relatedToLens ?lens .\n",
    "  ?lens a whata:WhataboutistLens.\n",
    "  ?relatedLens rdf:type whata:RelevanceFallacyLens .\n",
    "}'''\n",
    "results = whataGraph.query(cq12)\n",
    "\n",
    "for row in results:\n",
    "    print(row)"
   ]
  },
  {
   "cell_type": "code",
   "execution_count": 25,
   "metadata": {},
   "outputs": [
    {
     "name": "stdout",
     "output_type": "stream",
     "text": [
      "(rdflib.term.Literal('what about'),)\n",
      "(rdflib.term.Literal('other cases'),)\n",
      "(rdflib.term.Literal(\"don't you\"),)\n",
      "(rdflib.term.Literal('you have no right to criticize'),)\n"
     ]
    }
   ],
   "source": [
    "cq12a='''PREFIX whata:<https://raw.githubusercontent.com/Salvadana/whata_ontology/main/ontology_development/whata_ontology.owl#> \n",
    "    PREFIX rdf: <http://www.w3.org/1999/02/22-rdf-syntax-ns#>\n",
    "    PREFIX rdfs: <http://www.w3.org/2000/01/rdf-schema#>\n",
    "    PREFIX per:<http://www.ontologydesignpatterns.org/ont/persp/perspectivisation.owl#>\n",
    "    PREFIX dns: <http://www.ontologydesignpatterns.org/cp/owl/description.owl#>\n",
    "\n",
    "SELECT  ?pattern\n",
    "WHERE {\n",
    "  ?p per:Lens ?lens.\n",
    "  ?p whata:relatedIdentifyingPattern ?pattern.\n",
    "  ?relatedLens whata:relatedToLens ?lens .\n",
    "  ?lens a whata:WhataboutistLens.\n",
    "  ?relatedLens rdf:type whata:RelevanceFallacyLens .\n",
    "}'''\n",
    "results = whataGraph.query(cq12a)\n",
    "\n",
    "for row in results:\n",
    "    print(row)"
   ]
  },
  {
   "cell_type": "markdown",
   "metadata": {},
   "source": [
    "13.  Is whataboutism connected to any Cognitive Bias? And to which kind? \n",
    "<br> Expected: perspectivisation 3 and 7 , c_bias_1"
   ]
  },
  {
   "cell_type": "code",
   "execution_count": 16,
   "metadata": {},
   "outputs": [
    {
     "name": "stdout",
     "output_type": "stream",
     "text": [
      "(rdflib.term.URIRef('https://raw.githubusercontent.com/Salvadana/whata_ontology/main/ontology_development/whata_ontology.owl#perspectivisation_3'), rdflib.term.URIRef('https://raw.githubusercontent.com/Salvadana/whata_ontology/main/ontology_development/whata_ontology.owl#c_bias_1'))\n",
      "(rdflib.term.URIRef('https://raw.githubusercontent.com/Salvadana/whata_ontology/main/ontology_development/whata_ontology.owl#perspectivisation_7'), rdflib.term.URIRef('https://raw.githubusercontent.com/Salvadana/whata_ontology/main/ontology_development/whata_ontology.owl#c_bias_1'))\n"
     ]
    }
   ],
   "source": [
    "cq13='''PREFIX whata:<https://raw.githubusercontent.com/Salvadana/whata_ontology/main/ontology_development/whata_ontology.owl#> \n",
    "    PREFIX rdf: <http://www.w3.org/1999/02/22-rdf-syntax-ns#>\n",
    "    PREFIX rdfs: <http://www.w3.org/2000/01/rdf-schema#>\n",
    "    PREFIX per:<http://www.ontologydesignpatterns.org/ont/persp/perspectivisation.owl#>\n",
    "    PREFIX dns: <http://www.ontologydesignpatterns.org/cp/owl/description.owl#>\n",
    "\n",
    "SELECT ?p ?relatedLens\n",
    "WHERE {\n",
    "  ?relatedLens whata:relatedToLens ?lens.\n",
    "  ?lens a whata:WhataboutistLens .\n",
    "  ?relatedLens rdf:type whata:ConfirmationBiasLens .\n",
    "  ?p per:Lens ?lens.\n",
    "}'''\n",
    "results = whataGraph.query(cq13)\n",
    "\n",
    "for row in results:\n",
    "    print(row)"
   ]
  },
  {
   "cell_type": "code",
   "execution_count": 32,
   "metadata": {},
   "outputs": [
    {
     "name": "stdout",
     "output_type": "stream",
     "text": [
      "(rdflib.term.Literal('other countries'),)\n",
      "(rdflib.term.Literal(\"i don't doubt it but\"),)\n"
     ]
    }
   ],
   "source": [
    "cq13a='''PREFIX whata:<https://raw.githubusercontent.com/Salvadana/whata_ontology/main/ontology_development/whata_ontology.owl#> \n",
    "    PREFIX rdf: <http://www.w3.org/1999/02/22-rdf-syntax-ns#>\n",
    "    PREFIX rdfs: <http://www.w3.org/2000/01/rdf-schema#>\n",
    "    PREFIX per:<http://www.ontologydesignpatterns.org/ont/persp/perspectivisation.owl#>\n",
    "    PREFIX dns: <http://www.ontologydesignpatterns.org/cp/owl/description.owl#>\n",
    "\n",
    "SELECT  ?pattern\n",
    "WHERE {\n",
    "  ?p per:Lens ?lens.\n",
    "  ?p whata:relatedIdentifyingPattern ?pattern.\n",
    "  ?relatedLens whata:relatedToLens ?lens .\n",
    "  ?lens a whata:WhataboutistLens.\n",
    "  ?relatedLens rdf:type whata:ConfirmationBiasLens .\n",
    "}'''\n",
    "results = whataGraph.query(cq13a)\n",
    "\n",
    "for row in results:\n",
    "    print(row)"
   ]
  }
 ],
 "metadata": {
  "kernelspec": {
   "display_name": "Python 3",
   "language": "python",
   "name": "python3"
  },
  "language_info": {
   "codemirror_mode": {
    "name": "ipython",
    "version": 3
   },
   "file_extension": ".py",
   "mimetype": "text/x-python",
   "name": "python",
   "nbconvert_exporter": "python",
   "pygments_lexer": "ipython3",
   "version": "3.10.0"
  }
 },
 "nbformat": 4,
 "nbformat_minor": 2
}
