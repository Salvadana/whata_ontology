{
 "cells": [
  {
   "cell_type": "markdown",
   "metadata": {},
   "source": [
    "## Test and fix.\n",
    "'An ontology module developed for addressing a certain user story associated to a certain competency question, is tested e.g.\n",
    "\n",
    "- (i) by encoding in the ontology for a sample set of facts based on the user\n",
    "story, \n",
    "- (ii) defining one or a set of SPARQL queries that formally encode\n",
    "the competency question, \n",
    "- (iii) associating each SPARQL query with the expected result, \n",
    "- and (i) running the SPARQL queries against the ontology and compare actual with expected results.' \n",
    "\n",
    "### Task description\n",
    "\n",
    "'The goal of this task is to validate the resulting module\n",
    "with respect to the CQ just modeled. To this aim, the task is executed through\n",
    "the following steps: \n",
    "- (i) the CQ is elaborated in order to derive a unit test e.g.,\n",
    "SPARQL query;\n",
    "- (ii) the instance module is fed with sample facts based on the\n",
    "story; \n",
    "- (iii) the unit test is ran against the ontology module. If the result is not\n",
    "the expected one i.e. the test is not passed, the module is revised in order to fix\n",
    "it, and the unit test ran again until the test is passed; \n",
    "- (iv) run all other unit\n",
    "tests associated with the story so far until they all pass.'  <br>\n",
    "\n",
    "<br>\n",
    "Reference:<br>\n",
    "Presutti, V., Daga, E., Gangemi, A., & Blomqvist, E. (2009). eXtreme Design with Content Ontology Design Patterns. WOP.  https://dl.acm.org/doi/10.5555/2889761.2889768"
   ]
  },
  {
   "cell_type": "code",
   "execution_count": null,
   "metadata": {},
   "outputs": [],
   "source": [
    "%pip install rdflib\n",
    "from rdflib import *\n",
    "whataGraph = Graph()\n",
    "whataGraph.parse(\"annotated_amrs.ttl\", format=\"ttl\")"
   ]
  },
  {
   "cell_type": "markdown",
   "metadata": {},
   "source": [
    "## SPARQL queries\n",
    "#### Perspectivisation CQs\n",
    "1. Is whataboutism recognisable as an (or part of an ) act of perspectivisation?     \n",
    "<br>Expected result: perspectivisation 1, 2, 3, 4, 5\n"
   ]
  },
  {
   "cell_type": "code",
   "execution_count": 5,
   "metadata": {},
   "outputs": [
    {
     "name": "stdout",
     "output_type": "stream",
     "text": [
      "(rdflib.term.URIRef('https://raw.githubusercontent.com/Salvadana/whata_ontology/main/ontology_development/whata_ontology.owl#perspectivisation_1'),)\n",
      "(rdflib.term.URIRef('https://raw.githubusercontent.com/Salvadana/whata_ontology/main/ontology_development/whata_ontology.owl#perspectivisation_2'),)\n",
      "(rdflib.term.URIRef('https://raw.githubusercontent.com/Salvadana/whata_ontology/main/ontology_development/whata_ontology.owl#perspectivisation_3'),)\n",
      "(rdflib.term.URIRef('https://raw.githubusercontent.com/Salvadana/whata_ontology/main/ontology_development/whata_ontology.owl#perspectivisation_4'),)\n",
      "(rdflib.term.URIRef('https://raw.githubusercontent.com/Salvadana/whata_ontology/main/ontology_development/whata_ontology.owl#perspectivisation_5'),)\n"
     ]
    }
   ],
   "source": [
    "\n",
    "cq1 = \"\"\"PREFIX whata:<https://raw.githubusercontent.com/Salvadana/whata_ontology/main/ontology_development/whata_ontology.owl#> \n",
    "    PREFIX rdf: <http://www.w3.org/1999/02/22-rdf-syntax-ns#>\n",
    "    PREFIX per:<http://www.ontologydesignpatterns.org/ont/persp/perspectivisation.owl#>\n",
    "    \n",
    "SELECT  ?perspectivisation\n",
    "WHERE {\n",
    "  ?perspectivisation a whata:WhataboutistPerspectivisation;\n",
    "      per:Eventuality ?eventuality;\n",
    "     per:Lens ?lens;\n",
    "     per:Background ?background;\n",
    "     per:Cut ?cut.\n",
    "}     \n",
    "\"\"\"\n",
    "results = whataGraph.query(cq1)\n",
    "\n",
    "for row in results:\n",
    "    print(row)\n",
    "    "
   ]
  },
  {
   "cell_type": "markdown",
   "metadata": {},
   "source": [
    "2. By the means of which component of perpectivisation does Whataboutism act? The aim is retrieving the entities that are responsible in the focus shifting action within a cognitiveperspectivisation. <br> Expected result: the lenses look_1, contrast_1 (used in 2 different perspectivisations), doubt_1 and equal_1."
   ]
  },
  {
   "cell_type": "code",
   "execution_count": 7,
   "metadata": {},
   "outputs": [
    {
     "name": "stdout",
     "output_type": "stream",
     "text": [
      "(rdflib.term.URIRef('http://www.ontologydesignpatterns.org/ont/fred/domain.owl#look_1'),)\n",
      "(rdflib.term.URIRef('http://www.ontologydesignpatterns.org/ont/fred/domain.owl#contrast_1'),)\n",
      "(rdflib.term.URIRef('http://www.ontologydesignpatterns.org/ont/fred/domain.owl#doubt_1'),)\n",
      "(rdflib.term.URIRef('http://www.ontologydesignpatterns.org/ont/fred/domain.owl#contrast_1'),)\n",
      "(rdflib.term.URIRef('http://www.ontologydesignpatterns.org/ont/fred/domain.owl#equal_1'),)\n"
     ]
    }
   ],
   "source": [
    "\n",
    "cq2 = \"\"\"PREFIX whata:<https://raw.githubusercontent.com/Salvadana/whata_ontology/main/ontology_development/whata_ontology.owl#> \n",
    "    PREFIX rdf: <http://www.w3.org/1999/02/22-rdf-syntax-ns#>\n",
    "    PREFIX per:<http://www.ontologydesignpatterns.org/ont/persp/perspectivisation.owl#>\n",
    "    PREFIX owl: <http://www.w3.org/2002/07/owl#>\n",
    "SELECT ?lens\n",
    "WHERE {\n",
    "  ?p a whata:WhataboutistPerspectivisation.\n",
    "  ?p per:Eventuality ?e.\n",
    "  ?lens whata:shiftsFocusFrom ?e.\n",
    "  \n",
    "}\n",
    "      \n",
    "\"\"\"\n",
    "results = whataGraph.query(cq2)\n",
    "\n",
    "for row in results:\n",
    "    print(row)\n",
    "    "
   ]
  },
  {
   "cell_type": "markdown",
   "metadata": {},
   "source": [
    "2a. Which elements does the lens shot?\n",
    "Expected: Sample Counter Blamable elements: conjunct, consume, crime, emit, bad"
   ]
  },
  {
   "cell_type": "code",
   "execution_count": 9,
   "metadata": {},
   "outputs": [
    {
     "name": "stdout",
     "output_type": "stream",
     "text": [
      "(rdflib.term.URIRef('http://www.ontologydesignpatterns.org/ont/fred/domain.owl#conjunct_1'),)\n",
      "(rdflib.term.URIRef('http://www.ontologydesignpatterns.org/ont/fred/domain.owl#consume_1'),)\n",
      "(rdflib.term.URIRef('http://www.ontologydesignpatterns.org/ont/fred/domain.owl#crime_2'),)\n",
      "(rdflib.term.URIRef('http://www.ontologydesignpatterns.org/ont/fred/domain.owl#emit_2'),)\n",
      "(rdflib.term.URIRef('http://www.ontologydesignpatterns.org/ont/fred/domain.owl#bad_1'),)\n"
     ]
    }
   ],
   "source": [
    "\n",
    "cq2a = \"\"\"PREFIX whata:<https://raw.githubusercontent.com/Salvadana/whata_ontology/main/ontology_development/whata_ontology.owl#> \n",
    "    PREFIX rdf: <http://www.w3.org/1999/02/22-rdf-syntax-ns#>\n",
    "    PREFIX per:<http://www.ontologydesignpatterns.org/ont/persp/perspectivisation.owl#>\n",
    "    PREFIX owl: <http://www.w3.org/2002/07/owl#>\n",
    "SELECT ?cut\n",
    "WHERE {\n",
    "  \n",
    "   ?cut per:shotThrough ?lens.\n",
    "  \n",
    "}\n",
    "      \n",
    "\"\"\"\n",
    "results = whataGraph.query(cq2a)\n",
    "\n",
    "for row in results:\n",
    "    print(row)\n",
    "    "
   ]
  },
  {
   "cell_type": "markdown",
   "metadata": {},
   "source": [
    "3. What is the action performed by whataboutism on the main perspectivised eventuality? <br> Expected: the 'Shift Focus From' property for each of the perspectivisation acts (+ evental properties linking the elements annotated as lenses to the elements annotated as eventualities in the amr produced by Arco)"
   ]
  },
  {
   "cell_type": "code",
   "execution_count": 10,
   "metadata": {},
   "outputs": [
    {
     "name": "stdout",
     "output_type": "stream",
     "text": [
      "(rdflib.term.URIRef('https://raw.githubusercontent.com/Salvadana/whata_ontology/main/ontology_development/whata_ontology.owl#perspectivisation_1'), rdflib.term.URIRef('https://raw.githubusercontent.com/Salvadana/whata_ontology/main/ontology_development/whata_ontology.owl#shiftsFocusFrom'))\n",
      "(rdflib.term.URIRef('https://raw.githubusercontent.com/Salvadana/whata_ontology/main/ontology_development/whata_ontology.owl#perspectivisation_2'), rdflib.term.URIRef('https://raw.githubusercontent.com/Salvadana/whata_ontology/main/ontology_development/whata_ontology.owl#shiftsFocusFrom'))\n",
      "(rdflib.term.URIRef('https://raw.githubusercontent.com/Salvadana/whata_ontology/main/ontology_development/whata_ontology.owl#perspectivisation_2'), rdflib.term.URIRef('https://w3id.org/framester/pb/localrole/second_item_in_comparison'))\n",
      "(rdflib.term.URIRef('https://raw.githubusercontent.com/Salvadana/whata_ontology/main/ontology_development/whata_ontology.owl#perspectivisation_3'), rdflib.term.URIRef('https://raw.githubusercontent.com/Salvadana/whata_ontology/main/ontology_development/whata_ontology.owl#shiftsFocusFrom'))\n",
      "(rdflib.term.URIRef('https://raw.githubusercontent.com/Salvadana/whata_ontology/main/ontology_development/whata_ontology.owl#perspectivisation_4'), rdflib.term.URIRef('https://raw.githubusercontent.com/Salvadana/whata_ontology/main/ontology_development/whata_ontology.owl#shiftsFocusFrom'))\n",
      "(rdflib.term.URIRef('https://raw.githubusercontent.com/Salvadana/whata_ontology/main/ontology_development/whata_ontology.owl#perspectivisation_5'), rdflib.term.URIRef('https://raw.githubusercontent.com/Salvadana/whata_ontology/main/ontology_development/whata_ontology.owl#shiftsFocusFrom'))\n"
     ]
    }
   ],
   "source": [
    "#what does whataboutism do? how it acts in the perspectivisation situation?\n",
    "\n",
    "cq3 = \"\"\"PREFIX whata:<https://raw.githubusercontent.com/Salvadana/whata_ontology/main/ontology_development/whata_ontology.owl#> \n",
    "    PREFIX rdf: <http://www.w3.org/1999/02/22-rdf-syntax-ns#>\n",
    "    PREFIX per:<http://www.ontologydesignpatterns.org/ont/persp/perspectivisation.owl#>\n",
    "SELECT  ?s  ?action\n",
    "WHERE {\n",
    "  ?s a whata:WhataboutistPerspectivisation.\n",
    "  ?s per:Lens ?lens.\n",
    "  ?s per:Eventuality ?eventuality.\n",
    "  ?lens ?action  ?eventuality.\n",
    "  \n",
    "}\n",
    "      \n",
    "\"\"\"\n",
    "results = whataGraph.query(cq3)\n",
    "\n",
    "for row in results:\n",
    "    print(row)\n",
    "    "
   ]
  },
  {
   "cell_type": "markdown",
   "metadata": {},
   "source": [
    "#### Linguistic Features CQs"
   ]
  },
  {
   "cell_type": "markdown",
   "metadata": {},
   "source": [
    "4. Which linguistic elements do denote whataboutism? <br>\n",
    "Expected result: \n",
    "- 'look at'\n",
    "- 'the root of the climate change problem'\n",
    "- 'other countries'\n",
    "- 'but what about'\n",
    "- 'what about'"
   ]
  },
  {
   "cell_type": "code",
   "execution_count": 11,
   "metadata": {},
   "outputs": [
    {
     "name": "stdout",
     "output_type": "stream",
     "text": [
      "(rdflib.term.Literal('look at'),)\n",
      "(rdflib.term.Literal('the root of the climate change problem'),)\n",
      "(rdflib.term.Literal('other countries'),)\n",
      "(rdflib.term.Literal('but what about'),)\n",
      "(rdflib.term.Literal('what about'),)\n"
     ]
    }
   ],
   "source": [
    "# Which linguistic elements do denote whataboutism?\n",
    "#expected result: string with pattern, string with sentence\n",
    "cq4 = \"\"\"PREFIX whata:<https://raw.githubusercontent.com/Salvadana/whata_ontology/main/ontology_development/whata_ontology.owl#> \n",
    "    PREFIX rdf: <http://www.w3.org/1999/02/22-rdf-syntax-ns#>\n",
    "SELECT  ?pattern \n",
    "WHERE {\n",
    "  ?s a whata:WhataboutistPerspectivisation;\n",
    "    \n",
    "   whata:relatedIdentifyingPattern ?pattern;\n",
    "   \n",
    "}\n",
    "      \n",
    "\"\"\"\n",
    "results = whataGraph.query(cq4)\n",
    "\n",
    "for row in results:\n",
    "    print(row)\n",
    "    "
   ]
  },
  {
   "cell_type": "markdown",
   "metadata": {},
   "source": [
    "5. is the arguer in the considered annotated perspectivisations being whataboutist? <br> Expected result: True"
   ]
  },
  {
   "cell_type": "code",
   "execution_count": 11,
   "metadata": {},
   "outputs": [
    {
     "name": "stdout",
     "output_type": "stream",
     "text": [
      "True\n"
     ]
    }
   ],
   "source": [
    "\n",
    "cq5 = \"\"\"PREFIX whata:<https://raw.githubusercontent.com/Salvadana/whata_ontology/main/ontology_development/whata_ontology.owl#> \n",
    "    PREFIX rdf: <http://www.w3.org/1999/02/22-rdf-syntax-ns#>\n",
    "    PREFIX per:<http://www.ontologydesignpatterns.org/ont/persp/perspectivisation.owl#>\n",
    "    PREFIX owl: <http://www.w3.org/2002/07/owl#>\n",
    "ASK\n",
    "WHERE {\n",
    "  ?p a whata:WhataboutistPerspectivisation.\n",
    "  ?p per:Lens ?lens.\n",
    "  ?lens a whata:WhataboutistLens.\n",
    "   ?cut per:shotThrough ?lens.\n",
    "   ?cut a whata:CounterBlamable.\n",
    "  \n",
    "}\n",
    "      \n",
    "\"\"\"\n",
    "results = whataGraph.query(cq5)\n",
    "\n",
    "for row in results:\n",
    "    print(row)\n",
    "    "
   ]
  },
  {
   "cell_type": "markdown",
   "metadata": {},
   "source": [
    "### Blame"
   ]
  },
  {
   "cell_type": "markdown",
   "metadata": {},
   "source": [
    "6. On which kind of situation does Whataboutism act? From which does it shift focus? <br>\n",
    "expected: Blamable Eventualities: record1, produce1, emit1penalty1, tidy1"
   ]
  },
  {
   "cell_type": "code",
   "execution_count": 14,
   "metadata": {},
   "outputs": [
    {
     "name": "stdout",
     "output_type": "stream",
     "text": [
      "(rdflib.term.URIRef('http://www.ontologydesignpatterns.org/ont/fred/domain.owl#record_1'),)\n",
      "(rdflib.term.URIRef('http://www.ontologydesignpatterns.org/ont/fred/domain.owl#produce_1'),)\n",
      "(rdflib.term.URIRef('http://www.ontologydesignpatterns.org/ont/fred/domain.owl#emit_1'),)\n",
      "(rdflib.term.URIRef('http://www.ontologydesignpatterns.org/ont/fred/domain.owl#penalty_1'),)\n",
      "(rdflib.term.URIRef('http://www.ontologydesignpatterns.org/ont/fred/domain.owl#tidy_1'),)\n"
     ]
    }
   ],
   "source": [
    "#- Which kind of situation is the one involved in Whataboutism?\n",
    "# - What entities are involved in the blaming situation?\n",
    "#----------------------------------------------\n",
    "cq6 = '''\n",
    "\n",
    "PREFIX whata: <https://raw.githubusercontent.com/Salvadana/whata_ontology/main/ontology_development/whata_ontology.owl#>\n",
    "PREFIX owl: <http://www.w3.org/2002/07/owl#>\n",
    "PREFIX dcterms: <http://purl.org/dc/terms/>\n",
    "PREFIX rdfs: <http://www.w3.org/2000/01/rdf-schema#>\n",
    "PREFIX dns: <http://www.ontologydesignpatterns.org/cp/owl/description.owl#>\n",
    " PREFIX rdf: <http://www.w3.org/1999/02/22-rdf-syntax-ns#>\n",
    "PREFIX per:<http://www.ontologydesignpatterns.org/ont/persp/perspectivisation.owl#>\n",
    "\n",
    "SELECT  ?o  \n",
    "WHERE {\n",
    "  ?s whata:shiftsFocusFrom ?o.\n",
    "}\n",
    "\n",
    "'''\n",
    "results = whataGraph.query(cq6)\n",
    "\n",
    "for row in results:\n",
    "    print(row)\n",
    "    "
   ]
  },
  {
   "cell_type": "markdown",
   "metadata": {},
   "source": [
    "\n",
    "7.  Do all the blamable eventualities have as participants responsibility owners and oughts?\n",
    "<br> Expected result:   True"
   ]
  },
  {
   "cell_type": "code",
   "execution_count": 15,
   "metadata": {},
   "outputs": [
    {
     "name": "stdout",
     "output_type": "stream",
     "text": [
      "True\n"
     ]
    }
   ],
   "source": [
    "\n",
    "\n",
    "cq7= \"\"\"PREFIX whata:<https://raw.githubusercontent.com/Salvadana/whata_ontology/main/ontology_development/whata_ontology.owl#> \n",
    "    PREFIX rdf: <http://www.w3.org/1999/02/22-rdf-syntax-ns#>\n",
    "    PREFIX per:<http://www.ontologydesignpatterns.org/ont/persp/perspectivisation.owl#>\n",
    "ASK\n",
    "WHERE {\n",
    "  ?s whata:isParticipantIn ?blamable.\n",
    "   ?s2 whata:isParticipantIn ?blamable.\n",
    "  ?blamable a whata:Blamable.\n",
    "  ?s a whata:Ought.\n",
    "   ?s2 a whata:ResponsibilityOwner.\n",
    "}\n",
    "      \n",
    "\"\"\"\n",
    "results = whataGraph.query(cq7)\n",
    "\n",
    "for row in results:\n",
    "    print(row)\n",
    "    "
   ]
  },
  {
   "cell_type": "markdown",
   "metadata": {},
   "source": [
    " 8. (Which individuals are involved in the blaming situation frame?) Which Responsibility owners are involved in the blamable situations?\n",
    " <br> Expected result: person_1, yale, country_1, penalty responsibility owner, Billy"
   ]
  },
  {
   "cell_type": "code",
   "execution_count": 17,
   "metadata": {},
   "outputs": [
    {
     "name": "stdout",
     "output_type": "stream",
     "text": [
      "(rdflib.term.URIRef('http://www.ontologydesignpatterns.org/ont/fred/domain.owl#person_1'),)\n",
      "(rdflib.term.URIRef('http://www.ontologydesignpatterns.org/ont/fred/domain.owl#Yale'),)\n",
      "(rdflib.term.URIRef('http://www.ontologydesignpatterns.org/ont/fred/domain.owl#country_1'),)\n",
      "(rdflib.term.URIRef('https://raw.githubusercontent.com/Salvadana/whata_ontology/main/ontology_development/whata_ontology.owl#PenaltyResponsibilityOwner'),)\n",
      "(rdflib.term.URIRef('http://www.ontologydesignpatterns.org/ont/fred/domain.owl#Billy'),)\n"
     ]
    }
   ],
   "source": [
    "\n",
    "# - What entities are involved in the blaming situation?\n",
    "cq8 = \"\"\"\n",
    "    PREFIX whata:<https://raw.githubusercontent.com/Salvadana/whata_ontology/main/ontology_development/whata_ontology.owl#> \n",
    "    PREFIX rdf: <http://www.w3.org/1999/02/22-rdf-syntax-ns#>\n",
    "    SELECT DISTINCT ?s\n",
    "   WHERE {\n",
    "   ?s a whata:ResponsibilityOwner.\n",
    "       ?s whata:isParticipantIn ?blamable.\n",
    "       ?blamable a whata:Blamable.\n",
    "        }\n",
    "\"\"\"\n",
    "results = whataGraph.query(cq8)\n",
    "\n",
    "for row in results:\n",
    "    print(row)\n",
    "    "
   ]
  },
  {
   "cell_type": "markdown",
   "metadata": {},
   "source": [
    "8a. Which ROs are involved in the Counter-Blamable situation? <br> Expected result: US, Yale, person_1, man_1, Bobby <br> (note that some counter blamable situations can have the same ROs than the blamable but still consist in different situations)"
   ]
  },
  {
   "cell_type": "code",
   "execution_count": 18,
   "metadata": {},
   "outputs": [
    {
     "name": "stdout",
     "output_type": "stream",
     "text": [
      "(rdflib.term.URIRef('http://www.ontologydesignpatterns.org/ont/fred/domain.owl#US'),)\n",
      "(rdflib.term.URIRef('http://www.ontologydesignpatterns.org/ont/fred/domain.owl#Yale'),)\n",
      "(rdflib.term.URIRef('http://www.ontologydesignpatterns.org/ont/fred/domain.owl#person_1'),)\n",
      "(rdflib.term.URIRef('http://www.ontologydesignpatterns.org/ont/fred/domain.owl#man_1'),)\n",
      "(rdflib.term.URIRef('http://www.ontologydesignpatterns.org/ont/fred/domain.owl#Bobby'),)\n"
     ]
    }
   ],
   "source": [
    "\n",
    "# - What ros are involved in the blaming situation?\n",
    "cq8a = \"\"\"\n",
    "    PREFIX whata:<https://raw.githubusercontent.com/Salvadana/whata_ontology/main/ontology_development/whata_ontology.owl#> \n",
    "    PREFIX rdf: <http://www.w3.org/1999/02/22-rdf-syntax-ns#>\n",
    "    SELECT DISTINCT ?s\n",
    "   WHERE {\n",
    "   ?s a whata:ResponsibilityOwner.\n",
    "       ?s whata:isParticipantIn ?blamable.\n",
    "       ?blamable a whata:CounterBlamable.\n",
    "        }\n",
    "\"\"\"\n",
    "results = whataGraph.query(cq8a)\n",
    "\n",
    "for row in results:\n",
    "    print(row)\n",
    "    "
   ]
  },
  {
   "cell_type": "markdown",
   "metadata": {},
   "source": [
    "### Blending"
   ]
  },
  {
   "cell_type": "markdown",
   "metadata": {},
   "source": [
    "#### Blending\n",
    "\n",
    "9. Does Whataboutism act accordingly to the Conceptual Blanding Theory? I.e. Does it create a blended space? <br> Expected result:True"
   ]
  },
  {
   "cell_type": "code",
   "execution_count": 17,
   "metadata": {},
   "outputs": [
    {
     "name": "stdout",
     "output_type": "stream",
     "text": [
      "True\n"
     ]
    }
   ],
   "source": [
    "\n",
    "\n",
    "cq9 = \"\"\"PREFIX whata:<https://raw.githubusercontent.com/Salvadana/whata_ontology/main/ontology_development/whata_ontology.owl#> \n",
    "    PREFIX rdf: <http://www.w3.org/1999/02/22-rdf-syntax-ns#>\n",
    "    PREFIX per:<http://www.ontologydesignpatterns.org/ont/persp/perspectivisation.owl#>\n",
    "ASK\n",
    "WHERE {\n",
    "  ?s a whata:BlendedBlameBackground .\n",
    "  ?persp a whata:WhataboutistPerspectivisation.\n",
    "  ?perp per:Background ?s.\n",
    "}\n",
    "      \n",
    "\"\"\"\n",
    "results = whataGraph.query(cq9)\n",
    "\n",
    "for row in results:\n",
    "    print(row)\n",
    "    "
   ]
  },
  {
   "cell_type": "markdown",
   "metadata": {},
   "source": [
    "10. Which kind of elements are the blended spaces created as a basis for applying whataboutism? <br> Expected result:act-02, problem1, emit-01, , crime-02, bad-07"
   ]
  },
  {
   "cell_type": "code",
   "execution_count": 18,
   "metadata": {},
   "outputs": [
    {
     "name": "stdout",
     "output_type": "stream",
     "text": [
      "(rdflib.term.URIRef('https://w3id.org/framester/pb/data/act-02'),)\n",
      "(rdflib.term.URIRef('http://www.ontologydesignpatterns.org/ont/fred/domain.owl#problem_1'),)\n",
      "(rdflib.term.URIRef('https://w3id.org/framester/pb/data/emit-01'),)\n",
      "(rdflib.term.URIRef('https://w3id.org/framester/pb/data/crime-02'),)\n",
      "(rdflib.term.URIRef('https://w3id.org/framester/pb/data/bad-07'),)\n"
     ]
    }
   ],
   "source": [
    "#Which kind of elements are the blended spaces created as a basis for applying whataboutism? \n",
    "#which is the blended space?\n",
    "cq10 = \"\"\"PREFIX whata:<https://raw.githubusercontent.com/Salvadana/whata_ontology/main/ontology_development/whata_ontology.owl#> \n",
    "    PREFIX rdf: <http://www.w3.org/1999/02/22-rdf-syntax-ns#>\n",
    "    PREFIX rdfs: <http://www.w3.org/2000/01/rdf-schema#>\n",
    "    PREFIX per:<http://www.ontologydesignpatterns.org/ont/persp/perspectivisation.owl#>\n",
    "    PREFIX dns: <http://www.ontologydesignpatterns.org/cp/owl/description.owl#>\n",
    "SELECT ?s\n",
    "WHERE {\n",
    "  ?s a whata:BlendedBlameBackground.\n",
    "}\n",
    "      \n",
    "\"\"\"\n",
    "results = whataGraph.query(cq10)\n",
    "\n",
    "for row in results:\n",
    "    print(row)\n",
    "    "
   ]
  },
  {
   "cell_type": "markdown",
   "metadata": {},
   "source": [
    "11. Which are the features of the Blended Space? Which ROs and oughts are involved in a blended space?\n",
    "<br> Expected: responsibility owner 1 and 2 + ought for each perspectivisation: \n",
    "- ought: right_2/ ROs: US,person_1;\n",
    "- ought: climate1/ RO: Yale;\n",
    "- ought: stop / ROs: country1 and person1; \n",
    "- oughts :effective1 and victim1/ ROs: penalty ro, man1; \n",
    "- ought: clean-01/ ROs: Billy, Bobby.\n"
   ]
  },
  {
   "cell_type": "code",
   "execution_count": 20,
   "metadata": {},
   "outputs": [
    {
     "name": "stdout",
     "output_type": "stream",
     "text": [
      "(rdflib.term.URIRef('http://www.ontologydesignpatterns.org/ont/fred/domain.owl#US'), rdflib.term.URIRef('https://w3id.org/framester/pb/data/act-02'))\n",
      "(rdflib.term.URIRef('http://www.ontologydesignpatterns.org/ont/fred/domain.owl#person_1'), rdflib.term.URIRef('https://w3id.org/framester/pb/data/act-02'))\n",
      "(rdflib.term.URIRef('http://www.ontologydesignpatterns.org/ont/fred/domain.owl#right_2'), rdflib.term.URIRef('https://w3id.org/framester/pb/data/act-02'))\n",
      "(rdflib.term.URIRef('http://www.ontologydesignpatterns.org/ont/fred/domain.owl#Yale'), rdflib.term.URIRef('http://www.ontologydesignpatterns.org/ont/fred/domain.owl#problem_1'))\n",
      "(rdflib.term.URIRef('http://www.ontologydesignpatterns.org/ont/fred/domain.owl#climate_1'), rdflib.term.URIRef('http://www.ontologydesignpatterns.org/ont/fred/domain.owl#problem_1'))\n",
      "(rdflib.term.URIRef('http://www.ontologydesignpatterns.org/ont/fred/domain.owl#stop_1'), rdflib.term.URIRef('https://w3id.org/framester/pb/data/emit-01'))\n",
      "(rdflib.term.URIRef('http://www.ontologydesignpatterns.org/ont/fred/domain.owl#country_1'), rdflib.term.URIRef('https://w3id.org/framester/pb/data/emit-01'))\n",
      "(rdflib.term.URIRef('http://www.ontologydesignpatterns.org/ont/fred/domain.owl#person_1'), rdflib.term.URIRef('https://w3id.org/framester/pb/data/emit-01'))\n",
      "(rdflib.term.URIRef('http://www.ontologydesignpatterns.org/ont/fred/domain.owl#effective_1'), rdflib.term.URIRef('https://w3id.org/framester/pb/data/crime-02'))\n",
      "(rdflib.term.URIRef('https://raw.githubusercontent.com/Salvadana/whata_ontology/main/ontology_development/whata_ontology.owl#PenaltyResponsibilityOwner'), rdflib.term.URIRef('https://w3id.org/framester/pb/data/crime-02'))\n",
      "(rdflib.term.URIRef('http://www.ontologydesignpatterns.org/ont/fred/domain.owl#victim_1'), rdflib.term.URIRef('https://w3id.org/framester/pb/data/crime-02'))\n",
      "(rdflib.term.URIRef('http://www.ontologydesignpatterns.org/ont/fred/domain.owl#man_1'), rdflib.term.URIRef('https://w3id.org/framester/pb/data/crime-02'))\n",
      "(rdflib.term.URIRef('http://www.ontologydesignpatterns.org/ont/fred/domain.owl#Billy'), rdflib.term.URIRef('https://w3id.org/framester/pb/data/bad-07'))\n",
      "(rdflib.term.URIRef('https://w3id.org/framester/pb/data/clean-01'), rdflib.term.URIRef('https://w3id.org/framester/pb/data/bad-07'))\n",
      "(rdflib.term.URIRef('http://www.ontologydesignpatterns.org/ont/fred/domain.owl#Bobby'), rdflib.term.URIRef('https://w3id.org/framester/pb/data/bad-07'))\n"
     ]
    }
   ],
   "source": [
    "\n",
    "#what does a blamable eventuality involve?\n",
    "cq11 = \"\"\"PREFIX whata:<https://raw.githubusercontent.com/Salvadana/whata_ontology/main/ontology_development/whata_ontology.owl#> \n",
    "    PREFIX rdf: <http://www.w3.org/1999/02/22-rdf-syntax-ns#>\n",
    "    PREFIX rdfs: <http://www.w3.org/2000/01/rdf-schema#>\n",
    "    PREFIX per:<http://www.ontologydesignpatterns.org/ont/persp/perspectivisation.owl#>\n",
    "    PREFIX dns: <http://www.ontologydesignpatterns.org/cp/owl/description.owl#>\n",
    "SELECT ?s ?blended\n",
    "WHERE {\n",
    "  ?s whata:isParticipantIn ?blended.\n",
    "  ?blended a whata:BlendedBlameBackground.\n",
    "}\n",
    "      \n",
    "\"\"\"\n",
    "results = whataGraph.query(cq11)\n",
    "\n",
    "for row in results:\n",
    "    print(row)\n",
    "    "
   ]
  },
  {
   "cell_type": "markdown",
   "metadata": {},
   "source": [
    "#### Fallacies and Biases connections with whataboutism"
   ]
  },
  {
   "cell_type": "markdown",
   "metadata": {},
   "source": [
    "12. In which of the annotated perspectivisations is whataboutism connected to any discourse fallacies?\n",
    "<br> Expected: perspectivisation_5 , relevance_fallacy_1"
   ]
  },
  {
   "cell_type": "code",
   "execution_count": 23,
   "metadata": {},
   "outputs": [
    {
     "name": "stdout",
     "output_type": "stream",
     "text": [
      "(rdflib.term.URIRef('https://raw.githubusercontent.com/Salvadana/whata_ontology/main/ontology_development/whata_ontology.owl#perspectivisation_5'), rdflib.term.URIRef('https://raw.githubusercontent.com/Salvadana/whata_ontology/main/ontology_development/whata_ontology.owl#relevance_fallacy_1'))\n"
     ]
    }
   ],
   "source": [
    "cq12='''PREFIX whata:<https://raw.githubusercontent.com/Salvadana/whata_ontology/main/ontology_development/whata_ontology.owl#> \n",
    "    PREFIX rdf: <http://www.w3.org/1999/02/22-rdf-syntax-ns#>\n",
    "    PREFIX rdfs: <http://www.w3.org/2000/01/rdf-schema#>\n",
    "    PREFIX per:<http://www.ontologydesignpatterns.org/ont/persp/perspectivisation.owl#>\n",
    "    PREFIX dns: <http://www.ontologydesignpatterns.org/cp/owl/description.owl#>\n",
    "\n",
    "SELECT  ?p  ?relatedLens\n",
    "WHERE {\n",
    "  ?p per:Lens ?lens.\n",
    "  ?relatedLens whata:relatedToLens ?lens .\n",
    "  ?lens a whata:WhataboutistLens.\n",
    "  ?relatedLens rdf:type whata:RelevanceFallacyLens .\n",
    "}'''\n",
    "results = whataGraph.query(cq12)\n",
    "\n",
    "for row in results:\n",
    "    print(row)"
   ]
  },
  {
   "cell_type": "markdown",
   "metadata": {},
   "source": [
    "13.  Is whataboutism connected to any Cognitive Bias? And to which kind? \n",
    "<br> Expected: perspectivisation_3 , c_bias_1"
   ]
  },
  {
   "cell_type": "code",
   "execution_count": 4,
   "metadata": {},
   "outputs": [
    {
     "name": "stdout",
     "output_type": "stream",
     "text": [
      "(rdflib.term.URIRef('https://raw.githubusercontent.com/Salvadana/whata_ontology/main/ontology_development/whata_ontology.owl#perspectivisation_3'), rdflib.term.URIRef('https://raw.githubusercontent.com/Salvadana/whata_ontology/main/ontology_development/whata_ontology.owl#c_bias_1'))\n"
     ]
    }
   ],
   "source": [
    "cq12='''PREFIX whata:<https://raw.githubusercontent.com/Salvadana/whata_ontology/main/ontology_development/whata_ontology.owl#> \n",
    "    PREFIX rdf: <http://www.w3.org/1999/02/22-rdf-syntax-ns#>\n",
    "    PREFIX rdfs: <http://www.w3.org/2000/01/rdf-schema#>\n",
    "    PREFIX per:<http://www.ontologydesignpatterns.org/ont/persp/perspectivisation.owl#>\n",
    "    PREFIX dns: <http://www.ontologydesignpatterns.org/cp/owl/description.owl#>\n",
    "\n",
    "SELECT ?p ?relatedLens\n",
    "WHERE {\n",
    "  ?relatedLens whata:relatedToLens ?lens.\n",
    "  ?lens a whata:WhataboutistLens .\n",
    "  ?relatedLens rdf:type whata:ConfirmationBiasLens .\n",
    "  ?p per:Lens ?lens.\n",
    "}'''\n",
    "results = whataGraph.query(cq12)\n",
    "\n",
    "for row in results:\n",
    "    print(row)"
   ]
  }
 ],
 "metadata": {
  "kernelspec": {
   "display_name": "Python 3",
   "language": "python",
   "name": "python3"
  },
  "language_info": {
   "codemirror_mode": {
    "name": "ipython",
    "version": 3
   },
   "file_extension": ".py",
   "mimetype": "text/x-python",
   "name": "python",
   "nbconvert_exporter": "python",
   "pygments_lexer": "ipython3",
   "version": "3.11.4"
  }
 },
 "nbformat": 4,
 "nbformat_minor": 2
}
