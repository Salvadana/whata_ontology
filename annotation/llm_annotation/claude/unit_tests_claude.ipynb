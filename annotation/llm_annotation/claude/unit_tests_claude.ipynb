{
 "cells": [
  {
   "cell_type": "markdown",
   "metadata": {},
   "source": [
    "## Test and fix.\n",
    "'An ontology module developed for addressing a certain user story associated to a certain competency question, is tested e.g.\n",
    "\n",
    "- (i) by encoding in the ontology for a sample set of facts based on the user\n",
    "story, \n",
    "- (ii) defining one or a set of SPARQL queries that formally encode\n",
    "the competency question, \n",
    "- (iii) associating each SPARQL query with the expected result, \n",
    "- and (i) running the SPARQL queries against the ontology and compare actual with expected results.' \n",
    "\n",
    "### Task description\n",
    "\n",
    "'The goal of this task is to validate the resulting module\n",
    "with respect to the CQ just modeled. To this aim, the task is executed through\n",
    "the following steps: \n",
    "- (i) the CQ is elaborated in order to derive a unit test e.g.,\n",
    "SPARQL query;\n",
    "- (ii) the instance module is fed with sample facts based on the\n",
    "story; \n",
    "- (iii) the unit test is ran against the ontology module. If the result is not\n",
    "the expected one i.e. the test is not passed, the module is revised in order to fix\n",
    "it, and the unit test ran again until the test is passed; \n",
    "- (iv) run all other unit\n",
    "tests associated with the story so far until they all pass.'  <br>\n",
    "\n",
    "<br>\n",
    "Reference:<br>\n",
    "Presutti, V., Daga, E., Gangemi, A., & Blomqvist, E. (2009). eXtreme Design with Content Ontology Design Patterns. WOP.  https://dl.acm.org/doi/10.5555/2889761.2889768"
   ]
  },
  {
   "cell_type": "code",
   "execution_count": 66,
   "metadata": {},
   "outputs": [
    {
     "data": {
      "text/plain": [
       "<Graph identifier=N6b976808a2744b4ea94967bb14df0bda (<class 'rdflib.graph.Graph'>)>"
      ]
     },
     "execution_count": 66,
     "metadata": {},
     "output_type": "execute_result"
    }
   ],
   "source": [
    "#%pip install rdflib\n",
    "from rdflib import *\n",
    "whataGraph = Graph()\n",
    "whataGraph.parse(\"claude_sample_3.ttl\", format=\"ttl\")"
   ]
  },
  {
   "cell_type": "markdown",
   "metadata": {},
   "source": [
    "## SPARQL queries\n",
    "#### Perspectivisation CQs\n",
    "1. Is whataboutism recognisable as an (or part of an ) act of perspectivisation?     \n",
    "<br>Expected result: perspectivisation 1, 2, 3, 4, 5\n"
   ]
  },
  {
   "cell_type": "code",
   "execution_count": 67,
   "metadata": {},
   "outputs": [
    {
     "name": "stdout",
     "output_type": "stream",
     "text": [
      "(rdflib.term.URIRef('https://raw.githubusercontent.com/Salvadana/whata_ontology/main/ontology_development/whata_ontology.owl#whataboutistperspectivisation1'),)\n",
      "(rdflib.term.URIRef('https://raw.githubusercontent.com/Salvadana/whata_ontology/main/ontology_development/whata_ontology.owl#whataboutistperspectivisation3'),)\n"
     ]
    }
   ],
   "source": [
    "\n",
    "cq1 = \"\"\"PREFIX whata:<https://raw.githubusercontent.com/Salvadana/whata_ontology/main/ontology_development/whata_ontology.owl#> \n",
    "    PREFIX rdf: <http://www.w3.org/1999/02/22-rdf-syntax-ns#>\n",
    "    PREFIX per:<http://www.ontologydesignpatterns.org/ont/persp/perspectivisation.owl#>\n",
    "    \n",
    "SELECT  ?perspectivisation\n",
    "WHERE {\n",
    "  ?perspectivisation a whata:WhataboutistPerspectivisation;\n",
    "      per:Eventuality ?eventuality;\n",
    "     per:Lens ?lens;\n",
    "     per:Background ?background;\n",
    "     per:Cut ?cut.\n",
    "}     \n",
    "\"\"\"\n",
    "results = whataGraph.query(cq1)\n",
    "\n",
    "for row in results:\n",
    "    print(row)\n",
    "    "
   ]
  },
  {
   "cell_type": "markdown",
   "metadata": {},
   "source": [
    "2. By the means of which component of perpectivisation does Whataboutism act? The aim is retrieving the entities that are responsible in the focus shifting action within a cognitiveperspectivisation. <br> Expected result: the lenses look_1, contrast_1 (used in 2 different perspectivisations), doubt_1 and equal_1."
   ]
  },
  {
   "cell_type": "code",
   "execution_count": 68,
   "metadata": {},
   "outputs": [
    {
     "name": "stdout",
     "output_type": "stream",
     "text": [
      "(rdflib.term.URIRef('https://raw.githubusercontent.com/Salvadana/whata_ontology/main/ontology_development/whata_ontology.owl#whataboutistlens1'),)\n",
      "(rdflib.term.URIRef('https://raw.githubusercontent.com/Salvadana/whata_ontology/main/ontology_development/whata_ontology.owl#whataboutistlens3'),)\n"
     ]
    }
   ],
   "source": [
    "\n",
    "cq2 = \"\"\"PREFIX whata:<https://raw.githubusercontent.com/Salvadana/whata_ontology/main/ontology_development/whata_ontology.owl#> \n",
    "    PREFIX rdf: <http://www.w3.org/1999/02/22-rdf-syntax-ns#>\n",
    "    PREFIX per:<http://www.ontologydesignpatterns.org/ont/persp/perspectivisation.owl#>\n",
    "    PREFIX owl: <http://www.w3.org/2002/07/owl#>\n",
    "SELECT ?lens\n",
    "WHERE {\n",
    "  ?p a whata:WhataboutistPerspectivisation.\n",
    "  ?p per:Eventuality ?e.\n",
    "  ?lens whata:shiftsFocusFrom ?e.\n",
    "  }     \n",
    "\"\"\"\n",
    "results = whataGraph.query(cq2)\n",
    "\n",
    "for row in results:\n",
    "    print(row)\n",
    "    "
   ]
  },
  {
   "cell_type": "markdown",
   "metadata": {},
   "source": [
    "2a. Which elements does the lens shot?\n",
    "Expected: Sample Counter Blamable elements: conjunct, consume, crime, emit, bad"
   ]
  },
  {
   "cell_type": "code",
   "execution_count": 69,
   "metadata": {},
   "outputs": [],
   "source": [
    "\n",
    "cq2a = \"\"\"PREFIX whata:<https://raw.githubusercontent.com/Salvadana/whata_ontology/main/ontology_development/whata_ontology.owl#> \n",
    "    PREFIX rdf: <http://www.w3.org/1999/02/22-rdf-syntax-ns#>\n",
    "    PREFIX per:<http://www.ontologydesignpatterns.org/ont/persp/perspectivisation.owl#>\n",
    "    PREFIX owl: <http://www.w3.org/2002/07/owl#>\n",
    "SELECT ?cut\n",
    "WHERE {\n",
    "  \n",
    "   ?cut per:shotThrough ?lens.}\"\"\"\n",
    "results = whataGraph.query(cq2a)\n",
    "\n",
    "for row in results:\n",
    "    print(row)\n",
    "    "
   ]
  },
  {
   "cell_type": "markdown",
   "metadata": {},
   "source": [
    "3. What is the action performed by whataboutism on the main perspectivised eventuality? <br> Expected: the 'Shift Focus From' property for each of the perspectivisation acts (+ evental properties linking the elements annotated as lenses to the elements annotated as eventualities in the amr produced by Arco)"
   ]
  },
  {
   "cell_type": "code",
   "execution_count": 70,
   "metadata": {},
   "outputs": [
    {
     "name": "stdout",
     "output_type": "stream",
     "text": [
      "(rdflib.term.URIRef('https://raw.githubusercontent.com/Salvadana/whata_ontology/main/ontology_development/whata_ontology.owl#whataboutistperspectivisation1'), rdflib.term.URIRef('https://raw.githubusercontent.com/Salvadana/whata_ontology/main/ontology_development/whata_ontology.owl#shiftsFocusFrom'))\n",
      "(rdflib.term.URIRef('https://raw.githubusercontent.com/Salvadana/whata_ontology/main/ontology_development/whata_ontology.owl#whataboutistperspectivisation3'), rdflib.term.URIRef('https://raw.githubusercontent.com/Salvadana/whata_ontology/main/ontology_development/whata_ontology.owl#shiftsFocusFrom'))\n"
     ]
    }
   ],
   "source": [
    "#what does whataboutism do? how it acts in the perspectivisation situation?\n",
    "\n",
    "cq3 = \"\"\"PREFIX whata:<https://raw.githubusercontent.com/Salvadana/whata_ontology/main/ontology_development/whata_ontology.owl#> \n",
    "    PREFIX rdf: <http://www.w3.org/1999/02/22-rdf-syntax-ns#>\n",
    "    PREFIX per:<http://www.ontologydesignpatterns.org/ont/persp/perspectivisation.owl#>\n",
    "SELECT  ?s  ?action\n",
    "WHERE {\n",
    "  ?s a whata:WhataboutistPerspectivisation.\n",
    "  ?s per:Lens ?lens.\n",
    "  ?s per:Eventuality ?eventuality.\n",
    "  ?lens ?action  ?eventuality.}\"\"\"\n",
    "results = whataGraph.query(cq3)\n",
    "\n",
    "for row in results:\n",
    "    print(row)\n",
    "    "
   ]
  },
  {
   "cell_type": "markdown",
   "metadata": {},
   "source": [
    "#### Linguistic Features CQs"
   ]
  },
  {
   "cell_type": "markdown",
   "metadata": {},
   "source": [
    "4. Which linguistic elements do denote whataboutism? <br>\n",
    "Expected result: \n",
    "- 'look at'\n",
    "- 'the root of the climate change problem'\n",
    "- 'other countries'\n",
    "- 'but what about'\n",
    "- 'what about'"
   ]
  },
  {
   "cell_type": "code",
   "execution_count": 71,
   "metadata": {},
   "outputs": [],
   "source": [
    "# Which linguistic elements do denote whataboutism?\n",
    "#expected result: string with pattern, string with sentence\n",
    "cq4 = \"\"\"PREFIX whata:<https://raw.githubusercontent.com/Salvadana/whata_ontology/main/ontology_development/whata_ontology.owl#> \n",
    "    PREFIX rdf: <http://www.w3.org/1999/02/22-rdf-syntax-ns#>\n",
    "SELECT  ?pattern \n",
    "WHERE {\n",
    "  ?s a whata:WhataboutistPerspectivisation;\n",
    "    \n",
    "   whata:relatedIdentifyingPattern ?pattern;\n",
    "   \n",
    "}\n",
    "      \n",
    "\"\"\"\n",
    "results = whataGraph.query(cq4)\n",
    "\n",
    "for row in results:\n",
    "    print(row)\n",
    "    "
   ]
  },
  {
   "cell_type": "markdown",
   "metadata": {},
   "source": [
    "5. is the arguer in the considered annotated perspectivisations being whataboutist? <br> Expected result: True"
   ]
  },
  {
   "cell_type": "code",
   "execution_count": 72,
   "metadata": {},
   "outputs": [
    {
     "name": "stdout",
     "output_type": "stream",
     "text": [
      "False\n"
     ]
    }
   ],
   "source": [
    "\n",
    "cq5 = \"\"\"PREFIX whata:<https://raw.githubusercontent.com/Salvadana/whata_ontology/main/ontology_development/whata_ontology.owl#> \n",
    "    PREFIX rdf: <http://www.w3.org/1999/02/22-rdf-syntax-ns#>\n",
    "    PREFIX per:<http://www.ontologydesignpatterns.org/ont/persp/perspectivisation.owl#>\n",
    "    PREFIX owl: <http://www.w3.org/2002/07/owl#>\n",
    "ASK\n",
    "WHERE {\n",
    "  ?p a whata:WhataboutistPerspectivisation.\n",
    "  ?p per:Lens ?lens.\n",
    "  ?lens a whata:WhataboutistLens.\n",
    "   ?cut per:shotThrough ?lens.\n",
    "   ?cut a whata:CounterBlamable.\n",
    "  \n",
    "}\n",
    "      \n",
    "\"\"\"\n",
    "results = whataGraph.query(cq5)\n",
    "\n",
    "for row in results:\n",
    "    print(row)\n",
    "    "
   ]
  },
  {
   "cell_type": "markdown",
   "metadata": {},
   "source": [
    "### Blame"
   ]
  },
  {
   "cell_type": "markdown",
   "metadata": {},
   "source": [
    "6. On which kind of situation does Whataboutism act? From which does it shift focus? <br>\n",
    "expected: Blamable Eventualities: record1, produce1, emit1penalty1, tidy1"
   ]
  },
  {
   "cell_type": "code",
   "execution_count": 73,
   "metadata": {},
   "outputs": [
    {
     "name": "stdout",
     "output_type": "stream",
     "text": [
      "(rdflib.term.URIRef('https://raw.githubusercontent.com/Salvadana/whata_ontology/main/ontology_development/whata_ontology.owl#blamable1'),)\n",
      "(rdflib.term.URIRef('https://raw.githubusercontent.com/Salvadana/whata_ontology/main/ontology_development/whata_ontology.owl#blamable3'),)\n"
     ]
    }
   ],
   "source": [
    "#- Which kind of situation is the one involved in Whataboutism?\n",
    "# - What entities are involved in the blaming situation?\n",
    "#----------------------------------------------\n",
    "cq6 = '''\n",
    "\n",
    "PREFIX whata: <https://raw.githubusercontent.com/Salvadana/whata_ontology/main/ontology_development/whata_ontology.owl#>\n",
    "PREFIX owl: <http://www.w3.org/2002/07/owl#>\n",
    "PREFIX dcterms: <http://purl.org/dc/terms/>\n",
    "PREFIX rdfs: <http://www.w3.org/2000/01/rdf-schema#>\n",
    "PREFIX dns: <http://www.ontologydesignpatterns.org/cp/owl/description.owl#>\n",
    " PREFIX rdf: <http://www.w3.org/1999/02/22-rdf-syntax-ns#>\n",
    "PREFIX per:<http://www.ontologydesignpatterns.org/ont/persp/perspectivisation.owl#>\n",
    "\n",
    "SELECT  ?o  \n",
    "WHERE {\n",
    "  ?s whata:shiftsFocusFrom ?o.\n",
    "  ?o a whata:Blamable.\n",
    "}\n",
    "\n",
    "'''\n",
    "results = whataGraph.query(cq6)\n",
    "\n",
    "for row in results:\n",
    "    print(row)\n",
    "    "
   ]
  },
  {
   "cell_type": "markdown",
   "metadata": {},
   "source": [
    "\n",
    "7.  Do all the blamable eventualities have as participants responsibility owners and oughts?\n",
    "<br> Expected result:   True"
   ]
  },
  {
   "cell_type": "code",
   "execution_count": 74,
   "metadata": {},
   "outputs": [
    {
     "name": "stdout",
     "output_type": "stream",
     "text": [
      "True\n"
     ]
    }
   ],
   "source": [
    "\n",
    "\n",
    "cq7= \"\"\"PREFIX whata:<https://raw.githubusercontent.com/Salvadana/whata_ontology/main/ontology_development/whata_ontology.owl#> \n",
    "    PREFIX rdf: <http://www.w3.org/1999/02/22-rdf-syntax-ns#>\n",
    "    PREFIX per:<http://www.ontologydesignpatterns.org/ont/persp/perspectivisation.owl#>\n",
    "ASK\n",
    "WHERE {\n",
    "  ?s whata:isParticipantIn ?blamable.\n",
    "   ?s2 whata:isParticipantIn ?blamable.\n",
    "  ?blamable a whata:Blamable.\n",
    "  ?s a whata:Ought.\n",
    "   ?s2 a whata:ResponsibilityOwner.\n",
    "}\n",
    "      \n",
    "\"\"\"\n",
    "results = whataGraph.query(cq7)\n",
    "\n",
    "for row in results:\n",
    "    print(row)\n",
    "    "
   ]
  },
  {
   "cell_type": "markdown",
   "metadata": {},
   "source": [
    " 8. (Which individuals are involved in the blaming situation frame?) Which Responsibility owners are involved in the blamable situations?\n",
    " <br> Expected result: person_1, yale, country_1, penalty responsibility owner, Billy"
   ]
  },
  {
   "cell_type": "code",
   "execution_count": 75,
   "metadata": {},
   "outputs": [
    {
     "name": "stdout",
     "output_type": "stream",
     "text": [
      "(rdflib.term.URIRef('https://raw.githubusercontent.com/Salvadana/whata_ontology/main/ontology_development/whata_ontology.owl#respowner1'),)\n",
      "(rdflib.term.URIRef('https://raw.githubusercontent.com/Salvadana/whata_ontology/main/ontology_development/whata_ontology.owl#respowner3'),)\n"
     ]
    }
   ],
   "source": [
    "\n",
    "# - What entities are involved in the blaming situation?\n",
    "cq8 = \"\"\"\n",
    "    PREFIX whata:<https://raw.githubusercontent.com/Salvadana/whata_ontology/main/ontology_development/whata_ontology.owl#> \n",
    "    PREFIX rdf: <http://www.w3.org/1999/02/22-rdf-syntax-ns#>\n",
    "    SELECT DISTINCT ?s\n",
    "   WHERE {\n",
    "   ?s a whata:ResponsibilityOwner.\n",
    "       ?s whata:isParticipantIn ?blamable.\n",
    "       ?blamable a whata:Blamable.\n",
    "        }\n",
    "\"\"\"\n",
    "results = whataGraph.query(cq8)\n",
    "\n",
    "for row in results:\n",
    "    print(row)\n",
    "    "
   ]
  },
  {
   "cell_type": "markdown",
   "metadata": {},
   "source": [
    "8a. Which ROs are involved in the Counter-Blamable situation? <br> Expected result: US, Yale, person_1, man_1, Bobby <br> (note that some counter blamable situations can have the same ROs than the blamable but still consist in different situations)"
   ]
  },
  {
   "cell_type": "code",
   "execution_count": 76,
   "metadata": {},
   "outputs": [
    {
     "name": "stdout",
     "output_type": "stream",
     "text": [
      "(rdflib.term.URIRef('https://raw.githubusercontent.com/Salvadana/whata_ontology/main/ontology_development/whata_ontology.owl#respowner2'),)\n",
      "(rdflib.term.URIRef('https://raw.githubusercontent.com/Salvadana/whata_ontology/main/ontology_development/whata_ontology.owl#respowner4'),)\n"
     ]
    }
   ],
   "source": [
    "\n",
    "# - What ros are involved in the blaming situation?\n",
    "cq8a = \"\"\"\n",
    "    PREFIX whata:<https://raw.githubusercontent.com/Salvadana/whata_ontology/main/ontology_development/whata_ontology.owl#> \n",
    "    PREFIX rdf: <http://www.w3.org/1999/02/22-rdf-syntax-ns#>\n",
    "    SELECT DISTINCT ?s\n",
    "   WHERE {\n",
    "   ?s a whata:ResponsibilityOwner.\n",
    "       ?s whata:isParticipantIn ?blamable.\n",
    "       ?blamable a whata:CounterBlamable.\n",
    "        }\n",
    "\"\"\"\n",
    "results = whataGraph.query(cq8a)\n",
    "\n",
    "for row in results:\n",
    "    print(row)\n",
    "    "
   ]
  },
  {
   "cell_type": "markdown",
   "metadata": {},
   "source": [
    "### Blending"
   ]
  },
  {
   "cell_type": "markdown",
   "metadata": {},
   "source": [
    "#### Blending\n",
    "\n",
    "9. Does Whataboutism act accordingly to the Conceptual Blanding Theory? I.e. Does it create a blended space? <br> Expected result:True"
   ]
  },
  {
   "cell_type": "code",
   "execution_count": 77,
   "metadata": {},
   "outputs": [
    {
     "name": "stdout",
     "output_type": "stream",
     "text": [
      "True\n"
     ]
    }
   ],
   "source": [
    "\n",
    "\n",
    "cq9 = \"\"\"\n",
    "    PREFIX whata:<https://raw.githubusercontent.com/Salvadana/whata_ontology/main/ontology_development/whata_ontology.owl#> \n",
    "    PREFIX rdf: <http://www.w3.org/1999/02/22-rdf-syntax-ns#>\n",
    "    PREFIX per:<http://www.ontologydesignpatterns.org/ont/persp/perspectivisation.owl#>\n",
    "ASK\n",
    "WHERE {\n",
    "  ?s a whata:BlendedBlameBackground .\n",
    "  ?persp a whata:WhataboutistPerspectivisation.\n",
    "  ?perp per:Background ?s.\n",
    "}\n",
    "      \n",
    "\"\"\"\n",
    "results = whataGraph.query(cq9)\n",
    "\n",
    "for row in results:\n",
    "    print(row)\n",
    "    "
   ]
  },
  {
   "cell_type": "markdown",
   "metadata": {},
   "source": [
    "10. Which kind of elements are the blended spaces created as a basis for applying whataboutism? <br> Expected result:act-02, problem1, emit-01, , crime-02, bad-07"
   ]
  },
  {
   "cell_type": "code",
   "execution_count": 78,
   "metadata": {},
   "outputs": [
    {
     "name": "stdout",
     "output_type": "stream",
     "text": [
      "(rdflib.term.URIRef('https://raw.githubusercontent.com/Salvadana/whata_ontology/main/ontology_development/whata_ontology.owl#blendedblamebg1'),)\n",
      "(rdflib.term.URIRef('https://raw.githubusercontent.com/Salvadana/whata_ontology/main/ontology_development/whata_ontology.owl#blendedblamebg3'),)\n"
     ]
    }
   ],
   "source": [
    "#Which kind of elements are the blended spaces created as a basis for applying whataboutism? \n",
    "#which is the blended space?\n",
    "cq10 = \"\"\"PREFIX whata:<https://raw.githubusercontent.com/Salvadana/whata_ontology/main/ontology_development/whata_ontology.owl#> \n",
    "    PREFIX rdf: <http://www.w3.org/1999/02/22-rdf-syntax-ns#>\n",
    "    PREFIX rdfs: <http://www.w3.org/2000/01/rdf-schema#>\n",
    "    PREFIX per:<http://www.ontologydesignpatterns.org/ont/persp/perspectivisation.owl#>\n",
    "    PREFIX dns: <http://www.ontologydesignpatterns.org/cp/owl/description.owl#>\n",
    "SELECT ?s\n",
    "WHERE {\n",
    "  ?s a whata:BlendedBlameBackground.\n",
    "}\n",
    "      \n",
    "\"\"\"\n",
    "results = whataGraph.query(cq10)\n",
    "\n",
    "for row in results:\n",
    "    print(row)\n",
    "    "
   ]
  },
  {
   "cell_type": "markdown",
   "metadata": {},
   "source": [
    "11. Which are the features of the Blended Space? Which ROs and oughts are involved in a blended space?\n",
    "<br> Expected: responsibility owner 1 and 2 + ought for each perspectivisation: \n",
    "- ought: right_2/ ROs: US,person_1;\n",
    "- ought: climate1/ RO: Yale;\n",
    "- ought: stop / ROs: country1 and person1; \n",
    "- oughts :effective1 and victim1/ ROs: penalty ro, man1; \n",
    "- ought: clean-01/ ROs: Billy, Bobby.\n"
   ]
  },
  {
   "cell_type": "code",
   "execution_count": 79,
   "metadata": {},
   "outputs": [
    {
     "name": "stdout",
     "output_type": "stream",
     "text": [
      "(rdflib.term.URIRef('https://raw.githubusercontent.com/Salvadana/whata_ontology/main/ontology_development/whata_ontology.owl#ought1'), rdflib.term.URIRef('https://raw.githubusercontent.com/Salvadana/whata_ontology/main/ontology_development/whata_ontology.owl#blendedblamebg1'))\n",
      "(rdflib.term.URIRef('https://raw.githubusercontent.com/Salvadana/whata_ontology/main/ontology_development/whata_ontology.owl#respowner1'), rdflib.term.URIRef('https://raw.githubusercontent.com/Salvadana/whata_ontology/main/ontology_development/whata_ontology.owl#blendedblamebg1'))\n",
      "(rdflib.term.URIRef('https://raw.githubusercontent.com/Salvadana/whata_ontology/main/ontology_development/whata_ontology.owl#respowner2'), rdflib.term.URIRef('https://raw.githubusercontent.com/Salvadana/whata_ontology/main/ontology_development/whata_ontology.owl#blendedblamebg1'))\n",
      "(rdflib.term.URIRef('https://raw.githubusercontent.com/Salvadana/whata_ontology/main/ontology_development/whata_ontology.owl#ought3'), rdflib.term.URIRef('https://raw.githubusercontent.com/Salvadana/whata_ontology/main/ontology_development/whata_ontology.owl#blendedblamebg3'))\n",
      "(rdflib.term.URIRef('https://raw.githubusercontent.com/Salvadana/whata_ontology/main/ontology_development/whata_ontology.owl#respowner3'), rdflib.term.URIRef('https://raw.githubusercontent.com/Salvadana/whata_ontology/main/ontology_development/whata_ontology.owl#blendedblamebg3'))\n",
      "(rdflib.term.URIRef('https://raw.githubusercontent.com/Salvadana/whata_ontology/main/ontology_development/whata_ontology.owl#respowner4'), rdflib.term.URIRef('https://raw.githubusercontent.com/Salvadana/whata_ontology/main/ontology_development/whata_ontology.owl#blendedblamebg3'))\n"
     ]
    }
   ],
   "source": [
    "\n",
    "#what does a blamable eventuality involve?\n",
    "cq11 = \"\"\"PREFIX whata:<https://raw.githubusercontent.com/Salvadana/whata_ontology/main/ontology_development/whata_ontology.owl#> \n",
    "    PREFIX rdf: <http://www.w3.org/1999/02/22-rdf-syntax-ns#>\n",
    "    PREFIX rdfs: <http://www.w3.org/2000/01/rdf-schema#>\n",
    "    PREFIX per:<http://www.ontologydesignpatterns.org/ont/persp/perspectivisation.owl#>\n",
    "    PREFIX dns: <http://www.ontologydesignpatterns.org/cp/owl/description.owl#>\n",
    "SELECT ?s ?blended\n",
    "WHERE {\n",
    "  ?s whata:isParticipantIn ?blended.\n",
    "  ?blended a whata:BlendedBlameBackground.\n",
    "}\n",
    "      \n",
    "\"\"\"\n",
    "results = whataGraph.query(cq11)\n",
    "\n",
    "for row in results:\n",
    "    print(row)\n",
    "    "
   ]
  },
  {
   "cell_type": "markdown",
   "metadata": {},
   "source": [
    "#### Fallacies and Biases connections with whataboutism"
   ]
  },
  {
   "cell_type": "markdown",
   "metadata": {},
   "source": [
    "12. In which of the annotated perspectivisations is whataboutism connected to any discourse fallacies?\n",
    "<br> Expected: perspectivisation 5 , Relevance Fallacies Lens"
   ]
  },
  {
   "cell_type": "code",
   "execution_count": 23,
   "metadata": {},
   "outputs": [
    {
     "name": "stdout",
     "output_type": "stream",
     "text": [
      "(rdflib.term.URIRef('https://raw.githubusercontent.com/Salvadana/whata_ontology/main/ontology_development/whata_ontology.owl#perspectivisation_5'), rdflib.term.URIRef('https://raw.githubusercontent.com/Salvadana/whata_ontology/main/ontology_development/whata_ontology.owl#relevance_fallacy_1'))\n"
     ]
    }
   ],
   "source": [
    "cq12='''PREFIX whata:<https://raw.githubusercontent.com/Salvadana/whata_ontology/main/ontology_development/whata_ontology.owl#> \n",
    "    PREFIX rdf: <http://www.w3.org/1999/02/22-rdf-syntax-ns#>\n",
    "    PREFIX rdfs: <http://www.w3.org/2000/01/rdf-schema#>\n",
    "    PREFIX per:<http://www.ontologydesignpatterns.org/ont/persp/perspectivisation.owl#>\n",
    "    PREFIX dns: <http://www.ontologydesignpatterns.org/cp/owl/description.owl#>\n",
    "\n",
    "SELECT  ?p  ?relatedLens\n",
    "WHERE {\n",
    "  ?p per:Lens ?lens.\n",
    "  ?relatedLens whata:relatedToLens ?lens .\n",
    "  ?lens a whata:WhataboutistLens.\n",
    "  ?relatedLens rdf:type whata:RelevanceFallacyLens .\n",
    "}'''\n",
    "results = whataGraph.query(cq12)\n",
    "\n",
    "for row in results:\n",
    "    print(row)"
   ]
  },
  {
   "cell_type": "markdown",
   "metadata": {},
   "source": [
    "13.  Is whataboutism connected to any Cognitive Bias? And to which kind? \n",
    "<br> Expected: Confirmation Bias Lens"
   ]
  },
  {
   "cell_type": "code",
   "execution_count": 11,
   "metadata": {},
   "outputs": [
    {
     "name": "stdout",
     "output_type": "stream",
     "text": [
      "(rdflib.term.URIRef('https://raw.githubusercontent.com/Salvadana/whata_ontology/main/ontology_development/whata_ontology.owl#ConfirmationBias'),)\n"
     ]
    }
   ],
   "source": [
    "cq12='''PREFIX whata:<https://raw.githubusercontent.com/Salvadana/whata_ontology/main/ontology_development/whata_ontology.owl#> \n",
    "    PREFIX rdf: <http://www.w3.org/1999/02/22-rdf-syntax-ns#>\n",
    "    PREFIX rdfs: <http://www.w3.org/2000/01/rdf-schema#>\n",
    "    PREFIX per:<http://www.ontologydesignpatterns.org/ont/persp/perspectivisation.owl#>\n",
    "    PREFIX dns: <http://www.ontologydesignpatterns.org/cp/owl/description.owl#>\n",
    "\n",
    "SELECT ?relatedLens\n",
    "WHERE {\n",
    "  ?relatedLens :relatedToLens :WhataboutistLens .\n",
    "  ?relatedLens rdf:type :ConfirmationBiasLens .\n",
    "}'''\n",
    "results = whataGraph.query(cq12)\n",
    "\n",
    "for row in results:\n",
    "    print(row)"
   ]
  },
  {
   "cell_type": "code",
   "execution_count": 39,
   "metadata": {},
   "outputs": [],
   "source": [
    "import pandas as pd\n",
    "df=pd.read_csv('claude_pred.csv')"
   ]
  },
  {
   "cell_type": "code",
   "execution_count": 40,
   "metadata": {},
   "outputs": [
    {
     "name": "stderr",
     "output_type": "stream",
     "text": [
      "C:\\Users\\lored\\AppData\\Local\\Temp\\ipykernel_40920\\834607891.py:2: FutureWarning: DataFrame.applymap has been deprecated. Use DataFrame.map instead.\n",
      "  df = df.applymap(lambda x: x.strip() if isinstance(x, str) else x)\n"
     ]
    },
    {
     "data": {
      "text/html": [
       "<div>\n",
       "<style scoped>\n",
       "    .dataframe tbody tr th:only-of-type {\n",
       "        vertical-align: middle;\n",
       "    }\n",
       "\n",
       "    .dataframe tbody tr th {\n",
       "        vertical-align: top;\n",
       "    }\n",
       "\n",
       "    .dataframe thead th {\n",
       "        text-align: right;\n",
       "    }\n",
       "</style>\n",
       "<table border=\"1\" class=\"dataframe\">\n",
       "  <thead>\n",
       "    <tr style=\"text-align: right;\">\n",
       "      <th></th>\n",
       "      <th>Text</th>\n",
       "      <th>Is Whataboutist?</th>\n",
       "      <th>Blamable</th>\n",
       "      <th>CounterBlamable</th>\n",
       "      <th>BlendedBlameBackground</th>\n",
       "      <th>Class</th>\n",
       "    </tr>\n",
       "  </thead>\n",
       "  <tbody>\n",
       "    <tr>\n",
       "      <th>0</th>\n",
       "      <td>The West has no right to criticize our record ...</td>\n",
       "      <td>0</td>\n",
       "      <td>The West criticizing the speaker's human right...</td>\n",
       "      <td>US actions in Central America, history of slav...</td>\n",
       "      <td>Human rights violations are unacceptable</td>\n",
       "      <td>0</td>\n",
       "    </tr>\n",
       "    <tr>\n",
       "      <th>1</th>\n",
       "      <td>Yale's guiding principles are predicated on th...</td>\n",
       "      <td>1</td>\n",
       "      <td>-</td>\n",
       "      <td>-</td>\n",
       "      <td>-</td>\n",
       "      <td>0</td>\n",
       "    </tr>\n",
       "    <tr>\n",
       "      <th>2</th>\n",
       "      <td>If we stopped emitting altogether tomorrow, no...</td>\n",
       "      <td>0</td>\n",
       "      <td>Yale focusing on consumption rather than produ...</td>\n",
       "      <td>Claim that other countries would increase emis...</td>\n",
       "      <td>Addressing climate change through reduced emis...</td>\n",
       "      <td>0</td>\n",
       "    </tr>\n",
       "    <tr>\n",
       "      <th>3</th>\n",
       "      <td>You may claim that the death penalty is an ine...</td>\n",
       "      <td>0</td>\n",
       "      <td>Claim that death penalty is ineffective deterrent</td>\n",
       "      <td>Raising the point about victims' families havi...</td>\n",
       "      <td>Providing justice and closure for victims' fam...</td>\n",
       "      <td>0</td>\n",
       "    </tr>\n",
       "    <tr>\n",
       "      <th>4</th>\n",
       "      <td>Dad: Billy, when did you last tidy your room? ...</td>\n",
       "      <td>0</td>\n",
       "      <td>Billy's untidy room that he's asked to clean</td>\n",
       "      <td>Raising the point that Bobby's room is also un...</td>\n",
       "      <td>Parents expecting children to keep rooms tidy</td>\n",
       "      <td>0</td>\n",
       "    </tr>\n",
       "  </tbody>\n",
       "</table>\n",
       "</div>"
      ],
      "text/plain": [
       "                                                Text  Is Whataboutist?  \\\n",
       "0  The West has no right to criticize our record ...                 0   \n",
       "1  Yale's guiding principles are predicated on th...                 1   \n",
       "2  If we stopped emitting altogether tomorrow, no...                 0   \n",
       "3  You may claim that the death penalty is an ine...                 0   \n",
       "4  Dad: Billy, when did you last tidy your room? ...                 0   \n",
       "\n",
       "                                            Blamable  \\\n",
       "0  The West criticizing the speaker's human right...   \n",
       "1                                                  -   \n",
       "2  Yale focusing on consumption rather than produ...   \n",
       "3  Claim that death penalty is ineffective deterrent   \n",
       "4       Billy's untidy room that he's asked to clean   \n",
       "\n",
       "                                     CounterBlamable  \\\n",
       "0  US actions in Central America, history of slav...   \n",
       "1                                                  -   \n",
       "2  Claim that other countries would increase emis...   \n",
       "3  Raising the point about victims' families havi...   \n",
       "4  Raising the point that Bobby's room is also un...   \n",
       "\n",
       "                              BlendedBlameBackground  Class  \n",
       "0           Human rights violations are unacceptable      0  \n",
       "1                                                  -      0  \n",
       "2  Addressing climate change through reduced emis...      0  \n",
       "3  Providing justice and closure for victims' fam...      0  \n",
       "4      Parents expecting children to keep rooms tidy      0  "
      ]
     },
     "execution_count": 40,
     "metadata": {},
     "output_type": "execute_result"
    }
   ],
   "source": [
    "# strip the whitespace from all the values in the dataframe\n",
    "df = df.applymap(lambda x: x.strip() if isinstance(x, str) else x)\n",
    "df.head()"
   ]
  },
  {
   "cell_type": "code",
   "execution_count": 43,
   "metadata": {},
   "outputs": [
    {
     "name": "stdout",
     "output_type": "stream",
     "text": [
      "Text                      object\n",
      "Is Whataboutist?           int64\n",
      "Blamable                  object\n",
      "CounterBlamable           object\n",
      "BlendedBlameBackground    object\n",
      "Class                      int32\n",
      "dtype: object\n"
     ]
    }
   ],
   "source": [
    "# convert the 'Class' column to integer datatype\n",
    "df['Class'] = df['Class'].astype(int)\n",
    "\n",
    "# print the dataframe after converting the datatype\n",
    "print(df.dtypes)"
   ]
  },
  {
   "cell_type": "code",
   "execution_count": 44,
   "metadata": {},
   "outputs": [
    {
     "name": "stdout",
     "output_type": "stream",
     "text": [
      "Accuracy: 0.94\n"
     ]
    }
   ],
   "source": [
    " \n",
    "import pandas as pd\n",
    "from sklearn.metrics import accuracy_score\n",
    "\n",
    "\n",
    "\n",
    "# extract the true and predicted labels\n",
    "y_true = df['Class']\n",
    "y_pred = df['Is Whataboutist?']\n",
    "\n",
    "# compute the accuracy\n",
    "accuracy = accuracy_score(y_true, y_pred)\n",
    "print(f\"Accuracy: {accuracy:.2f}\")\n"
   ]
  },
  {
   "cell_type": "code",
   "execution_count": null,
   "metadata": {},
   "outputs": [],
   "source": [
    "java -jar widoco-1.4.24-jar-with-dependencies_JDK-17.jar -ontFile 'https://raw.githubusercontent.com/Salvadana/whata_ontology/main/ontology_development/whata_ontology.owl' -outFolder documentation -lang en -getOntologyMetadata -webVowl -uniteSections"
   ]
  }
 ],
 "metadata": {
  "kernelspec": {
   "display_name": "Python 3",
   "language": "python",
   "name": "python3"
  },
  "language_info": {
   "codemirror_mode": {
    "name": "ipython",
    "version": 3
   },
   "file_extension": ".py",
   "mimetype": "text/x-python",
   "name": "python",
   "nbconvert_exporter": "python",
   "pygments_lexer": "ipython3",
   "version": "3.10.0"
  }
 },
 "nbformat": 4,
 "nbformat_minor": 2
}
