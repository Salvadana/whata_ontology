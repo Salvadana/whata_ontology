{
 "cells": [
  {
   "cell_type": "code",
   "execution_count": 1,
   "metadata": {},
   "outputs": [],
   "source": [
    "MODEL = \"claude-3-sonnet@20240229\"  # @param [\"claude-3-sonnet@20240229\", \"claude-3-haiku@20240307\", \"claude-3-opus@20240229\"]\n",
    "if MODEL == \"claude-3-sonnet@20240229\":\n",
    "    available_regions = [\"us-central1\", \"asia-southeast1\"]\n",
    "elif MODEL == \"claude-3-haiku@20240307\":\n",
    "    available_regions = [\"us-central1\", \"europe-west4\"]\n",
    "else:\n",
    "    available_regions = [\"us-east5\"]"
   ]
  },
  {
   "cell_type": "code",
   "execution_count": 4,
   "metadata": {},
   "outputs": [
    {
     "name": "stdout",
     "output_type": "stream",
     "text": [
      "Collecting ipywidgets\n",
      "  Downloading ipywidgets-8.1.3-py3-none-any.whl (139 kB)\n",
      "                                              0.0/139.4 kB ? eta -:--:--\n",
      "     ------------------------------------   133.1/139.4 kB 7.7 MB/s eta 0:00:01\n",
      "     -------------------------------------- 139.4/139.4 kB 4.2 MB/s eta 0:00:00\n",
      "Requirement already satisfied: comm>=0.1.3 in c:\\users\\lored\\appdata\\roaming\\python\\python311\\site-packages (from ipywidgets) (0.2.2)\n",
      "Requirement already satisfied: ipython>=6.1.0 in c:\\users\\lored\\appdata\\roaming\\python\\python311\\site-packages (from ipywidgets) (8.24.0)\n",
      "Requirement already satisfied: traitlets>=4.3.1 in c:\\users\\lored\\appdata\\roaming\\python\\python311\\site-packages (from ipywidgets) (5.14.3)\n",
      "Collecting widgetsnbextension~=4.0.11 (from ipywidgets)\n",
      "  Downloading widgetsnbextension-4.0.11-py3-none-any.whl (2.3 MB)\n",
      "                                              0.0/2.3 MB ? eta -:--:--\n",
      "     ---                                      0.2/2.3 MB 14.3 MB/s eta 0:00:01\n",
      "     --------                                 0.5/2.3 MB 7.8 MB/s eta 0:00:01\n",
      "     -----------                              0.7/2.3 MB 6.2 MB/s eta 0:00:01\n",
      "     ---------------                          0.9/2.3 MB 6.4 MB/s eta 0:00:01\n",
      "     -------------------                      1.1/2.3 MB 5.9 MB/s eta 0:00:01\n",
      "     ----------------------                   1.3/2.3 MB 5.6 MB/s eta 0:00:01\n",
      "     --------------------------               1.5/2.3 MB 5.8 MB/s eta 0:00:01\n",
      "     -----------------------------            1.7/2.3 MB 5.5 MB/s eta 0:00:01\n",
      "     -----------------------------------      2.1/2.3 MB 5.5 MB/s eta 0:00:01\n",
      "     ---------------------------------------  2.3/2.3 MB 5.5 MB/s eta 0:00:01\n",
      "     ---------------------------------------- 2.3/2.3 MB 5.3 MB/s eta 0:00:00\n",
      "Collecting jupyterlab-widgets~=3.0.11 (from ipywidgets)\n",
      "  Downloading jupyterlab_widgets-3.0.11-py3-none-any.whl (214 kB)\n",
      "                                              0.0/214.4 kB ? eta -:--:--\n",
      "     ---------------------                  122.9/214.4 kB 3.6 MB/s eta 0:00:01\n",
      "     -------------------------------------- 214.4/214.4 kB 4.3 MB/s eta 0:00:00\n",
      "Requirement already satisfied: decorator in c:\\users\\lored\\appdata\\roaming\\python\\python311\\site-packages (from ipython>=6.1.0->ipywidgets) (5.1.1)\n",
      "Requirement already satisfied: jedi>=0.16 in c:\\users\\lored\\appdata\\roaming\\python\\python311\\site-packages (from ipython>=6.1.0->ipywidgets) (0.19.1)\n",
      "Requirement already satisfied: matplotlib-inline in c:\\users\\lored\\appdata\\roaming\\python\\python311\\site-packages (from ipython>=6.1.0->ipywidgets) (0.1.7)\n",
      "Requirement already satisfied: prompt-toolkit<3.1.0,>=3.0.41 in c:\\users\\lored\\appdata\\roaming\\python\\python311\\site-packages (from ipython>=6.1.0->ipywidgets) (3.0.45)\n",
      "Requirement already satisfied: pygments>=2.4.0 in c:\\users\\lored\\appdata\\roaming\\python\\python311\\site-packages (from ipython>=6.1.0->ipywidgets) (2.18.0)\n",
      "Requirement already satisfied: stack-data in c:\\users\\lored\\appdata\\roaming\\python\\python311\\site-packages (from ipython>=6.1.0->ipywidgets) (0.6.3)\n",
      "Requirement already satisfied: typing-extensions>=4.6 in c:\\users\\lored\\appdata\\roaming\\python\\python311\\site-packages (from ipython>=6.1.0->ipywidgets) (4.12.0)\n",
      "Requirement already satisfied: colorama in c:\\users\\lored\\appdata\\roaming\\python\\python311\\site-packages (from ipython>=6.1.0->ipywidgets) (0.4.6)\n",
      "Requirement already satisfied: parso<0.9.0,>=0.8.3 in c:\\users\\lored\\appdata\\roaming\\python\\python311\\site-packages (from jedi>=0.16->ipython>=6.1.0->ipywidgets) (0.8.4)\n",
      "Requirement already satisfied: wcwidth in c:\\users\\lored\\appdata\\roaming\\python\\python311\\site-packages (from prompt-toolkit<3.1.0,>=3.0.41->ipython>=6.1.0->ipywidgets) (0.2.13)\n",
      "Requirement already satisfied: executing>=1.2.0 in c:\\users\\lored\\appdata\\roaming\\python\\python311\\site-packages (from stack-data->ipython>=6.1.0->ipywidgets) (2.0.1)\n",
      "Requirement already satisfied: asttokens>=2.1.0 in c:\\users\\lored\\appdata\\roaming\\python\\python311\\site-packages (from stack-data->ipython>=6.1.0->ipywidgets) (2.4.1)\n",
      "Requirement already satisfied: pure-eval in c:\\users\\lored\\appdata\\roaming\\python\\python311\\site-packages (from stack-data->ipython>=6.1.0->ipywidgets) (0.2.2)\n",
      "Requirement already satisfied: six>=1.12.0 in c:\\users\\lored\\appdata\\roaming\\python\\python311\\site-packages (from asttokens>=2.1.0->stack-data->ipython>=6.1.0->ipywidgets) (1.16.0)\n",
      "Installing collected packages: widgetsnbextension, jupyterlab-widgets, ipywidgets\n",
      "Successfully installed ipywidgets-8.1.3 jupyterlab-widgets-3.0.11 widgetsnbextension-4.0.11\n",
      "Note: you may need to restart the kernel to use updated packages.\n"
     ]
    },
    {
     "name": "stderr",
     "output_type": "stream",
     "text": [
      "\n",
      "[notice] A new release of pip is available: 23.1.2 -> 24.0\n",
      "[notice] To update, run: python.exe -m pip install --upgrade pip\n"
     ]
    }
   ],
   "source": [
    "%pip install ipywidgets"
   ]
  },
  {
   "cell_type": "code",
   "execution_count": 5,
   "metadata": {},
   "outputs": [
    {
     "data": {
      "application/vnd.jupyter.widget-view+json": {
       "model_id": "b348271b9c5143f0a51e006f25268fd9",
       "version_major": 2,
       "version_minor": 0
      },
      "text/plain": [
       "Dropdown(description='Select a region:', options=('us-central1', 'asia-southeast1'), style=DescriptionStyle(de…"
      ]
     },
     "metadata": {},
     "output_type": "display_data"
    }
   ],
   "source": [
    "import ipywidgets as widgets\n",
    "from IPython.display import display\n",
    "\n",
    "dropdown = widgets.Dropdown(\n",
    "    options=available_regions,\n",
    "    description=\"Select a region:\",\n",
    "    font_weight=\"bold\",\n",
    "    style={\"description_width\": \"initial\"},\n",
    ")\n",
    "\n",
    "\n",
    "def dropdown_eventhandler(change):\n",
    "    global REGION\n",
    "    if change[\"type\"] == \"change\" and change[\"name\"] == \"value\":\n",
    "        REGION = change.new\n",
    "        print(\"Selected:\", change.new)\n",
    "\n",
    "\n",
    "REGION = dropdown.value\n",
    "dropdown.observe(dropdown_eventhandler, names=\"value\")\n",
    "display(dropdown)"
   ]
  },
  {
   "cell_type": "code",
   "execution_count": null,
   "metadata": {},
   "outputs": [],
   "source": [
    "PROJECT_ID = \"myontologyproject\"  # @param {type:\"string\"}\n",
    "ENDPOINT = f\"https://{REGION}-aiplatform.googleapis.com\"\n",
    "\n",
    "if not PROJECT_ID or PROJECT_ID == \"myontologyproject\":\n",
    "    raise ValueError(\"Please set your PROJECT_ID\")\n",
    "     "
   ]
  },
  {
   "cell_type": "code",
   "execution_count": null,
   "metadata": {},
   "outputs": [],
   "source": [
    "! pip3 install -U httpx\n",
    "import json\n",
    "     "
   ]
  },
  {
   "cell_type": "code",
   "execution_count": null,
   "metadata": {},
   "outputs": [],
   "source": [
    "import anthropic\n",
    "\n",
    "client = anthropic.Anthropic(\n",
    "    # defaults to os.environ.get(\"ANTHROPIC_API_KEY\")\n",
    "    api_key=\"key\",\n",
    ")\n",
    "\n",
    "message = client.messages.create(\n",
    "    model=\"claude-3-opus-20240229\",\n",
    "    max_tokens=1000,\n",
    "    temperature=0.0,\n",
    "    system=\"Respond only in Yoda-speak.\",\n",
    "    messages=[\n",
    "        {\"role\": \"user\", \"content\": \"How are you today?\"}\n",
    "    ]\n",
    ")\n",
    "\n",
    "print(message.content)\n"
   ]
  }
 ],
 "metadata": {
  "kernelspec": {
   "display_name": "Python 3",
   "language": "python",
   "name": "python3"
  },
  "language_info": {
   "codemirror_mode": {
    "name": "ipython",
    "version": 3
   },
   "file_extension": ".py",
   "mimetype": "text/x-python",
   "name": "python",
   "nbconvert_exporter": "python",
   "pygments_lexer": "ipython3",
   "version": "3.10.0"
  }
 },
 "nbformat": 4,
 "nbformat_minor": 2
}
