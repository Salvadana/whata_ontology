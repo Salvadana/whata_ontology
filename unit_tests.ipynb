{
  "cells": [
    {
      "cell_type": "markdown",
      "metadata": {
        "id": "DSucjQ8Ojkn0"
      },
      "source": [
        "## Test and fix.\n",
        "'An ontology module developed for addressing a certain user story associated to a certain competency question, is tested e.g.\n",
        "<ul>\n",
        "<li>(i) by encoding in the ontology for a sample set of facts based on the user\n",
        "story, </li>\n",
        "<li>(ii) defining one or a set of SPARQL queries that formally encode\n",
        "the competency question, </li>\n",
        "<li>(iii) associating each SPARQL query with the expected result, </li>\n",
        "<li>and (i) running the SPARQL queries against the ontology and compare actual with expected results.' </li>\n",
        "</ul>\n",
        "\n",
        "### Task description\n",
        "\n",
        "'The goal of this task is to validate the resulting module\n",
        "with respect to the CQ just modeled. To this aim, the task is executed through\n",
        "the following steps:\n",
        "- (i) the CQ is elaborated in order to derive a unit test e.g.,\n",
        "SPARQL query;\n",
        "- (ii) the instance module is fed with sample facts based on the\n",
        "story;\n",
        "- (iii) the unit test is ran against the ontology module. If the result is not\n",
        "the expected one i.e. the test is not passed, the module is revised in order to fix\n",
        "it, and the unit test ran again until the test is passed;\n",
        "- (iv) run all other unit\n",
        "tests associated with the story so far until they all pass.'  <br>\n",
        "\n",
        "<br>\n",
        "Reference:<br>\n",
        "Presutti, V., Daga, E., Gangemi, A., & Blomqvist, E. (2009). eXtreme Design with Content Ontology Design Patterns. WOP.  https://dl.acm.org/doi/10.5555/2889761.2889768"
      ]
    },
    {
      "cell_type": "code",
      "execution_count": null,
      "metadata": {
        "id": "B0Ai01U1jkn3",
        "outputId": "6d2e64f0-9630-4950-f157-2bbbbce3b9ed"
      },
      "outputs": [
        {
          "data": {
            "text/plain": [
              "<Graph identifier=N8de14cdf4e834683ac613494e07b9745 (<class 'rdflib.graph.Graph'>)>"
            ]
          },
          "execution_count": 272,
          "metadata": {},
          "output_type": "execute_result"
        }
      ],
      "source": [
        "#%pip install rdflib\n",
        "from rdflib import *\n",
        "whataGraph = Graph()\n",
        "whataGraph.parse(\"../ontology/knowledge_graph.ttl\", format=\"ttl\")"
      ]
    },
    {
      "cell_type": "markdown",
      "metadata": {
        "id": "d-Il9ht2jkn4"
      },
      "source": [
        "## SPARQL queries\n",
        "#### Perspectivisation CQs\n",
        "1. Is whataboutism recognisable as an (or part of an ) act of perspectivisation? Which elements of the cognitive perspectivisation are present and manifest concretely in a whataboutist claim?  --> Which is the  specific component of the Perspectivisation which is modified by whataboutism ?  \n",
        "<br>Expected result: Sample Eventuality (roomEventuality1)\n"
      ]
    },
    {
      "cell_type": "code",
      "execution_count": null,
      "metadata": {
        "id": "_S7Ldlt8jkn4",
        "outputId": "0e6b6440-c729-4d0f-9d66-3f17bd3b702b"
      },
      "outputs": [
        {
          "name": "stdout",
          "output_type": "stream",
          "text": [
            "(rdflib.term.URIRef('https://raw.githubusercontent.com/Salvadana/whata_ontology/main/ontology/whataboutism_ontology.owl#RoomEventuality1'),)\n"
          ]
        }
      ],
      "source": [
        "\n",
        "cq1 = \"\"\"PREFIX whata:<https://raw.githubusercontent.com/Salvadana/whata_ontology/main/ontology/whataboutism_ontology.owl#>\n",
        "    PREFIX rdf: <http://www.w3.org/1999/02/22-rdf-syntax-ns#>\n",
        "    PREFIX per:<http://www.ontologydesignpatterns.org/ont/persp/perspectivisation.owl#>\n",
        "\n",
        "SELECT  ?eventuality\n",
        "WHERE {\n",
        "  ?s a whata:WhataboutistPerspectivisation.\n",
        "  ?s per:Lens ?lens.\n",
        "  ?s per:Eventuality ?eventuality.\n",
        "  ?s per:Conceptualiser ?conceptualiser.\n",
        "\n",
        "\n",
        "}\n",
        "\"\"\"\n",
        "results = whataGraph.query(cq1)\n",
        "\n",
        "for row in results:\n",
        "    print(row)\n",
        ""
      ]
    },
    {
      "cell_type": "markdown",
      "metadata": {
        "id": "yQ1_f-1Rjkn5"
      },
      "source": [
        "1.a Who is the conceptualiser? <br>\n",
        "Expected: ResponsibilityOwner1"
      ]
    },
    {
      "cell_type": "code",
      "execution_count": null,
      "metadata": {
        "id": "ytF1UHTcjkn5",
        "outputId": "6df4e4b4-328c-402c-8107-0e2abeb94a88"
      },
      "outputs": [
        {
          "name": "stdout",
          "output_type": "stream",
          "text": [
            "(rdflib.term.URIRef('https://raw.githubusercontent.com/Salvadana/whata_ontology/main/ontology/whataboutism_ontology.owl#RoomResponsibilityOwner1'),)\n"
          ]
        }
      ],
      "source": [
        "\n",
        "cq1_a = \"\"\"PREFIX whata:<https://raw.githubusercontent.com/Salvadana/whata_ontology/main/ontology/whataboutism_ontology.owl#>\n",
        "    PREFIX rdf: <http://www.w3.org/1999/02/22-rdf-syntax-ns#>\n",
        "    PREFIX per:<http://www.ontologydesignpatterns.org/ont/persp/perspectivisation.owl#>\n",
        "\n",
        "SELECT   ?conceptualiser\n",
        "WHERE {\n",
        "  ?s a whata:WhataboutistPerspectivisation.\n",
        "  ?s per:Lens ?lens.\n",
        "  ?s per:Eventuality ?eventuality.\n",
        "  ?s per:Conceptualiser ?conceptualiser.\n",
        "\n",
        "\n",
        "}\n",
        "\"\"\"\n",
        "results = whataGraph.query(cq1_a)\n",
        "\n",
        "for row in results:\n",
        "    print(row)\n",
        ""
      ]
    },
    {
      "cell_type": "markdown",
      "metadata": {
        "id": "_DSGPEZfjkn5"
      },
      "source": [
        "2. By the means of which component of perpectivisation does Whataboutism act? The aim is retrieving the entity type that is responsible in the focus shifting action within a cognitiveperspectivisation. <br> expected:  Lens"
      ]
    },
    {
      "cell_type": "code",
      "execution_count": null,
      "metadata": {
        "id": "3m3s0KPZjkn5",
        "outputId": "2987b3b6-f2a5-4f0f-ad9f-1fa7fb0de21a"
      },
      "outputs": [
        {
          "name": "stdout",
          "output_type": "stream",
          "text": [
            "(rdflib.term.URIRef('https://raw.githubusercontent.com/Salvadana/whata_ontology/main/ontology/whataboutism_ontology.owl#WhataboutistLens'),)\n"
          ]
        }
      ],
      "source": [
        "\n",
        "cq2 = \"\"\"PREFIX whata:<https://raw.githubusercontent.com/Salvadana/whata_ontology/main/ontology/whataboutism_ontology.owl#>\n",
        "    PREFIX rdf: <http://www.w3.org/1999/02/22-rdf-syntax-ns#>\n",
        "    PREFIX per:<http://www.ontologydesignpatterns.org/ont/persp/perspectivisation.owl#>\n",
        "    PREFIX owl: <http://www.w3.org/2002/07/owl#>\n",
        "SELECT ?s\n",
        "WHERE {\n",
        "  ?p a whata:WhataboutistPerspectivisation.\n",
        "  ?p per:Eventuality ?e.\n",
        "  ?s whata:shiftsFocusFrom ?e.\n",
        "\n",
        "}\n",
        "\n",
        "\"\"\"\n",
        "results = whataGraph.query(cq2)\n",
        "\n",
        "for row in results:\n",
        "    print(row)\n",
        ""
      ]
    },
    {
      "cell_type": "markdown",
      "metadata": {
        "id": "KlZkWSnKjkn6"
      },
      "source": [
        "3. What is the action performed by whataboutism on the main perspectivised eventuality? <br> expected:Shift Focus"
      ]
    },
    {
      "cell_type": "code",
      "execution_count": null,
      "metadata": {
        "id": "asJ5GJwsjkn6",
        "outputId": "0dd127b2-54cb-44ae-96a6-0ed0ef3cf716"
      },
      "outputs": [
        {
          "name": "stdout",
          "output_type": "stream",
          "text": [
            "(rdflib.term.URIRef('https://raw.githubusercontent.com/Salvadana/whata_ontology/main/ontology/whataboutism_ontology.owl#shiftsFocusFrom'),)\n"
          ]
        }
      ],
      "source": [
        "#what does whataboutism do? how it acts in the perspectivisation situation?\n",
        "\n",
        "cq3 = \"\"\"PREFIX whata:<https://raw.githubusercontent.com/Salvadana/whata_ontology/main/ontology/whataboutism_ontology.owl#>\n",
        "    PREFIX rdf: <http://www.w3.org/1999/02/22-rdf-syntax-ns#>\n",
        "    PREFIX per:<http://www.ontologydesignpatterns.org/ont/persp/perspectivisation.owl#>\n",
        "SELECT   ?actsUpon\n",
        "WHERE {\n",
        "  ?s a whata:WhataboutistPerspectivisation.\n",
        "  ?s per:Lens ?lens.\n",
        "  ?s per:Eventuality ?eventuality.\n",
        "  ?lens ?actsUpon ?eventuality.\n",
        "}\n",
        "\n",
        "\"\"\"\n",
        "results = whataGraph.query(cq3)\n",
        "\n",
        "for row in results:\n",
        "    print(row)\n",
        ""
      ]
    },
    {
      "cell_type": "markdown",
      "metadata": {
        "id": "pnqjsolbjkn6"
      },
      "source": [
        "3.a What are all the actions performed by a whataboutist lens on the eventualities involved in the whataboutist perspectivisation? <br> Expected:Shift Focus from, shift focus on, creates blended"
      ]
    },
    {
      "cell_type": "code",
      "execution_count": null,
      "metadata": {
        "id": "8YVjwfWZjkn6",
        "outputId": "6a23a8d9-3ab6-4d47-a2b0-119474f0f4a7"
      },
      "outputs": [
        {
          "name": "stdout",
          "output_type": "stream",
          "text": [
            "(rdflib.term.URIRef('https://raw.githubusercontent.com/Salvadana/whata_ontology/main/ontology/whataboutism_ontology.owl#createsBlended'),)\n",
            "(rdflib.term.URIRef('https://raw.githubusercontent.com/Salvadana/whata_ontology/main/ontology/whataboutism_ontology.owl#shiftsFocusFrom'),)\n",
            "(rdflib.term.URIRef('https://raw.githubusercontent.com/Salvadana/whata_ontology/main/ontology/whataboutism_ontology.owl#shiftsFocusOn'),)\n"
          ]
        }
      ],
      "source": [
        "\n",
        "\n",
        "cq3_a = \"\"\"PREFIX whata:<https://raw.githubusercontent.com/Salvadana/whata_ontology/main/ontology/whataboutism_ontology.owl#>\n",
        "    PREFIX rdf: <http://www.w3.org/1999/02/22-rdf-syntax-ns#>\n",
        "    PREFIX per:<http://www.ontologydesignpatterns.org/ont/persp/perspectivisation.owl#>\n",
        "SELECT   ?actsUpon\n",
        "WHERE {\n",
        "\n",
        "  ?s a whata:WhataboutistLens;\n",
        "  ?actsUpon ?eventuality.\n",
        "  FILTER (?actsUpon != rdf:type)\n",
        "  FILTER (?actsUpon != rdfs:subClassOf)\n",
        "}\n",
        "\n",
        "\"\"\"\n",
        "results = whataGraph.query(cq3_a)\n",
        "\n",
        "for row in results:\n",
        "    print(row)\n",
        ""
      ]
    },
    {
      "cell_type": "markdown",
      "metadata": {
        "id": "5cl0J2yEjkn6"
      },
      "source": [
        "#### Linguistic Features CQs"
      ]
    },
    {
      "cell_type": "markdown",
      "metadata": {
        "id": "wy5BD0oqjkn7"
      },
      "source": [
        "4. Which linguistic elements do denote whataboutism? <br>\n",
        "expected result: string with pattern, string with sentence"
      ]
    },
    {
      "cell_type": "code",
      "execution_count": null,
      "metadata": {
        "id": "M_N8YHCyjkn7",
        "outputId": "2377fd9e-80f8-4e6a-f05d-079397d9b8f2"
      },
      "outputs": [
        {
          "name": "stdout",
          "output_type": "stream",
          "text": [
            "(rdflib.term.Literal('what about'), rdflib.term.Literal('That’s not fair! What about Bobby? His room is just as bad as mine and you’ve let him go out to his friend’s. You’re so unreasonable, it’s always one rule for him and another for me. I’m not doing it.'))\n"
          ]
        }
      ],
      "source": [
        "# Which linguistic elements do denote whataboutism?\n",
        "#expected result: string with pattern, string with sentence\n",
        "cq4 = \"\"\"PREFIX whata:<https://raw.githubusercontent.com/Salvadana/whata_ontology/main/ontology/whataboutism_ontology.owl#>\n",
        "    PREFIX rdf: <http://www.w3.org/1999/02/22-rdf-syntax-ns#>\n",
        "SELECT  ?pattern ?sentence\n",
        "WHERE {\n",
        "  ?s a whata:WhataboutistPerspectivisation;\n",
        "\n",
        "   whata:relatedIdentifyingPattern ?pattern;\n",
        "   whata:relatedSentence ?sentence.\n",
        "}\n",
        "\n",
        "\"\"\"\n",
        "results = whataGraph.query(cq4)\n",
        "\n",
        "for row in results:\n",
        "    print(row)\n",
        ""
      ]
    },
    {
      "cell_type": "markdown",
      "metadata": {
        "id": "bU61z0RYjkn7"
      },
      "source": [
        "#### Blaming Situation"
      ]
    },
    {
      "cell_type": "markdown",
      "metadata": {
        "id": "AOBtiTqKjkn7"
      },
      "source": [
        "5. On which kind of situation does Whataboutism act? <br>\n",
        "expected: Blamable Eventuality"
      ]
    },
    {
      "cell_type": "code",
      "execution_count": null,
      "metadata": {
        "id": "8i7H-Izgjkn7",
        "outputId": "b3477096-e86a-4840-b5ee-fee3f0912da7"
      },
      "outputs": [
        {
          "name": "stdout",
          "output_type": "stream",
          "text": [
            "(rdflib.term.URIRef('http://www.w3.org/2002/07/owl#NamedIndividual'),)\n",
            "(rdflib.term.URIRef('https://raw.githubusercontent.com/Salvadana/whata_ontology/main/ontology/whataboutism_ontology.owl#BlamableEventuality'),)\n"
          ]
        }
      ],
      "source": [
        "\n",
        "#- Which kind of situation is the one involved in Whataboutism?\n",
        "\n",
        "cq5 = \"\"\"\n",
        "    PREFIX whata:<https://raw.githubusercontent.com/Salvadana/whata_ontology/main/ontology/whataboutism_ontology.owl#>\n",
        "    PREFIX rdf: <http://www.w3.org/1999/02/22-rdf-syntax-ns#>\n",
        "    SELECT DISTINCT ?situation\n",
        "   WHERE {\n",
        "       whata:WhataboutistLens whata:shiftsFocusFrom ?o.\n",
        "       whata:WhataboutistLens whata:shiftsFocusOn ?o2.\n",
        "       ?o a ?situation.\n",
        "       ?o2 a ?situation.\n",
        "        }\n",
        "\"\"\"\n",
        "results = whataGraph.query(cq5)\n",
        "\n",
        "for row in results:\n",
        "    print(row)\n",
        "\n",
        "\n",
        "\n",
        ""
      ]
    },
    {
      "cell_type": "markdown",
      "metadata": {
        "id": "2xyHe9k4jkn7"
      },
      "source": [
        "\n",
        "6.  Do these blamable eventualities perspectivised by whataboutism all correspond to a common description? And if so, which is this description? <br>Retrieving the perspectivised eventualities and the description they satisfy:\n",
        "<br> Expected:   Blaming description, Eventualities 1 and 2, Blanded Blame Frame\n"
      ]
    },
    {
      "cell_type": "code",
      "execution_count": null,
      "metadata": {
        "id": "jvvQUJZPjkn7",
        "outputId": "cba79d37-1279-44db-dd3c-ea8cde4d4696"
      },
      "outputs": [
        {
          "name": "stdout",
          "output_type": "stream",
          "text": [
            "(rdflib.term.URIRef('https://raw.githubusercontent.com/Salvadana/whata_ontology/main/ontology/whataboutism_ontology.owl#BlamingFrameDescription'), rdflib.term.URIRef('https://raw.githubusercontent.com/Salvadana/whata_ontology/main/ontology/whataboutism_ontology.owl#BlendedBlameFrame'))\n",
            "(rdflib.term.URIRef('https://raw.githubusercontent.com/Salvadana/whata_ontology/main/ontology/whataboutism_ontology.owl#BlamingFrameDescription'), rdflib.term.URIRef('https://raw.githubusercontent.com/Salvadana/whata_ontology/main/ontology/whataboutism_ontology.owl#RoomEventuality1'))\n",
            "(rdflib.term.URIRef('https://raw.githubusercontent.com/Salvadana/whata_ontology/main/ontology/whataboutism_ontology.owl#BlamingFrameDescription'), rdflib.term.URIRef('https://raw.githubusercontent.com/Salvadana/whata_ontology/main/ontology/whataboutism_ontology.owl#RoomEventuality2'))\n"
          ]
        }
      ],
      "source": [
        "#- Which kind of situation is the one involved in Whataboutism?\n",
        "# - What entities are involved in the blaming situation?\n",
        "cq6 = '''\n",
        "PREFIX whata: <https://raw.githubusercontent.com/Salvadana/whata_ontology/main/ontology/whataboutism_ontology.owl#>\n",
        "PREFIX owl: <http://www.w3.org/2002/07/owl#>\n",
        "PREFIX dcterms: <http://purl.org/dc/terms/>\n",
        "PREFIX dns: <http://www.ontologydesignpatterns.org/cp/owl/description.owl#>\n",
        "\n",
        "SELECT  ?description ?o\n",
        "WHERE {\n",
        "whata:WhataboutistLens ?actsUpon ?o.\n",
        "  ?o dns:satisfies ?description .\n",
        "}\n",
        "\n",
        "'''\n",
        "results = whataGraph.query(cq6)\n",
        "\n",
        "for row in results:\n",
        "    print(row)\n",
        ""
      ]
    },
    {
      "cell_type": "markdown",
      "metadata": {
        "id": "mpNFYV1Xjkn7"
      },
      "source": [
        " 7. What kind of entities are involved in the blaming situation frame?\n",
        " <br> Expected: responsibility owner, ought"
      ]
    },
    {
      "cell_type": "code",
      "execution_count": null,
      "metadata": {
        "id": "CMsCEdGsjkn7",
        "outputId": "4dc8f54a-3fa4-4da2-833b-b0e68986591d"
      },
      "outputs": [
        {
          "name": "stdout",
          "output_type": "stream",
          "text": [
            "(rdflib.term.URIRef('https://raw.githubusercontent.com/Salvadana/whata_ontology/main/ontology/whataboutism_ontology.owl#RoomResponsibilityOwner1'),)\n",
            "(rdflib.term.URIRef('https://raw.githubusercontent.com/Salvadana/whata_ontology/main/ontology/whataboutism_ontology.owl#TidyingRoomOught'),)\n",
            "(rdflib.term.URIRef('https://raw.githubusercontent.com/Salvadana/whata_ontology/main/ontology/whataboutism_ontology.owl#RoomResponsibilityOwner2'),)\n"
          ]
        }
      ],
      "source": [
        "\n",
        "# - What entities are involved in the blaming situation?\n",
        "cq7 = \"\"\"\n",
        "    PREFIX whata:<https://raw.githubusercontent.com/Salvadana/whata_ontology/main/ontology/whataboutism_ontology.owl#>\n",
        "    PREFIX rdf: <http://www.w3.org/1999/02/22-rdf-syntax-ns#>\n",
        "    SELECT DISTINCT ?s\n",
        "   WHERE {\n",
        "       ?s whata:isParticipantIn ?blamable.\n",
        "       ?blamable a whata:BlamableEventuality.\n",
        "        }\n",
        "\"\"\"\n",
        "results = whataGraph.query(cq7)\n",
        "\n",
        "for row in results:\n",
        "    print(row)\n",
        ""
      ]
    },
    {
      "cell_type": "markdown",
      "metadata": {
        "id": "TYmlvrgWjkn8"
      },
      "source": [
        "Further tests on CQ7: <br>\n",
        "- does a blamable eventuality involve an ought and a responsibility owner?\n",
        "<br>expected: True"
      ]
    },
    {
      "cell_type": "code",
      "execution_count": null,
      "metadata": {
        "id": "VmTItcC5jkn8",
        "outputId": "55ff8b01-f633-485d-db39-ee0d710992c6"
      },
      "outputs": [
        {
          "name": "stdout",
          "output_type": "stream",
          "text": [
            "True\n"
          ]
        }
      ],
      "source": [
        "\n",
        "#what does a blamable eventuality involve?\n",
        "cq7_a = \"\"\"PREFIX whata:<https://raw.githubusercontent.com/Salvadana/whata_ontology/main/ontology/whataboutism_ontology.owl#>\n",
        "    PREFIX rdf: <http://www.w3.org/1999/02/22-rdf-syntax-ns#>\n",
        "    PREFIX per:<http://www.ontologydesignpatterns.org/ont/persp/perspectivisation.owl#>\n",
        "ASK\n",
        "WHERE {\n",
        "  ?s whata:isParticipantIn ?blamable.\n",
        "  ?blamable a whata:BlamableEventuality.\n",
        "  ?s a whata:Ought.\n",
        "}\n",
        "\n",
        "\"\"\"\n",
        "results = whataGraph.query(cq7_a)\n",
        "\n",
        "for row in results:\n",
        "    print(row)\n",
        ""
      ]
    },
    {
      "cell_type": "code",
      "execution_count": null,
      "metadata": {
        "id": "9Xz_1lctjkn8",
        "outputId": "6ecc9f4d-72ac-4267-9aeb-65f07677a056"
      },
      "outputs": [
        {
          "name": "stdout",
          "output_type": "stream",
          "text": [
            "True\n"
          ]
        }
      ],
      "source": [
        "\n",
        "#what does a blamable eventuality involve?\n",
        "cq7_b = \"\"\"PREFIX whata:<https://raw.githubusercontent.com/Salvadana/whata_ontology/main/ontology/whataboutism_ontology.owl#>\n",
        "    PREFIX rdf: <http://www.w3.org/1999/02/22-rdf-syntax-ns#>\n",
        "    PREFIX per:<http://www.ontologydesignpatterns.org/ont/persp/perspectivisation.owl#>\n",
        "ASK\n",
        "WHERE {\n",
        "  ?s whata:isParticipantIn ?blamable.\n",
        "  ?blamable a whata:BlamableEventuality.\n",
        "  ?s a whata:ResponsibilityOwner.\n",
        "}\n",
        "\n",
        "\"\"\"\n",
        "results = whataGraph.query(cq7_b)\n",
        "\n",
        "for row in results:\n",
        "    print(row)\n",
        ""
      ]
    },
    {
      "cell_type": "markdown",
      "metadata": {
        "id": "zTtUeKqQjkn8"
      },
      "source": [
        "query with result Responsibility owner acts again ought<br>expected: Responsibility Owner1/2, TidyingRoom"
      ]
    },
    {
      "cell_type": "code",
      "execution_count": null,
      "metadata": {
        "id": "NaQL-zLQjkn8",
        "outputId": "41200510-ee9e-40dd-c5df-568c9a602aac"
      },
      "outputs": [
        {
          "name": "stdout",
          "output_type": "stream",
          "text": [
            "(rdflib.term.URIRef('https://raw.githubusercontent.com/Salvadana/whata_ontology/main/ontology/whataboutism_ontology.owl#RoomResponsibilityOwner1'), rdflib.term.URIRef('https://raw.githubusercontent.com/Salvadana/whata_ontology/main/ontology/whataboutism_ontology.owl#TidyingRoomOught'))\n",
            "(rdflib.term.URIRef('https://raw.githubusercontent.com/Salvadana/whata_ontology/main/ontology/whataboutism_ontology.owl#RoomResponsibilityOwner2'), rdflib.term.URIRef('https://raw.githubusercontent.com/Salvadana/whata_ontology/main/ontology/whataboutism_ontology.owl#TidyingRoomOught'))\n"
          ]
        }
      ],
      "source": [
        "#query with result Responsibility owner acts again ought\n",
        "cq='''SELECT ?responsibilityOwner ?ought\n",
        "WHERE {\n",
        "  ?responsibilityOwner rdf:type :ResponsibilityOwner ;\n",
        "                       :actsAgainst ?ought .\n",
        "}\n",
        "\n",
        "'''\n",
        "results = whataGraph.query(cq)\n",
        "\n",
        "for row in results:\n",
        "    print(row)"
      ]
    },
    {
      "cell_type": "markdown",
      "metadata": {
        "id": "-DBh8oJOjkn8"
      },
      "source": [
        "#### Blending\n",
        "\n",
        "8. Does Whataboutism act accordingly to the Conceptual Blanding Theory? I.e. Does it create a blended space? <br> Expected result:True"
      ]
    },
    {
      "cell_type": "code",
      "execution_count": null,
      "metadata": {
        "id": "Px0-RJxpjkn8",
        "outputId": "fe653ca4-0d12-4796-bd2e-b0c3b7400d15"
      },
      "outputs": [
        {
          "name": "stdout",
          "output_type": "stream",
          "text": [
            "True\n"
          ]
        }
      ],
      "source": [
        "\n",
        "\n",
        "cq8 = \"\"\"PREFIX whata:<https://raw.githubusercontent.com/Salvadana/whata_ontology/main/ontology/whataboutism_ontology.owl#>\n",
        "    PREFIX rdf: <http://www.w3.org/1999/02/22-rdf-syntax-ns#>\n",
        "    PREFIX per:<http://www.ontologydesignpatterns.org/ont/persp/perspectivisation.owl#>\n",
        "ASK\n",
        "WHERE {\n",
        "  ?s a whata:WhataboutistPerspectivisation.\n",
        "  ?s whata:createsBlended ?o.\n",
        "}\n",
        "\n",
        "\"\"\"\n",
        "results = whataGraph.query(cq8)\n",
        "\n",
        "for row in results:\n",
        "    print(row)\n",
        ""
      ]
    },
    {
      "cell_type": "markdown",
      "metadata": {
        "id": "nRloAYtBjkn8"
      },
      "source": [
        "9. Which kind of elements are blended together by whataboutism? i.e. which are the blendable elements involved?\n",
        "<br>\n",
        "Expected: Eventualities 1 and 2"
      ]
    },
    {
      "cell_type": "code",
      "execution_count": null,
      "metadata": {
        "id": "KRWLS9Rwjkn8",
        "outputId": "d5965f92-24e7-43d6-b33f-0479f17dad7f"
      },
      "outputs": [
        {
          "name": "stdout",
          "output_type": "stream",
          "text": [
            "(rdflib.term.URIRef('https://raw.githubusercontent.com/Salvadana/whata_ontology/main/ontology/whataboutism_ontology.owl#RoomEventuality1'),)\n",
            "(rdflib.term.URIRef('https://raw.githubusercontent.com/Salvadana/whata_ontology/main/ontology/whataboutism_ontology.owl#RoomEventuality2'),)\n"
          ]
        }
      ],
      "source": [
        "\n",
        "#what does a blamable eventuality involve?\n",
        "cq9 = \"\"\"PREFIX whata:<https://raw.githubusercontent.com/Salvadana/whata_ontology/main/ontology/whataboutism_ontology.owl#>\n",
        "    PREFIX rdf: <http://www.w3.org/1999/02/22-rdf-syntax-ns#>\n",
        "    PREFIX rdfs: <http://www.w3.org/2000/01/rdf-schema#>\n",
        "    PREFIX per:<http://www.ontologydesignpatterns.org/ont/persp/perspectivisation.owl#>\n",
        "    PREFIX dns: <http://www.ontologydesignpatterns.org/cp/owl/description.owl#>\n",
        "SELECT ?s\n",
        "WHERE {\n",
        "  ?s rdfs:subClassOf per:Blendable.\n",
        "}\n",
        "\n",
        "\"\"\"\n",
        "results = whataGraph.query(cq9)\n",
        "\n",
        "for row in results:\n",
        "    print(row)\n",
        ""
      ]
    },
    {
      "cell_type": "markdown",
      "metadata": {
        "id": "-mStS-iDjkn8"
      },
      "source": [
        "10. From which classes does the blanded element inerhits its features?\n",
        "<br> Expect"
      ]
    },
    {
      "cell_type": "code",
      "execution_count": null,
      "metadata": {
        "id": "fyJ6kx0kjkn9",
        "outputId": "6547c637-64d8-43f7-f2e5-a3a24768ea47"
      },
      "outputs": [
        {
          "name": "stdout",
          "output_type": "stream",
          "text": [
            "(rdflib.term.URIRef('https://raw.githubusercontent.com/Salvadana/whata_ontology/main/ontology/whataboutism_ontology.owl#BlamableEventuality'),)\n",
            "(rdflib.term.URIRef('http://www.ontologydesignpatterns.org/ont/persp/perspectivisation.owl#Blended'),)\n"
          ]
        }
      ],
      "source": [
        "\n",
        "\n",
        "cq10 = \"\"\"PREFIX whata:<https://raw.githubusercontent.com/Salvadana/whata_ontology/main/ontology/whataboutism_ontology.owl#>\n",
        "    PREFIX rdf: <http://www.w3.org/1999/02/22-rdf-syntax-ns#>\n",
        "    PREFIX per:<http://www.ontologydesignpatterns.org/ont/persp/perspectivisation.owl#>\n",
        "     PREFIX rdfs: <http://www.w3.org/2000/01/rdf-schema#>\n",
        "SELECT  distinct  ?class\n",
        "WHERE {\n",
        "  ?s a whata:WhataboutistPerspectivisation.\n",
        "  ?s whata:createsBlended ?o.\n",
        "  ?o a ?type.\n",
        "  ?o rdfs:subClassOf ?class.\n",
        "\n",
        "}\n",
        "\n",
        "\"\"\"\n",
        "results = whataGraph.query(cq10)\n",
        "\n",
        "for row in results:\n",
        "    print(row)\n",
        ""
      ]
    },
    {
      "cell_type": "markdown",
      "metadata": {
        "id": "r4-qfKLxjkn9"
      },
      "source": [
        "#### Whataboutism usage\n",
        "11. Is the arguer in Sample Situation 1 being whataboutist? I.e. is the room eventuality perspectivised using whataboutism?"
      ]
    },
    {
      "cell_type": "code",
      "execution_count": null,
      "metadata": {
        "id": "rZhTJeVqjkn9",
        "outputId": "db03e2bb-d0f8-49da-8841-72e48614dab4"
      },
      "outputs": [
        {
          "name": "stdout",
          "output_type": "stream",
          "text": [
            "True\n"
          ]
        }
      ],
      "source": [
        "cq='''PREFIX whata: <https://raw.githubusercontent.com/Salvadana/whata_ontology/main/ontology/whataboutism_ontology.owl#>\n",
        "PREFIX owl: <http://www.w3.org/2002/07/owl#>\n",
        "PREFIX rdf: <http://www.w3.org/1999/02/22-rdf-syntax-ns#>\n",
        "PREFIX rdfs: <http://www.w3.org/2000/01/rdf-schema#>\n",
        "PREFIX per:<http://www.ontologydesignpatterns.org/ont/persp/perspectivisation.owl#>\n",
        "ASK\n",
        "WHERE{ ?p per:Eventuality whata:RoomEventuality1.\n",
        "        ?p per:Lens ?lens.\n",
        "        ?lens a whata:WhataboutistLens. }\n",
        "\n",
        "\n",
        "'''\n",
        "results = whataGraph.query(cq)\n",
        "\n",
        "for row in results:\n",
        "    print(row)"
      ]
    },
    {
      "cell_type": "markdown",
      "metadata": {
        "id": "84AXI-aujkn9"
      },
      "source": [
        "#### Fallacies and Biases connections with whataboutism"
      ]
    },
    {
      "cell_type": "markdown",
      "metadata": {
        "id": "-43DdOimjkn9"
      },
      "source": [
        "12. Is whataboutism connected to any discourse fallacies? And to which kind?\n",
        "<br> Expected: Relevance Fallacies Lens"
      ]
    },
    {
      "cell_type": "code",
      "execution_count": null,
      "metadata": {
        "id": "rGarryJcjkn9",
        "outputId": "5c76e99c-b5ff-40e7-b3e2-2274de189fa0"
      },
      "outputs": [
        {
          "name": "stdout",
          "output_type": "stream",
          "text": [
            "(rdflib.term.URIRef('https://raw.githubusercontent.com/Salvadana/whata_ontology/main/ontology/whataboutism_ontology.owl#FallacyLens'),)\n"
          ]
        }
      ],
      "source": [
        "cq12='''PREFIX : <https://raw.githubusercontent.com/Salvadana/whata_ontology/main/ontology/whataboutism_ontology.owl#>\n",
        "PREFIX rdf: <http://www.w3.org/1999/02/22-rdf-syntax-ns#>\n",
        "\n",
        "SELECT ?relatedLens\n",
        "WHERE {\n",
        "  ?relatedLens :relatedToLens :WhataboutistLens .\n",
        "  ?relatedLens rdf:type :RelevanceFallacyLens .\n",
        "}'''\n",
        "results = whataGraph.query(cq12)\n",
        "\n",
        "for row in results:\n",
        "    print(row)"
      ]
    },
    {
      "cell_type": "markdown",
      "metadata": {
        "id": "tmzmHpIUjkn9"
      },
      "source": [
        "13.  Is whataboutism connected to any Cognitive Bias? And to which kind?\n",
        "<br> Expected: Confirmation Bias Lens"
      ]
    },
    {
      "cell_type": "code",
      "execution_count": null,
      "metadata": {
        "id": "3t2ZLsmJjkoB",
        "outputId": "f02a63f5-f426-4ad5-e094-5b8772339b79"
      },
      "outputs": [
        {
          "name": "stdout",
          "output_type": "stream",
          "text": [
            "(rdflib.term.URIRef('https://raw.githubusercontent.com/Salvadana/whata_ontology/main/ontology/whataboutism_ontology.owl#BiasLens'),)\n"
          ]
        }
      ],
      "source": [
        "cq13='''PREFIX : <https://raw.githubusercontent.com/Salvadana/whata_ontology/main/ontology/whataboutism_ontology.owl#>\n",
        "PREFIX rdf: <http://www.w3.org/1999/02/22-rdf-syntax-ns#>\n",
        "\n",
        "SELECT ?relatedLens\n",
        "WHERE {\n",
        "  ?relatedLens :relatedToLens :WhataboutistLens .\n",
        "  ?relatedLens rdf:type :ConfirmationBiasLens .\n",
        "}'''\n",
        "results = whataGraph.query(cq13)\n",
        "\n",
        "for row in results:\n",
        "    print(row)"
      ]
    }
  ],
  "metadata": {
    "kernelspec": {
      "display_name": "Python 3",
      "language": "python",
      "name": "python3"
    },
    "language_info": {
      "codemirror_mode": {
        "name": "ipython",
        "version": 3
      },
      "file_extension": ".py",
      "mimetype": "text/x-python",
      "name": "python",
      "nbconvert_exporter": "python",
      "pygments_lexer": "ipython3",
      "version": "3.10.0"
    },
    "colab": {
      "provenance": []
    }
  },
  "nbformat": 4,
  "nbformat_minor": 0
}