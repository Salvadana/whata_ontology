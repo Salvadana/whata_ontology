{
 "cells": [
  {
   "cell_type": "code",
   "execution_count": 135,
   "metadata": {},
   "outputs": [
    {
     "name": "stdout",
     "output_type": "stream",
     "text": [
      "(rdflib.term.URIRef('https://raw.githubusercontent.com/Salvadana/whata_ontology/main/ontology/whataboutism_ontology.owl#shiftsFocusFrom'),)\n",
      "(rdflib.term.URIRef('https://raw.githubusercontent.com/Salvadana/whata_ontology/main/ontology/whataboutism_ontology.owl#relatedToLens'),)\n",
      "(rdflib.term.URIRef('https://raw.githubusercontent.com/Salvadana/whata_ontology/main/ontology/whataboutism_ontology.owl#relatedToLens'),)\n",
      "(rdflib.term.URIRef('https://raw.githubusercontent.com/Salvadana/whata_ontology/main/ontology/whataboutism_ontology.owl#shiftsFocusOn'),)\n",
      "(rdflib.term.URIRef('https://raw.githubusercontent.com/Salvadana/whata_ontology/main/ontology/whataboutism_ontology.owl#createsBlended'),)\n"
     ]
    }
   ],
   "source": [
    "from rdflib import Graph, URIRef, Literal, Namespace\n",
    "from rdflib.namespace import RDF, XSD\n",
    "\n",
    "# Define the namespaces\n",
    "ear = Namespace(\"http://www.essepuntato.it/2008/12/earmark#\")\n",
    "whata = Namespace(\"https://raw.githubusercontent.com/Salvadana/whata_ontology/main/ontology/whataboutism_ontology.owl#\")\n",
    "per= Namespace('http://www.ontologydesignpatterns.org/ont/persp/perspectivisation.owl#')\n",
    "dns= Namespace('http://www.ontologydesignpatterns.org/cp/owl/description.owl#')\n",
    "rdfs=Namespace('http://www.w3.org/2000/01/rdf-schema#')\n",
    "# Create the RDF graph\n",
    "g = Graph()\n",
    "\n",
    "# Bind the namespaces\n",
    "g.bind(\"ear\", ear)\n",
    "g.bind(\"whata\", whata)\n",
    "\n",
    "# Define the document\n",
    "doc = URIRef(\"https://raw.githubusercontent.com/Salvadana/whata_ontology/main/ontology/whataboutism_ontology.owl/doc1\")\n",
    "g.add((doc, RDF.type, ear.StringDocuverse))\n",
    "g.add((doc, ear.hasContent, Literal(\"The West has no right to criticize our record on human rights, look at US actions in Central America, the history of slavery and of lynchings, not to mention apartheid in South Africa…\", datatype=XSD.string)))\n",
    "\n",
    "# Define the annotations\n",
    "annotations = [\n",
    "    (URIRef(\"https://raw.githubusercontent.com/Salvadana/whata_ontology/main/ontology/whataboutism_ontology.owl/Perspectivisation1\"), \"WhataboutistPerspectivisation\", \"The West has no right to criticize our record on human rights\"),\n",
    "     (URIRef(\"https://raw.githubusercontent.com/Salvadana/whata_ontology/main/ontology/whataboutism_ontology.owl/West\"), \"ResponsibilityOwner\", \"West\"),\n",
    "     (URIRef(\"https://raw.githubusercontent.com/Salvadana/whata_ontology/main/ontology/whataboutism_ontology.owl/Our\"), \"ResponsibilityOwner\", \"our\"),\n",
    "    (URIRef(\"https://raw.githubusercontent.com/Salvadana/whata_ontology/main/ontology/whataboutism_ontology.owl/HumanRightsViolation\"), \"BlamableEventuality\", \"record\"),\n",
    "    (URIRef(\"https://raw.githubusercontent.com/Salvadana/whata_ontology/main/ontology/whataboutism_ontology.owl/SlaveryAndLynchings\"), \"BlamableEventuality\", \"the history of slavery and of lynchings\"),\n",
    "    (URIRef(\"https://raw.githubusercontent.com/Salvadana/whata_ontology/main/ontology/whataboutism_ontology.owl/BlendedHumanRightsViolation\"), \"BlendedBlameFrame\", \"look at\"),\n",
    "     (URIRef(\"https://raw.githubusercontent.com/Salvadana/whata_ontology/main/ontology/whataboutism_ontology.owl/RespectingHumanRights\"), \"Ought\", \"human rights\")\n",
    "    ]\n",
    "\n",
    "# Add the annotations to the graph\n",
    "for ann, typ, text in annotations:\n",
    "    g.add((ann, RDF.type, ear.Annotation))\n",
    "    g.add((ann, ear.annotates, doc))\n",
    "    g.add((ann, ear.hasXPathContext, Literal(f\"//text()[contains(., '{text}')]\", datatype=XSD.string)))\n",
    "    g.add((ann, RDF.type, whata[typ]))\n",
    "\n",
    "# Add triples for lens, eventuality, and their relationship\n",
    "perspectivisation=URIRef('https://raw.githubusercontent.com/Salvadana/whata_ontology/main/ontology/whataboutism_ontology.owl/Perspectivisation1')\n",
    "lens = URIRef(\"https://raw.githubusercontent.com/Salvadana/whata_ontology/main/ontology/whataboutism_ontology.owl/lens1\")\n",
    "eventuality1 = URIRef(\"https://raw.githubusercontent.com/Salvadana/whata_ontology/main/ontology/whataboutism_ontology.owl/HumanRightsViolation\")\n",
    "eventuality2 = URIRef(\"https://raw.githubusercontent.com/Salvadana/whata_ontology/main/ontology/whataboutism_ontology.owl/SlaveryAndLynchings\")\n",
    "ro1=URIRef(\"https://raw.githubusercontent.com/Salvadana/whata_ontology/main/ontology/whataboutism_ontology.owl/Our\")\n",
    "ro2=URIRef(\"https://raw.githubusercontent.com/Salvadana/whata_ontology/main/ontology/whataboutism_ontology.owl/West\")\n",
    "blended= URIRef(\"https://raw.githubusercontent.com/Salvadana/whata_ontology/main/ontology/whataboutism_ontology.owl/BlendedHumanRightsViolation\")\n",
    "ought= URIRef(\"https://raw.githubusercontent.com/Salvadana/whata_ontology/main/ontology/whataboutism_ontology.owl/RespectingHumanRights\")\n",
    "\n",
    "#add triples\n",
    "g.add((lens, RDF.type, whata.WhataboutistLens))\n",
    "g.add((lens, whata.shiftsFocusFrom, eventuality1))\n",
    "g.add((lens, whata.relatedToLens, whata.ConfirmationBiasLens))\n",
    "g.add((lens, whata.relatedToLens, whata.RelevanceFallacyLens))\n",
    "g.add((lens, whata.shiftsFocusOn, eventuality2))\n",
    "g.add((lens, whata.createsBlended, blended))\n",
    "#g.add((eventuality1, RDF.type, whata.BlamableEventuality))\n",
    "g.add((eventuality1, dns.satisfies, whata.BlameFrameDescription))\n",
    "g.add((eventuality2, dns.satisfies, whata.BlameFrameDescription))\n",
    "g.add((blended, dns.satisfies, whata.BlameFrameDescription))\n",
    "g.add((blended, rdfs.subClassOf, whata.BlamableEventuality))\n",
    "g.add((blended, rdfs.subClassOf, per.Blended))\n",
    "g.add((ro1, whata.actsAgainst, eventuality1))\n",
    "g.add((ro2, whata.actsAgainst, eventuality2))\n",
    "g.add((perspectivisation, per.Eventuality, eventuality1))\n",
    "g.add((perspectivisation, per.Lens, lens))\n",
    "g.add((perspectivisation, whata.relatedIdentifyingPattern, Literal('no right to criticize')))\n",
    "g.add((ought, whata.isParticipantIn, eventuality1))\n",
    "g.add((ought, whata.isParticipantIn, eventuality2))\n",
    "g.add((ro1, whata.isParticipantIn, eventuality1))\n",
    "g.add((ro2, whata.isParticipantIn, eventuality2))\n",
    "\n",
    "\n",
    "\n",
    "\n",
    "\n",
    "# Serialize the graph\n",
    "#print(g.serialize(format=\"turtle\"))\n",
    "# Now you can perform the SPARQL query\n",
    "q= \"\"\"\n",
    "PREFIX whata:<https://raw.githubusercontent.com/Salvadana/whata_ontology/main/ontology/whataboutism_ontology.owl#> \n",
    "    PREFIX rdf: <http://www.w3.org/1999/02/22-rdf-syntax-ns#>\n",
    "    PREFIX per:<http://www.ontologydesignpatterns.org/ont/persp/perspectivisation.owl#>\n",
    "SELECT   ?actsUpon \n",
    "WHERE {\n",
    "  \n",
    "  ?s a whata:WhataboutistLens; \n",
    "  ?actsUpon ?eventuality.  \n",
    "  FILTER (?actsUpon != rdf:type)\n",
    "  FILTER (?actsUpon != rdfs:subClassOf)\n",
    "}\n",
    "      \n",
    "\"\"\"\n",
    "\n",
    "# Execute the query and print the results\n",
    "for row in g.query(q):\n",
    "    print(row)\n",
    "\n"
   ]
  },
  {
   "cell_type": "code",
   "execution_count": 70,
   "metadata": {},
   "outputs": [
    {
     "name": "stdout",
     "output_type": "stream",
     "text": [
      "(rdflib.term.URIRef('https://raw.githubusercontent.com/Salvadana/whata_ontology/main/ontology/whataboutism_ontology.owl/HumanRightsViolation'),)\n",
      "(rdflib.term.URIRef('https://raw.githubusercontent.com/Salvadana/whata_ontology/main/ontology/whataboutism_ontology.owl/SlaveryAndLynchings'),)\n"
     ]
    }
   ],
   "source": [
    "#BLAMABLE EVENTUALITIES QUERY\n",
    "# Now you can perform the SPARQL query\n",
    "q2 = \"\"\"\n",
    "PREFIX whata:<https://raw.githubusercontent.com/Salvadana/whata_ontology/main/ontology/whataboutism_ontology.owl#> \n",
    "PREFIX rdf: <http://www.w3.org/1999/02/22-rdf-syntax-ns#>\n",
    "PREFIX per:<http://www.ontologydesignpatterns.org/ont/persp/perspectivisation.owl#>\n",
    "PREFIX owl: <http://www.w3.org/2002/07/owl#>\n",
    "\n",
    "SELECT ?s\n",
    "WHERE {\n",
    "  ?s a whata:BlamableEventuality.\n",
    " }\n",
    "\"\"\"\n",
    "\n",
    "# Execute the query and print the results\n",
    "for row in g.query(q2):\n",
    "    print(row)\n"
   ]
  },
  {
   "cell_type": "code",
   "execution_count": 132,
   "metadata": {},
   "outputs": [
    {
     "name": "stdout",
     "output_type": "stream",
     "text": [
      "(rdflib.term.URIRef('https://raw.githubusercontent.com/Salvadana/whata_ontology/main/ontology/whataboutism_ontology.owl/West'),)\n",
      "(rdflib.term.URIRef('https://raw.githubusercontent.com/Salvadana/whata_ontology/main/ontology/whataboutism_ontology.owl/Our'),)\n"
     ]
    }
   ],
   "source": [
    "#RESPONSIBILITY OWNERS QUERY\n",
    "# Now you can perform the SPARQL query\n",
    "q3 = \"\"\"\n",
    "PREFIX whata:<https://raw.githubusercontent.com/Salvadana/whata_ontology/main/ontology/whataboutism_ontology.owl#> \n",
    "PREFIX rdf: <http://www.w3.org/1999/02/22-rdf-syntax-ns#>\n",
    "PREFIX per:<http://www.ontologydesignpatterns.org/ont/persp/perspectivisation.owl#>\n",
    "PREFIX owl: <http://www.w3.org/2002/07/owl#>\n",
    "\n",
    "SELECT ?s\n",
    "WHERE {\n",
    "  ?s a whata:ResponsibilityOwner.\n",
    " }\n",
    "\"\"\"\n",
    "\n",
    "# Execute the query and print the results\n",
    "for row in g.query(q3):\n",
    "    print(row)\n"
   ]
  },
  {
   "cell_type": "code",
   "execution_count": 136,
   "metadata": {},
   "outputs": [
    {
     "name": "stdout",
     "output_type": "stream",
     "text": [
      "(rdflib.term.URIRef('https://raw.githubusercontent.com/Salvadana/whata_ontology/main/ontology/whataboutism_ontology.owl/Our'), rdflib.term.URIRef('https://raw.githubusercontent.com/Salvadana/whata_ontology/main/ontology/whataboutism_ontology.owl/HumanRightsViolation'))\n",
      "(rdflib.term.URIRef('https://raw.githubusercontent.com/Salvadana/whata_ontology/main/ontology/whataboutism_ontology.owl/West'), rdflib.term.URIRef('https://raw.githubusercontent.com/Salvadana/whata_ontology/main/ontology/whataboutism_ontology.owl/SlaveryAndLynchings'))\n"
     ]
    }
   ],
   "source": [
    "#RESPONSIBILITY OWNERS QUERY\n",
    "# Now you can perform the SPARQL query\n",
    "q4 = \"\"\"\n",
    "PREFIX whata:<https://raw.githubusercontent.com/Salvadana/whata_ontology/main/ontology/whataboutism_ontology.owl#> \n",
    "PREFIX rdf: <http://www.w3.org/1999/02/22-rdf-syntax-ns#>\n",
    "PREFIX per:<http://www.ontologydesignpatterns.org/ont/persp/perspectivisation.owl#>\n",
    "PREFIX owl: <http://www.w3.org/2002/07/owl#>\n",
    "\n",
    "SELECT ?s ?o\n",
    "WHERE {\n",
    "  ?s whata:actsAgainst ?o.\n",
    " }\n",
    "\"\"\"\n",
    "\n",
    "# Execute the query and print the results\n",
    "for row in g.query(q4):\n",
    "    print(row)\n"
   ]
  },
  {
   "cell_type": "code",
   "execution_count": 36,
   "metadata": {},
   "outputs": [
    {
     "name": "stdout",
     "output_type": "stream",
     "text": [
      "(rdflib.term.URIRef('https://raw.githubusercontent.com/Salvadana/whata_ontology/main/ontology/whataboutism_ontology.owl/BlendedHumanRightsViolation'),)\n"
     ]
    }
   ],
   "source": [
    "#RESPONSIBILITY OWNERS QUERY\n",
    "# Now you can perform the SPARQL query\n",
    "q5 = \"\"\"\n",
    "PREFIX whata:<https://raw.githubusercontent.com/Salvadana/whata_ontology/main/ontology/whataboutism_ontology.owl#> \n",
    "PREFIX rdf: <http://www.w3.org/1999/02/22-rdf-syntax-ns#>\n",
    "PREFIX per:<http://www.ontologydesignpatterns.org/ont/persp/perspectivisation.owl#>\n",
    "PREFIX owl: <http://www.w3.org/2002/07/owl#>\n",
    "\n",
    "SELECT ?s \n",
    "WHERE {\n",
    "  ?s a whata:BlendedBlameFrame.\n",
    " }\n",
    "\"\"\"\n",
    "\n",
    "# Execute the query and print the results\n",
    "for row in g.query(q5):\n",
    "    print(row)\n"
   ]
  },
  {
   "cell_type": "code",
   "execution_count": 37,
   "metadata": {},
   "outputs": [
    {
     "name": "stdout",
     "output_type": "stream",
     "text": [
      "(rdflib.term.Literal('no right to criticize'),)\n"
     ]
    }
   ],
   "source": [
    "#RESPONSIBILITY OWNERS QUERY\n",
    "# Now you can perform the SPARQL query\n",
    "q5 = \"\"\"\n",
    "PREFIX whata:<https://raw.githubusercontent.com/Salvadana/whata_ontology/main/ontology/whataboutism_ontology.owl#> \n",
    "PREFIX rdf: <http://www.w3.org/1999/02/22-rdf-syntax-ns#>\n",
    "PREFIX per:<http://www.ontologydesignpatterns.org/ont/persp/perspectivisation.owl#>\n",
    "PREFIX owl: <http://www.w3.org/2002/07/owl#>\n",
    "\n",
    "SELECT ?p \n",
    "WHERE {\n",
    "  ?s  whata:relatedIdentifyingPattern ?p.\n",
    " }\n",
    "\"\"\"\n",
    "\n",
    "# Execute the query and print the results\n",
    "for row in g.query(q5):\n",
    "    print(row)\n"
   ]
  },
  {
   "cell_type": "markdown",
   "metadata": {},
   "source": [
    "# CQs"
   ]
  },
  {
   "cell_type": "code",
   "execution_count": 47,
   "metadata": {},
   "outputs": [
    {
     "name": "stdout",
     "output_type": "stream",
     "text": [
      "(rdflib.term.URIRef('https://raw.githubusercontent.com/Salvadana/whata_ontology/main/ontology/whataboutism_ontology.owl/HumanRightsViolation'),)\n"
     ]
    }
   ],
   "source": [
    "cq1 = \"\"\"PREFIX whata:<https://raw.githubusercontent.com/Salvadana/whata_ontology/main/ontology/whataboutism_ontology.owl#> \n",
    "    PREFIX rdf: <http://www.w3.org/1999/02/22-rdf-syntax-ns#>\n",
    "    PREFIX per:<http://www.ontologydesignpatterns.org/ont/persp/perspectivisation.owl#>\n",
    "    \n",
    "SELECT  ?e\n",
    "WHERE {\n",
    "  \n",
    "?s a whata:WhataboutistPerspectivisation.\n",
    "?s per:Eventuality ?e.\n",
    "}     \n",
    "\"\"\"\n",
    "results = g.query(cq1)\n",
    "\n",
    "for row in results:\n",
    "    print(row)\n",
    "    "
   ]
  },
  {
   "cell_type": "code",
   "execution_count": 49,
   "metadata": {},
   "outputs": [
    {
     "name": "stdout",
     "output_type": "stream",
     "text": [
      "(rdflib.term.URIRef('https://raw.githubusercontent.com/Salvadana/whata_ontology/main/ontology/whataboutism_ontology.owl/lens1'),)\n"
     ]
    }
   ],
   "source": [
    "\n",
    "cq2 = \"\"\"PREFIX whata:<https://raw.githubusercontent.com/Salvadana/whata_ontology/main/ontology/whataboutism_ontology.owl#> \n",
    "    PREFIX rdf: <http://www.w3.org/1999/02/22-rdf-syntax-ns#>\n",
    "    PREFIX per:<http://www.ontologydesignpatterns.org/ont/persp/perspectivisation.owl#>\n",
    "    PREFIX owl: <http://www.w3.org/2002/07/owl#>\n",
    "SELECT ?s\n",
    "WHERE {\n",
    "  ?p a whata:WhataboutistPerspectivisation.\n",
    "  ?p per:Eventuality ?e.\n",
    "  ?s whata:shiftsFocusFrom ?e.\n",
    "  \n",
    "}\n",
    "      \n",
    "\"\"\"\n",
    "results = g.query(cq2)\n",
    "\n",
    "for row in results:\n",
    "    print(row)\n",
    "    "
   ]
  },
  {
   "cell_type": "code",
   "execution_count": 53,
   "metadata": {},
   "outputs": [
    {
     "name": "stdout",
     "output_type": "stream",
     "text": [
      "(rdflib.term.URIRef('https://raw.githubusercontent.com/Salvadana/whata_ontology/main/ontology/whataboutism_ontology.owl#shiftsFocusFrom'),)\n"
     ]
    }
   ],
   "source": [
    "#what does whataboutism do? how it acts in the perspectivisation situation?\n",
    "\n",
    "cq3 = \"\"\"PREFIX whata:<https://raw.githubusercontent.com/Salvadana/whata_ontology/main/ontology/whataboutism_ontology.owl#> \n",
    "    PREFIX rdf: <http://www.w3.org/1999/02/22-rdf-syntax-ns#>\n",
    "    PREFIX per:<http://www.ontologydesignpatterns.org/ont/persp/perspectivisation.owl#>\n",
    "SELECT   ?actsUpon\n",
    "WHERE {\n",
    "  ?s a whata:WhataboutistPerspectivisation.\n",
    "  ?s per:Lens ?lens.\n",
    "  ?s per:Eventuality ?eventuality.\n",
    "  ?lens ?actsUpon ?eventuality.\n",
    "}\n",
    "      \n",
    "\"\"\"\n",
    "results = g.query(cq3)\n",
    "\n",
    "for row in results:\n",
    "    print(row)\n",
    "    "
   ]
  },
  {
   "cell_type": "code",
   "execution_count": 55,
   "metadata": {},
   "outputs": [
    {
     "name": "stdout",
     "output_type": "stream",
     "text": [
      "(rdflib.term.URIRef('https://raw.githubusercontent.com/Salvadana/whata_ontology/main/ontology/whataboutism_ontology.owl#shiftsFocusFrom'),)\n",
      "(rdflib.term.URIRef('https://raw.githubusercontent.com/Salvadana/whata_ontology/main/ontology/whataboutism_ontology.owl#shiftsFocusOn'),)\n",
      "(rdflib.term.URIRef('https://raw.githubusercontent.com/Salvadana/whata_ontology/main/ontology/whataboutism_ontology.owl#createsBlended'),)\n"
     ]
    }
   ],
   "source": [
    "\n",
    "\n",
    "cq3_a = \"\"\"PREFIX whata:<https://raw.githubusercontent.com/Salvadana/whata_ontology/main/ontology/whataboutism_ontology.owl#> \n",
    "    PREFIX rdf: <http://www.w3.org/1999/02/22-rdf-syntax-ns#>\n",
    "    PREFIX per:<http://www.ontologydesignpatterns.org/ont/persp/perspectivisation.owl#>\n",
    "SELECT   ?actsUpon \n",
    "WHERE {\n",
    "  \n",
    "  ?s a whata:WhataboutistLens; \n",
    "  ?actsUpon ?eventuality.  \n",
    "  FILTER (?actsUpon != rdf:type)\n",
    "  FILTER (?actsUpon != rdfs:subClassOf)\n",
    "}\n",
    "      \n",
    "\"\"\"\n",
    "results = g.query(cq3_a)\n",
    "\n",
    "for row in results:\n",
    "    print(row)\n",
    "    "
   ]
  },
  {
   "cell_type": "code",
   "execution_count": 58,
   "metadata": {},
   "outputs": [
    {
     "name": "stdout",
     "output_type": "stream",
     "text": [
      "(rdflib.term.Literal('no right to criticize'),)\n"
     ]
    }
   ],
   "source": [
    "# Which linguistic elements do denote whataboutism?\n",
    "#expected result: string with pattern, string with sentence\n",
    "cq4 = \"\"\"PREFIX whata:<https://raw.githubusercontent.com/Salvadana/whata_ontology/main/ontology/whataboutism_ontology.owl#> \n",
    "    PREFIX rdf: <http://www.w3.org/1999/02/22-rdf-syntax-ns#>\n",
    "SELECT  ?pattern \n",
    "WHERE {\n",
    "  ?s a whata:WhataboutistPerspectivisation;\n",
    "    \n",
    "   whata:relatedIdentifyingPattern ?pattern.\n",
    "   \n",
    "}\n",
    "      \n",
    "\"\"\"\n",
    "results = g.query(cq4)\n",
    "\n",
    "for row in results:\n",
    "    print(row)\n",
    "    "
   ]
  },
  {
   "cell_type": "code",
   "execution_count": 67,
   "metadata": {},
   "outputs": [
    {
     "name": "stdout",
     "output_type": "stream",
     "text": [
      "(rdflib.term.URIRef('http://www.essepuntato.it/2008/12/earmark#Annotation'),)\n",
      "(rdflib.term.URIRef('https://raw.githubusercontent.com/Salvadana/whata_ontology/main/ontology/whataboutism_ontology.owl#BlamableEventuality'),)\n"
     ]
    }
   ],
   "source": [
    "\n",
    "#- Which kind of situation is the one involved in Whataboutism?\n",
    "\n",
    "cq5 = \"\"\"\n",
    "    PREFIX whata:<https://raw.githubusercontent.com/Salvadana/whata_ontology/main/ontology/whataboutism_ontology.owl#> \n",
    "    PREFIX rdf: <http://www.w3.org/1999/02/22-rdf-syntax-ns#>\n",
    "    SELECT  ?situation \n",
    "   WHERE {\n",
    "       ?s whata:shiftsFocusFrom ?o.\n",
    "       ?s whata:shiftsFocusOn ?o2.\n",
    "       ?o a ?situation.\n",
    "       ?o2 a ?situation.\n",
    "        }\n",
    "\"\"\"\n",
    "results = g.query(cq5)\n",
    "\n",
    "for row in results:\n",
    "    print(row)\n",
    " "
   ]
  },
  {
   "cell_type": "code",
   "execution_count": 76,
   "metadata": {},
   "outputs": [
    {
     "name": "stdout",
     "output_type": "stream",
     "text": [
      "(rdflib.term.URIRef('https://raw.githubusercontent.com/Salvadana/whata_ontology/main/ontology/whataboutism_ontology.owl#BlameFrameDescription'), rdflib.term.URIRef('https://raw.githubusercontent.com/Salvadana/whata_ontology/main/ontology/whataboutism_ontology.owl/HumanRightsViolation'))\n",
      "(rdflib.term.URIRef('https://raw.githubusercontent.com/Salvadana/whata_ontology/main/ontology/whataboutism_ontology.owl#BlameFrameDescription'), rdflib.term.URIRef('https://raw.githubusercontent.com/Salvadana/whata_ontology/main/ontology/whataboutism_ontology.owl/SlaveryAndLynchings'))\n",
      "(rdflib.term.URIRef('https://raw.githubusercontent.com/Salvadana/whata_ontology/main/ontology/whataboutism_ontology.owl#BlameFrameDescription'), rdflib.term.URIRef('https://raw.githubusercontent.com/Salvadana/whata_ontology/main/ontology/whataboutism_ontology.owl/BlendedHumanRightsViolation'))\n"
     ]
    }
   ],
   "source": [
    "#- Which kind of situation is the one involved in Whataboutism?\n",
    "# - What entities are involved in the blaming situation?\n",
    "cq6 = '''\n",
    "PREFIX whata: <https://raw.githubusercontent.com/Salvadana/whata_ontology/main/ontology/whataboutism_ontology.owl#>\n",
    "PREFIX owl: <http://www.w3.org/2002/07/owl#>\n",
    "PREFIX dcterms: <http://purl.org/dc/terms/>\n",
    "PREFIX dns: <http://www.ontologydesignpatterns.org/cp/owl/description.owl#>\n",
    "\n",
    "SELECT  ?description ?o\n",
    "WHERE {\n",
    "?s a whata:WhataboutistLens.\n",
    "?s ?actsUpon ?o.\n",
    "  ?o dns:satisfies ?description .\n",
    "}\n",
    "\n",
    "'''\n",
    "results = g.query(cq6)\n",
    "\n",
    "for row in results:\n",
    "    print(row)\n",
    "    "
   ]
  },
  {
   "cell_type": "code",
   "execution_count": 84,
   "metadata": {},
   "outputs": [
    {
     "name": "stdout",
     "output_type": "stream",
     "text": [
      "(rdflib.term.URIRef('https://raw.githubusercontent.com/Salvadana/whata_ontology/main/ontology/whataboutism_ontology.owl/RespectingHumanRights'),)\n",
      "(rdflib.term.URIRef('https://raw.githubusercontent.com/Salvadana/whata_ontology/main/ontology/whataboutism_ontology.owl/West'),)\n",
      "(rdflib.term.URIRef('https://raw.githubusercontent.com/Salvadana/whata_ontology/main/ontology/whataboutism_ontology.owl/our'),)\n"
     ]
    }
   ],
   "source": [
    "\n",
    "# - What entities are involved in the blaming situation?\n",
    "cq7 = \"\"\"\n",
    "    PREFIX whata:<https://raw.githubusercontent.com/Salvadana/whata_ontology/main/ontology/whataboutism_ontology.owl#> \n",
    "    PREFIX rdf: <http://www.w3.org/1999/02/22-rdf-syntax-ns#>\n",
    "    SELECT distinct ?s\n",
    "   WHERE {\n",
    "       ?s whata:isParticipantIn ?blamable.\n",
    "       ?blamable a whata:BlamableEventuality.\n",
    "        }\n",
    "\"\"\"\n",
    "results = g.query(cq7)\n",
    "\n",
    "for row in results:\n",
    "    print(row)\n",
    "    "
   ]
  },
  {
   "cell_type": "code",
   "execution_count": 85,
   "metadata": {},
   "outputs": [
    {
     "name": "stdout",
     "output_type": "stream",
     "text": [
      "True\n"
     ]
    }
   ],
   "source": [
    "\n",
    "#what does a blamable eventuality involve?\n",
    "cq7_a = \"\"\"PREFIX whata:<https://raw.githubusercontent.com/Salvadana/whata_ontology/main/ontology/whataboutism_ontology.owl#> \n",
    "    PREFIX rdf: <http://www.w3.org/1999/02/22-rdf-syntax-ns#>\n",
    "    PREFIX per:<http://www.ontologydesignpatterns.org/ont/persp/perspectivisation.owl#>\n",
    "ASK\n",
    "WHERE {\n",
    "  ?s whata:isParticipantIn ?blamable.\n",
    "  ?blamable a whata:BlamableEventuality.\n",
    "  ?s a whata:Ought.\n",
    "}\n",
    "      \n",
    "\"\"\"\n",
    "results = g.query(cq7_a)\n",
    "\n",
    "for row in results:\n",
    "    print(row)\n",
    "    "
   ]
  },
  {
   "cell_type": "code",
   "execution_count": 87,
   "metadata": {},
   "outputs": [
    {
     "name": "stdout",
     "output_type": "stream",
     "text": [
      "True\n"
     ]
    }
   ],
   "source": [
    "\n",
    "#what does a blamable eventuality involve?\n",
    "cq7_b = \"\"\"PREFIX whata:<https://raw.githubusercontent.com/Salvadana/whata_ontology/main/ontology/whataboutism_ontology.owl#> \n",
    "    PREFIX rdf: <http://www.w3.org/1999/02/22-rdf-syntax-ns#>\n",
    "    PREFIX per:<http://www.ontologydesignpatterns.org/ont/persp/perspectivisation.owl#>\n",
    "ASK\n",
    "WHERE {\n",
    "  ?s whata:isParticipantIn ?blamable.\n",
    "  ?blamable a whata:BlamableEventuality.\n",
    "  ?s a whata:ResponsibilityOwner.\n",
    "}\n",
    "      \n",
    "\"\"\"\n",
    "results = g.query(cq7_b)\n",
    "\n",
    "for row in results:\n",
    "    print(row)\n",
    "    "
   ]
  },
  {
   "cell_type": "code",
   "execution_count": 93,
   "metadata": {},
   "outputs": [
    {
     "name": "stdout",
     "output_type": "stream",
     "text": [
      "True\n"
     ]
    }
   ],
   "source": [
    "\n",
    "cq8 = \"\"\"PREFIX whata:<https://raw.githubusercontent.com/Salvadana/whata_ontology/main/ontology/whataboutism_ontology.owl#> \n",
    "    PREFIX rdf: <http://www.w3.org/1999/02/22-rdf-syntax-ns#>\n",
    "    PREFIX per:<http://www.ontologydesignpatterns.org/ont/persp/perspectivisation.owl#>\n",
    "ASK\n",
    "WHERE {\n",
    "  ?s a whata:WhataboutistLens.\n",
    "  ?s whata:createsBlended ?o.\n",
    "}\n",
    "      \n",
    "\"\"\"\n",
    "results = g.query(cq8)\n",
    "\n",
    "for row in results:\n",
    "    print(row)\n",
    "    "
   ]
  },
  {
   "cell_type": "code",
   "execution_count": 100,
   "metadata": {},
   "outputs": [
    {
     "name": "stdout",
     "output_type": "stream",
     "text": [
      "False\n"
     ]
    }
   ],
   "source": [
    "\n",
    "#what does a blamable eventuality involve?\n",
    "cq9 = \"\"\"PREFIX whata:<https://raw.githubusercontent.com/Salvadana/whata_ontology/main/ontology/whataboutism_ontology.owl#> \n",
    "    PREFIX rdf: <http://www.w3.org/1999/02/22-rdf-syntax-ns#>\n",
    "    PREFIX rdfs: <http://www.w3.org/2000/01/rdf-schema#>\n",
    "    PREFIX per:<http://www.ontologydesignpatterns.org/ont/persp/perspectivisation.owl#>\n",
    "    PREFIX dns: <http://www.ontologydesignpatterns.org/cp/owl/description.owl#>\n",
    "ASK\n",
    "WHERE {\n",
    "  ?s rdfs:subClassOf per:Blendable.\n",
    "}\n",
    "      \n",
    "\"\"\"\n",
    "results = g.query(cq9)\n",
    "\n",
    "for row in results:\n",
    "    print(row)\n",
    "    "
   ]
  },
  {
   "cell_type": "code",
   "execution_count": 105,
   "metadata": {},
   "outputs": [
    {
     "name": "stdout",
     "output_type": "stream",
     "text": [
      "(rdflib.term.URIRef('https://raw.githubusercontent.com/Salvadana/whata_ontology/main/ontology/whataboutism_ontology.owl#BlamableEventuality'),)\n",
      "(rdflib.term.URIRef('http://www.ontologydesignpatterns.org/ont/persp/perspectivisation.owl#Blended'),)\n"
     ]
    }
   ],
   "source": [
    "cq10 = \"\"\"PREFIX whata:<https://raw.githubusercontent.com/Salvadana/whata_ontology/main/ontology/whataboutism_ontology.owl#> \n",
    "    PREFIX rdf: <http://www.w3.org/1999/02/22-rdf-syntax-ns#>\n",
    "    PREFIX per:<http://www.ontologydesignpatterns.org/ont/persp/perspectivisation.owl#>\n",
    "     PREFIX rdfs: <http://www.w3.org/2000/01/rdf-schema#>\n",
    "SELECT  distinct  ?class\n",
    "WHERE {\n",
    "  ?s rdf:type whata:WhataboutistLens.\n",
    "  ?s whata:createsBlended ?o.\n",
    "  ?o rdf:type ?type.\n",
    "  ?o rdfs:subClassOf ?class.\n",
    "\n",
    "}\n",
    "      \n",
    "\"\"\"\n",
    "results = g.query(cq10)\n",
    "\n",
    "for row in results:\n",
    "    print(row)\n",
    "    "
   ]
  },
  {
   "cell_type": "code",
   "execution_count": 119,
   "metadata": {},
   "outputs": [
    {
     "name": "stdout",
     "output_type": "stream",
     "text": [
      "False\n"
     ]
    }
   ],
   "source": [
    "cq11='''PREFIX whata: <https://raw.githubusercontent.com/Salvadana/whata_ontology/main/ontology/whataboutism_ontology.owl#>\n",
    "PREFIX owl: <http://www.w3.org/2002/07/owl#>\n",
    "PREFIX rdf: <http://www.w3.org/1999/02/22-rdf-syntax-ns#>\n",
    "PREFIX rdfs: <http://www.w3.org/2000/01/rdf-schema#>\n",
    "PREFIX per:<http://www.ontologydesignpatterns.org/ont/persp/perspectivisation.owl#>\n",
    "ask\n",
    "WHERE{ }  \n",
    "'''\n",
    "results = g.query(cq11)\n",
    "\n",
    "for row in results:\n",
    "    print(row)"
   ]
  },
  {
   "cell_type": "code",
   "execution_count": 131,
   "metadata": {},
   "outputs": [
    {
     "name": "stdout",
     "output_type": "stream",
     "text": [
      "(rdflib.term.URIRef('https://raw.githubusercontent.com/Salvadana/whata_ontology/main/ontology/whataboutism_ontology.owl#ConfirmationBiasLens'),)\n",
      "(rdflib.term.URIRef('https://raw.githubusercontent.com/Salvadana/whata_ontology/main/ontology/whataboutism_ontology.owl#RelevanceFallacyLens'),)\n"
     ]
    }
   ],
   "source": [
    "cq12_and_13='''PREFIX : <https://raw.githubusercontent.com/Salvadana/whata_ontology/main/ontology/whataboutism_ontology.owl#>\n",
    "PREFIX rdf: <http://www.w3.org/1999/02/22-rdf-syntax-ns#>\n",
    "\n",
    "select ?relatedLens\n",
    "WHERE {\n",
    "?l a whata:WhataboutistLens.\n",
    "  ?l :relatedToLens ?relatedLens .\n",
    "  \n",
    "}'''\n",
    "results = g.query(cq12_and_13)\n",
    "\n",
    "for row in results:\n",
    "    print(row)"
   ]
  }
 ],
 "metadata": {
  "kernelspec": {
   "display_name": "Python 3",
   "language": "python",
   "name": "python3"
  },
  "language_info": {
   "codemirror_mode": {
    "name": "ipython",
    "version": 3
   },
   "file_extension": ".py",
   "mimetype": "text/x-python",
   "name": "python",
   "nbconvert_exporter": "python",
   "pygments_lexer": "ipython3",
   "version": "3.10.0"
  }
 },
 "nbformat": 4,
 "nbformat_minor": 2
}
