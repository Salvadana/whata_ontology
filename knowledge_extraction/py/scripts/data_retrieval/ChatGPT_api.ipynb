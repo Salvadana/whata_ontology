{
 "cells": [
  {
   "cell_type": "markdown",
   "metadata": {},
   "source": [
    "## grep\n",
    "La plupart des commandes précédées optionnellement par un argument entier k. Par défaut entre crochets.\n",
    "L'étoile « * » indique que l'argument devient le nouveau défaut.\n"
   ]
  },
  {
   "cell_type": "code",
   "execution_count": 1,
   "metadata": {},
   "outputs": [
    {
     "name": "stdout",
     "output_type": "stream",
     "text": [
      "Note: you may need to restart the kernel to use updated packages.\n"
     ]
    },
    {
     "name": "stderr",
     "output_type": "stream",
     "text": [
      "WARNING: You are using pip version 21.3; however, version 23.3.1 is available.\n",
      "You should consider upgrading via the 'c:\\Program Files\\Python310\\python.exe -m pip install --upgrade pip' command.\n"
     ]
    }
   ],
   "source": [
    "%pip install -q openai"
   ]
  },
  {
   "cell_type": "code",
   "execution_count": 1,
   "metadata": {},
   "outputs": [
    {
     "name": "stderr",
     "output_type": "stream",
     "text": [
      "C:\\Users\\lored\\AppData\\Roaming\\Python\\Python310\\site-packages\\requests\\__init__.py:102: RequestsDependencyWarning: urllib3 (1.26.8) or chardet (5.2.0)/charset_normalizer (2.0.11) doesn't match a supported version!\n",
      "  warnings.warn(\"urllib3 ({}) or chardet ({})/charset_normalizer ({}) doesn't match a supported \"\n"
     ]
    }
   ],
   "source": [
    "import openai \n",
    "#removed key  \n",
    "openai.api_key = ''"
   ]
  },
  {
   "cell_type": "code",
   "execution_count": 2,
   "metadata": {},
   "outputs": [],
   "source": [
    "import os"
   ]
  },
  {
   "cell_type": "code",
   "execution_count": 3,
   "metadata": {},
   "outputs": [],
   "source": [
    "def get_completion(prompt, model=\"gpt-3.5-turbo\"):\n",
    "    messages = [{\"role\": \"user\", \"content\": prompt}]\n",
    "    response = openai.ChatCompletion.create(\n",
    "        model=model,\n",
    "        messages=messages,\n",
    "        temperature=1.25, # this is the degree of randomness of the model's output\n",
    "    )\n",
    "    return response.choices[0].message[\"content\"]"
   ]
  },
  {
   "cell_type": "code",
   "execution_count": 19,
   "metadata": {},
   "outputs": [
    {
     "name": "stdout",
     "output_type": "stream",
     "text": [
      "A whataboutist claim is a rhetorical strategy that deflects criticism or shifts focus away from one issue by bringing up other unrelated issues. It typically involves accusations of hypocrisy and is used to discredit or downplay an argument or accusation. Here's an example:\n",
      "\n",
      "Person A: \"The government should address the rising inequality and ensure fair distribution of wealth.\"\n",
      "Person B: \"But what about the unethical practices of corporations? They exploit cheap labor in developing countries, so is it fair to solely blame the government?\"\n",
      "\n",
      "In this example, Person B attempts to deflect attention from the government's responsibility towards the unethical practices of corporations. The intention is to muddy the conversation around income inequality and shift the blame onto another party.\n"
     ]
    }
   ],
   "source": [
    "#temperature=1.25\n",
    "prompt = \"\"\"write a whataboutist claim\"\"\"\n",
    "response = get_completion(prompt)\n",
    "print(response)"
   ]
  },
  {
   "cell_type": "markdown",
   "metadata": {},
   "source": [
    "Linguistic expressions: \n",
    "- 'but what about the',\n",
    "-  'is it fair to solely blame {} ?'"
   ]
  },
  {
   "cell_type": "code",
   "execution_count": 20,
   "metadata": {},
   "outputs": [
    {
     "name": "stdout",
     "output_type": "stream",
     "text": [
      "What about the fact that certain developing countries continue to emit high levels of greenhouse gases despite not being held to the same carbon reduction standards as developed nations? Shouldn't the focus be on ensuring equal responsibility and addressing this disparity before burdening the more restrained developed countries with additional climate change measures?\n"
     ]
    }
   ],
   "source": [
    "#temperature=1.25\n",
    "prompt = \"\"\"write a whataboutism about climate change\"\"\"\n",
    "response = get_completion(prompt)\n",
    "print(response)"
   ]
  },
  {
   "cell_type": "markdown",
   "metadata": {},
   "source": [
    "Linguistic expressions: \n",
    "- 'What about the fact that', \n",
    "- 'shouldn't the focus be on ...?'"
   ]
  },
  {
   "cell_type": "code",
   "execution_count": 17,
   "metadata": {},
   "outputs": [
    {
     "name": "stdout",
     "output_type": "stream",
     "text": [
      "What about the economic impact of reducing greenhouse emissions? We must consider the potential job losses and increased costs for businesses. Additionally, what about the fact that other countries, such as China and India, are major contributors to greenhouse emissions? Shouldn't they also be held accountable and take equal responsibility? It's unfair to burden our economy and industries while others continue to pollute. Furthermore, what about the effectiveness of the proposed solutions? Are we sure that reducing greenhouse emissions will actually have a significant impact on global climate change? There are many factors at play, and we should explore alternative approaches before hastily implementing measures that may not yield the desired results.\n"
     ]
    }
   ],
   "source": [
    "#temperature = 0\n",
    "prompt = \"\"\"write a whataboutist response to this statement: 'we must find a solution to reduce greenhouse emissions' \"\"\"\n",
    "response = get_completion(prompt)\n",
    "print(response)"
   ]
  },
  {
   "cell_type": "markdown",
   "metadata": {},
   "source": [
    "Linguistic expressions: \n",
    "- 'we must consider the {}', \n",
    "- 'Shouldn't they also... ?' , \n",
    "- 'it's unfair to burden {} while others ... ', \n",
    "- 'are we sure that {} will actually have a significant impact?', \n",
    "- 'there are many {} ... we should explore alternatives'"
   ]
  },
  {
   "cell_type": "code",
   "execution_count": 21,
   "metadata": {},
   "outputs": [
    {
     "name": "stdout",
     "output_type": "stream",
     "text": [
      "What about all the other pollution sources that also contribute to climate change? Why focus only on greenhouse emissions? There are industrial waste, deforestation, and various natural causes that also play a significant role. Shouldn't we find solutions to tackle them all instead of just targeting greenhouse emissions? Additionally, what about developing countries that are still in dire need of economic growth? Shouldn't their development be prioritized over reducing emissions? It's important to consider the broader picture before rushing to conclusions and enforcing actions that might impact multiple aspects of society.\n"
     ]
    }
   ],
   "source": [
    "#temperature = 1.25\n",
    "prompt = \"\"\"write a whataboutist response to this statement: 'we must find a solution to reduce greenhouse emissions' \"\"\"\n",
    "response = get_completion(prompt)\n",
    "print(response)"
   ]
  },
  {
   "cell_type": "markdown",
   "metadata": {},
   "source": [
    "Linguistic expressions:\n",
    "- all the others {} that also ...\n",
    "- why focus only on ... ?\n",
    "- there are {} that also play a significant role\n",
    "- shouldn't we {} instead of just targeting/ solely focusing on {}?\n",
    "- shouldn't {} be prioritized?\n"
   ]
  },
  {
   "cell_type": "code",
   "execution_count": 22,
   "metadata": {},
   "outputs": [
    {
     "name": "stdout",
     "output_type": "stream",
     "text": [
      "An example of a whataboutist claim that does not explicitly begin with 'what about' could be:\n",
      "\"To ensure accountability, it is essential to consider past incidents from all parties involved rather than singling out a specific incident for scrutiny.\"\n"
     ]
    }
   ],
   "source": [
    "#temperature = 0\n",
    "prompt = \"\"\"write a whataboutist claim that does not start with 'what about' \"\"\"\n",
    "response = get_completion(prompt)\n",
    "print(response)"
   ]
  },
  {
   "cell_type": "markdown",
   "metadata": {},
   "source": [
    "Linguistic expressions:\n",
    "- it is essential to consider {}\n",
    "    <br>+\n",
    "- rather than singling out {}"
   ]
  },
  {
   "cell_type": "code",
   "execution_count": 23,
   "metadata": {},
   "outputs": [
    {
     "name": "stdout",
     "output_type": "stream",
     "text": [
      "Whataboutism is a form of logical fallacy where somebody attempts to discredit an argument or deflect criticism by pointing out flaws in an opponent's reasoning or actions. It is a common manipulation technique employed in various discussions, often seen in politics or debates. While there can be numerous linguistic patterns used in whataboutist claims, some of the most frequently observed ones are:\n",
      "\n",
      "1. Shifting the focus: Whataboutists often deflect attention from the original topic and move it towards another unrelated issue. They might say, \"But what about when...\" or \"What about the time when...\"\n",
      "\n",
      "2. Comparative and relativistic statements: Whataboutism frequently highlights inconsistencies and contradictions between different situations or events, aiming to undermine the initial argument. Examples include statements like, \"Well, if we criticize this action, why didn't we criticize that similar action?\" or \"If they did it, what makes us any different?\"\n",
      "\n",
      "3. Downplaying or diminishing an argument: Whataboutists may attempt to minimize the impact or significance of the original claim by making statements such as, \"This is so minor compared to other major issues\" or \"Why are you wasting time on this when there are more critical problems?\"\n",
      "\n",
      "4. False equivalences: This pattern involves comparing two entirely different situations or events as if they are equal in nature, justifying one by the existence of the other. For instance, \"You're upset about this, but what about when they did something even worse?\"\n",
      "\n",
      "5. Changes in direction: Whataboutists often try to take control of the conversation by steering it towards a new direction altogether, possibly bringing up long-past or unrelated events.\n",
      "\n",
      "6. Rejection of valid criticism: Whataboutism may involve dismissing any critique of an action or behavior by deflecting it with questions like, \"Doesn't everyone do it too?\" or \"Why are you singling them out when others also behave exactly the same?\"\n",
      "\n",
      "These linguistic patterns exemplify some of the strategies frequently employed in whataboutist claims. It is important to identify these techniques to safeguard an objective and constructive discussion.\n"
     ]
    }
   ],
   "source": [
    "prompt = \"\"\"point out to some linguistic patterns used in whataboutist claims \"\"\"\n",
    "response = get_completion(prompt)\n",
    "print(response)"
   ]
  },
  {
   "cell_type": "markdown",
   "metadata": {},
   "source": [
    "- \"What about the time when...\"\n",
    "- \"Well, if we criticize this action, why didn't we criticize that similar action?\" / \"If they did it, what makes us any different?\"\n",
    "- \"This is so minor compared to other major issues\" / \"Why are you wasting time on this when there are more critical problems?\"\n",
    "- false equivalence\n",
    "- changing in direction\n",
    "- \"Doesn't everyone do it too?\" / \"Why are you singling them out when others also behave exactly the same?\""
   ]
  },
  {
   "cell_type": "code",
   "execution_count": 25,
   "metadata": {},
   "outputs": [
    {
     "name": "stdout",
     "output_type": "stream",
     "text": [
      "Whataboutism usually involves deflecting criticism or avoiding a direct response by shifting the focus to a different topic. Here are a few prompts that may elicit sentences containing linguistic patterns characterizing whataboutism:\n",
      "\n",
      "1. Could you provide an example of whataboutism in response to allegations of a politician's malpractice?\n",
      "2. How can you construct a sentence using whataboutism when someone accuses a country of human rights violations?\n",
      "3. In what context might you use a phrase that deflects concern or criticism by engaging in whataboutism?\n",
      "4. Could you create a sentence that demonstrates whataboutism when responding to ethical or moral questions?\n",
      "5. Can you describe a situation where whataboutism might be employed as a tactic or strategy during a debate or discussion?\n",
      "\n",
      "Note: Whataboutism is often considered a logical fallacy because it avoids addressing the original argument or accusation. While I can generate sentences that illustrate its linguistic patterns, it's important to approach the topic critically and make sure conversations focus on the right issues.\n"
     ]
    }
   ],
   "source": [
    "prompt = \"\"\"how can i prompt you to produce sentences containing useful linguistic patterns characterizing whataboutism?\"\"\"\n",
    "response = get_completion(prompt)\n",
    "print(response)"
   ]
  },
  {
   "cell_type": "code",
   "execution_count": 26,
   "metadata": {},
   "outputs": [
    {
     "name": "stdout",
     "output_type": "stream",
     "text": [
      "Certainly! Here's an example of whataboutism in response to allegations of a politician's malpractice:\n",
      "\n",
      "Allegation: \"There are serious accusations against Politician A regarding corruption and embezzlement of public funds.\"\n",
      "\n",
      "Whataboutism Response: \"What about Politician B from the other party? They were involved in a similar scandal last year. This is just a political smear campaign to divert attention from their wrongdoings. Let's not just focus on one individual; they are all corrupt.\"\n",
      "\n",
      "In this example, instead of addressing the specific malpractice allegations against Politician A, the response tries to deflect criticism by bringing up a separate case involving Politician B from a different party. The intention is to undermine the validity of the allegations against Politician A by pointing out examples of wrongdoing by others, creating a sense of equivalence and deflecting accountability and scrutiny. Whataboutism often seeks to redirect the conversation away from the original topic, thereby avoiding addressing the real issues at hand.\n"
     ]
    }
   ],
   "source": [
    "prompt = \"\"\"Could you provide an example of whataboutism in response to allegations of a politician's malpractice?\"\"\"\n",
    "response = get_completion(prompt)\n",
    "print(response)"
   ]
  },
  {
   "cell_type": "markdown",
   "metadata": {},
   "source": [
    "- let's not just focus on {}\n"
   ]
  },
  {
   "cell_type": "code",
   "execution_count": 27,
   "metadata": {},
   "outputs": [
    {
     "name": "stdout",
     "output_type": "stream",
     "text": [
      "\"Whataboutism aside, we cannot deny that there have been instances of human rights violations in this country, but it's important to critically examine human rights concerns across the globe rather than solely focusing on this particular issue.\"\n"
     ]
    }
   ],
   "source": [
    "prompt = \"\"\"How can you construct a sentence using whataboutism when someone accuses a country of human rights violations?\"\"\"\n",
    "response = get_completion(prompt)\n",
    "print(response)"
   ]
  },
  {
   "cell_type": "markdown",
   "metadata": {},
   "source": [
    "- but it's important to ... intead of solely focus on {}"
   ]
  },
  {
   "cell_type": "code",
   "execution_count": 28,
   "metadata": {},
   "outputs": [
    {
     "name": "stdout",
     "output_type": "stream",
     "text": [
      "A phrase that employs whataboutism could be used in various contexts, but most commonly it is utilized in debates, discussions, or arguments to deflect criticism or shift focus away from a particular issue. Here are a few examples where such phrases could be employed:\n",
      "\n",
      "1. Political debates: During a political discussion, a politician may use whataboutism to avoid addressing criticism by redirecting attention to an issue unrelated to the topic at hand. For instance, if accused of not taking appropriate action regarding a domestic policy, they might respond by diverting attention to another country, saying something like, \"But what about the human rights abuses that are happening elsewhere? There are bigger problems to tackle.\"\n",
      "\n",
      "2. Online discussions: On social media or online forums, whataboutism can often be observed as a way to evade criticism or defend certain actions. For example, if someone points out a flaw in a particular stance, the person at fault might respond with a phrase like, \"You're complaining about this issue, but what about all the other problems the world is facing? There are far more pressing matters to discuss.\"\n",
      "\n",
      "3. Personal disputes: People may employ whataboutism in their personal lives during disagreements to shift blame onto someone else or downplay their actions. For instance, if confronted about their irresponsible behavior, they may defend themselves by highlighting other instances where similar actions were taken by others. They might say, \"You're focusing on my mistakes, but what about all the times you've done the same?\"\n",
      "\n",
      "4. Avoiding accountability: In situations where someone is held accountable for their actions, whataboutism can be used to evade responsibility by highlighting the perceived wrongdoings of others. For instance, a student who is questioned for cheating on an exam might attempt to deflect the blame by pointing out that other students were cheating too. They could respond with, \"But what about those guys who were also cheating? Everyone was doing it!\"\n",
      "\n",
      "It is important to note that whataboutism is generally regarded as a fallacious debate tactic, as it deflects attention away from addressing the original concern or criticism.\n"
     ]
    }
   ],
   "source": [
    "prompt = \"\"\"In what context might you use a phrase that deflects concern or criticism by engaging in whataboutism?\"\"\"\n",
    "response = get_completion(prompt)\n",
    "print(response)"
   ]
  },
  {
   "cell_type": "markdown",
   "metadata": {},
   "source": [
    "- there are bigger problems to tackle / more pressinf matters to discuss\n",
    "- all the other problems\n",
    "- you've done the same / everyone has done the same"
   ]
  },
  {
   "cell_type": "code",
   "execution_count": 29,
   "metadata": {},
   "outputs": [
    {
     "name": "stdout",
     "output_type": "stream",
     "text": [
      "Sure, here's an example:\n",
      "\n",
      "Person A: \"Committing theft is morally wrong and should never be justified.\"\n",
      "Person B: \"But what about those wealthy embezzlers who go unpunished?\"\n",
      "\n",
      "In this example, Person B uses whataboutism by deflecting the moral question asked by Person A to raise a separate issue or situation.\n"
     ]
    }
   ],
   "source": [
    "prompt = \"\"\"Could you create a sentence that demonstrates whataboutism when responding to ethical or moral questions?\"\"\"\n",
    "response = get_completion(prompt)\n",
    "print(response)"
   ]
  },
  {
   "cell_type": "code",
   "execution_count": 30,
   "metadata": {},
   "outputs": [
    {
     "name": "stdout",
     "output_type": "stream",
     "text": [
      "Whataboutism is a fallacious argumentative tactic often employed in debates or discussions to deflect criticism by deflecting attention to a different topic or issue. Here's an example scenario where whataboutism might be used as a strategic tactic during a conversation or debate:\n",
      "\n",
      "Let's say two individuals are engaged in a discussion about social issues, specifically focusing on racial discrimination. Person A brings up a real-life incident involving racial profiling or discrimination faced by a minority group in a specific context and emphasizes the need to address this racial injustice.\n",
      "\n",
      "Person B, who wants to avoid the topic or shift focus away from the original issue, may employ whataboutism. They might respond by diverting attention to a different issue by saying, \"Yes, racial discrimination is an important issue, but what about violence committed by minority community members? Shouldn't we also address that?\"\n",
      "\n",
      "By bringing up a separate issue, Person B attempts to redirect the discussion away from the original topic of racial discrimination. They avoid directly addressing the issue raised by Person A and instead use whataboutism to put forward another argument or perspective. This tactic can be misleading and counterproductive since it avoids addressing the original issue at hand and deflects attention from seeking meaningful solutions or addressing the injustice being discussed.\n"
     ]
    }
   ],
   "source": [
    "prompt = \"\"\"Can you describe a situation where whataboutism might be employed as a tactic or strategy during a debate or discussion?\"\"\"\n",
    "response = get_completion(prompt)\n",
    "print(response)"
   ]
  },
  {
   "cell_type": "markdown",
   "metadata": {},
   "source": [
    "- shouldn't we also address that?\n",
    "- "
   ]
  },
  {
   "cell_type": "code",
   "execution_count": 7,
   "metadata": {},
   "outputs": [
    {
     "name": "stdout",
     "output_type": "stream",
     "text": [
      "Yes, global temperature may be rising, but what about natural climate cycles and variability? Throughout history, the Earth has experienced periods of warming and cooling without human intervention. It's unfair to solely blame human activity as the dominant cause of global temperature rise.\n",
      "\n",
      "Furthermore, what about the margin of error in measuring global temperatures? Climate models and data collection methods can be flawed, leading to questionable results. It's important to consider the uncertainties surrounding the measurements before jumping to conclusions.\n",
      "\n",
      "Additionally, what about other factors that contribute to climate change, such as solar activity? The sun's radiation, which influences temperature patterns on Earth, varies over time. It's simplistic to solely focus on human-induced warming while disregarding natural fluctuations.\n",
      "\n",
      "Moreover, what about the economic implications of addressing this issue? Implementing radical changes in our energy systems may cause severe economic disruption and job loss in some industries. We need a more balanced approach that carefully considers the costs and benefits of proposed solutions.\n",
      "\n",
      "Lastly, what about adopting adaptive measures rather than placing all our focus on mitigation? It might be more effective to invest in technologies that help communities adapt to a changing climate, emphasizing resilience rather than solely averting or reversing the warming trend.\n",
      "\n",
      "In summary, while we should certainly pay attention to global temperature changes, it is crucial to analyze this issue holistically, taking into account the natural climate cycles, measurement uncertainties, alternative factors, economic impact, and adaptive strategies. Shedding light on these factors is essential before rushing to implement immediate and potentially disruptive measures.\n"
     ]
    }
   ],
   "source": [
    "prompt = \"\"\"Write a whataboutist answer to the claim:global temperature is rising excessively and we need to address this problem\"\"\"\n",
    "response = get_completion(prompt)\n",
    "print(response)"
   ]
  },
  {
   "cell_type": "code",
   "execution_count": 8,
   "metadata": {},
   "outputs": [
    {
     "name": "stdout",
     "output_type": "stream",
     "text": [
      "While considering different perspectives of a situation, it is important to ponder the broader context and aspects that may influence the outcome.\n"
     ]
    }
   ],
   "source": [
    "\n",
    "prompt = \"\"\"write a whataboutist claim without using what about\"\"\"\n",
    "response = get_completion(prompt)\n",
    "print(response)"
   ]
  },
  {
   "cell_type": "code",
   "execution_count": 11,
   "metadata": {},
   "outputs": [
    {
     "name": "stdout",
     "output_type": "stream",
     "text": [
      "If students were allowed to bring outside food to school, then what about the potential increase in distractions and messiness in classrooms?\n"
     ]
    }
   ],
   "source": [
    "prompt = \"\"\"write a whataboutist claim using if...then\"\"\"\n",
    "response = get_completion(prompt)\n",
    "print(response)"
   ]
  },
  {
   "cell_type": "code",
   "execution_count": 12,
   "metadata": {},
   "outputs": [
    {
     "name": "stdout",
     "output_type": "stream",
     "text": [
      "If we only focus on addressing the societal concerns associated with video games, then we may overlook other potentially influential factors contributing to aggression, such as family environments, socioeconomic conditions, or mental health issues.\n"
     ]
    }
   ],
   "source": [
    "prompt = \"\"\"write a whataboutist claim using if...then and without using what about\"\"\"\n",
    "response = get_completion(prompt)\n",
    "print(response)"
   ]
  },
  {
   "cell_type": "markdown",
   "metadata": {},
   "source": [
    "- it's important to consider other ...\n",
    "- [...] deserves attention as well\n",
    "- rather than singularly focusing on ..."
   ]
  },
  {
   "cell_type": "code",
   "execution_count": 14,
   "metadata": {},
   "outputs": [
    {
     "name": "stdout",
     "output_type": "stream",
     "text": [
      "But have you considered the actions of others in similar circumstances?\n"
     ]
    }
   ],
   "source": [
    "prompt = \"\"\"write a whataboutist claim using 'but' and without 'what about' \"\"\"\n",
    "response = get_completion(prompt)\n",
    "print(response)"
   ]
  },
  {
   "cell_type": "markdown",
   "metadata": {},
   "source": [
    "- actions of others, similar circumstances"
   ]
  },
  {
   "cell_type": "code",
   "execution_count": 15,
   "metadata": {},
   "outputs": [
    {
     "name": "stdout",
     "output_type": "stream",
     "text": [
      "It is true that climate change is a major global issue, but what about the responsibility of large corporations and industrialized nations that contribute significantly more to greenhouse gas emissions compared to individual citizens?\n"
     ]
    }
   ],
   "source": [
    "prompt = \"\"\"write a whataboutist claim using 'it is true that.. but' \"\"\"\n",
    "response = get_completion(prompt)\n",
    "print(response)"
   ]
  },
  {
   "cell_type": "code",
   "execution_count": 16,
   "metadata": {},
   "outputs": [
    {
     "name": "stdout",
     "output_type": "stream",
     "text": [
      "1. \"Speaking of that, let's consider the issue from a different angle.\"\n",
      "2. \"Moreover, we should take into account another aspect of the situation.\"\n",
      "3. \"In addition to that, let's also explore this particular aspect further.\"\n",
      "4. \"Not to mention, we should also look at it from another perspective.\"\n",
      "5. \"Furthermore, let's shift our focus to a related facet of the topic.\"\n",
      "6. \"Apart from that, it's also worthwhile to consider this particular factor.\"\n",
      "7. \"Additionally, let's divert our attention to this crucial component.\"\n",
      "8. \"Moreover, let's delve into another area that links with our initial point.\"\n",
      "9. \"Furthermore, there's an interesting aspect that deserves our attention.\"\n",
      "10. \"Aside from that, it's essential to examine this crucial variable as well.\"\n"
     ]
    }
   ],
   "source": [
    "prompt = \"\"\"write some examples of focus shifting without using the expression 'what about' \"\"\"\n",
    "response = get_completion(prompt)\n",
    "print(response)"
   ]
  },
  {
   "cell_type": "markdown",
   "metadata": {},
   "source": [
    "- although/ Not to mention/ Moreover/ In addition to that/ aside from that / furthermore  + let's consider/we should take into account/let's also explore/it's also worthwile to consider"
   ]
  },
  {
   "cell_type": "code",
   "execution_count": 17,
   "metadata": {},
   "outputs": [
    {
     "name": "stdout",
     "output_type": "stream",
     "text": [
      "It's not enough to criticize one political figure for their actions; what about the countless other politicians who have engaged in similar behaviors?\n"
     ]
    }
   ],
   "source": [
    "prompt = \"\"\"write a whataboutist claim using 'it's not enough to' \"\"\"\n",
    "response = get_completion(prompt)\n",
    "print(response)"
   ]
  },
  {
   "cell_type": "code",
   "execution_count": 18,
   "metadata": {},
   "outputs": [
    {
     "name": "stdout",
     "output_type": "stream",
     "text": [
      "In response to discussing climate change and the dire consequences it poses, one could make a whataboutist claim using 'we should also focus on' in the following manner:\n",
      "\n",
      "\"While acknowledging the importance of addressing and mitigating climate change, we should also focus on the economic stability of developing nations. By solely concentrating on reducing carbon emissions, we may be inadvertently overlooking the pressing need for economic development and poverty reduction in many parts of the world. It is crucial that we find a balanced approach that addresses both climate change and socioeconomic disparities, as neglecting any aspect would ultimately hinder global progress.\"\n"
     ]
    }
   ],
   "source": [
    "prompt = \"\"\"write a whataboutist claim using 'we should also focus on' \"\"\"\n",
    "response = get_completion(prompt)\n",
    "print(response)"
   ]
  },
  {
   "cell_type": "markdown",
   "metadata": {},
   "source": [
    "- by solely concentrating on\n",
    "- "
   ]
  },
  {
   "cell_type": "code",
   "execution_count": 19,
   "metadata": {},
   "outputs": [
    {
     "name": "stdout",
     "output_type": "stream",
     "text": [
      "A possible whataboutist claim without using the phrase \"what about\" could be:\n",
      "\"Instead of solely focusing on this particular issue, shouldn't we also consider other relevant factors and discuss the broader context in order to truly understand the situation comprehensively?\"\n"
     ]
    }
   ],
   "source": [
    "prompt = \"\"\"write a whataboutist claim without using 'what about' \"\"\"\n",
    "response = get_completion(prompt)\n",
    "print(response)"
   ]
  },
  {
   "cell_type": "code",
   "execution_count": 20,
   "metadata": {},
   "outputs": [
    {
     "name": "stdout",
     "output_type": "stream",
     "text": [
      "If we're going to criticize my political candidate for accepting donations, shouldn't we also consider the other candidate's questionable business deals?\n"
     ]
    }
   ],
   "source": [
    "prompt = \"\"\"write a whataboutist claim starting with 'if' and without using 'what about' \"\"\"\n",
    "response = get_completion(prompt)\n",
    "print(response)"
   ]
  },
  {
   "cell_type": "markdown",
   "metadata": {},
   "source": [
    "- shouldn't we also consider"
   ]
  },
  {
   "cell_type": "code",
   "execution_count": 21,
   "metadata": {},
   "outputs": [
    {
     "name": "stdout",
     "output_type": "stream",
     "text": [
      "\"Their universities may be well-ranked globally, but what about ours? In comparing the educational systems, ours consist of renowned and reputable institutions that have elite faculties and provide outstanding resources, making them the preferred choice amongst students seeking top-notch education. While their universities may have a few highly regarded faculties, let us not forget the excellence and breadth of knowledge that our institutions offer, raising generations of brilliant minds.\"\n"
     ]
    }
   ],
   "source": [
    "prompt = \"\"\"write a whataboutist claim using a polar opposition like 'us' versus 'them' \"\"\"\n",
    "response = get_completion(prompt)\n",
    "print(response)"
   ]
  },
  {
   "cell_type": "code",
   "execution_count": 23,
   "metadata": {},
   "outputs": [
    {
     "name": "stdout",
     "output_type": "stream",
     "text": [
      "Although it is important to address our own flaws and shortcomings, it would be remiss to ignore the role \"they\" play in exacerbating the situation. Focusing solely on \"us\" without considering how \"they\" contribute to the issue at hand would be misleading and incomplete. It is crucial to analyze the full picture and recognize the interplay between both sides, as this will ultimately lead to a fair and comprehensive understanding of the topic.\n"
     ]
    }
   ],
   "source": [
    "prompt = \"\"\"write a whataboutist claim that shifts the focus of the discussion using a polar opposition like 'us' versus 'them' and without using 'what about' \"\"\"\n",
    "response = get_completion(prompt)\n",
    "print(response)"
   ]
  },
  {
   "cell_type": "markdown",
   "metadata": {},
   "source": [
    "- it would be remiss to ignore - it is essential/crucial to consider"
   ]
  },
  {
   "cell_type": "code",
   "execution_count": 5,
   "metadata": {},
   "outputs": [
    {
     "name": "stdout",
     "output_type": "stream",
     "text": [
      "A \"whataboutist\" claim refers to a particular type of argumentative strategy commonly encountered in discussions or debates. It involves redirecting or deflecting attention away from the topic at hand by raising a separate issue or criticizing the opposing side, often by asking \"What about...?\" questions. Recognizing a whataboutist claim typically involves observing certain qualities in the way it is presented. Here are a few linguistic aspects that distinguish a whataboutist claim from a mere use of \"what about\" that does not employ the whataboutist tactic:\n",
      "\n",
      "1. Avoiding the central issue: Whataboutist claims typically evade addressing the main topic or question under consideration and instead introduce a different issue. The diversionary nature of the response indicates an attempt to shift the focus elsewhere.\n",
      "\n",
      "2. Relativism or moral equivalency: Whataboutism often implies drawing an equivocation between the original topic and a separate issue, creating a false sense of parallelism or moral equivalence. This tactic seeks to suggest that both sides or situations are equal or comparable, thereby lessening the validity or severity of the original concern.\n",
      "\n",
      "3. Selective emphasis: Whataboutist claims typically utilize selective attention by exclusively highlighting a supposed past or present action of the opposing side or bringing up an unrelated issue, while downplaying or ignoring similar actions or concerns related to their own argument.\n",
      "\n",
      "4. Absence of genuine curiosity: While asking \"What about...?\" questions is a natural linguistic strategy for bringing attention to further considerations or contexts, whataboutism often lacks genuine curiosity or interest in exploring those avenues. Instead, it serves as a rhetorical device intended to dismiss or undermine the opponent's argument.\n",
      "\n",
      "5. Derailing logical progression: Instead of advancing the conversation or moving toward resolution, whataboutist claims can often disrupt the logical flow of the discussion by sidetracking it and changing the subject to unrelated matters or personal attacks.\n",
      "\n",
      "It's important to note that occasionally, the phrase \"What about...?\" might be used innocently and appropriately during a conversation without employing whataboutist tactics. Context, intent, and the overall reasoning employed usually help distinguish between using the phrase as a deliberate whataboutism tool and employing it for legitimate inquiry or exploration.\n"
     ]
    }
   ],
   "source": [
    "#temperature=1.25\n",
    "prompt = \"\"\"Linguistically, what distinguishes a whataboutist claim from another that just uses 'what about' without being whataboutist?\"\"\"\n",
    "response = get_completion(prompt)\n",
    "print(response)"
   ]
  },
  {
   "cell_type": "markdown",
   "metadata": {},
   "source": [
    "- selective attention - exclusively highlighting an action (similar but unrelated) while ignoring the one being discussed"
   ]
  },
  {
   "cell_type": "code",
   "execution_count": 6,
   "metadata": {},
   "outputs": [
    {
     "name": "stdout",
     "output_type": "stream",
     "text": [
      "1. I understand you have concerns about the economy, but what about human rights issues in other countries?\n",
      "2. Yes, there are problems within our educational system, but what about the corruption in politics?\n",
      "3. I hear your argument about climate change, but what about the economic implications of transitioning to renewable energy?\n",
      "4. I acknowledge your point about inequality, but what about personal responsibility and individual choices?\n",
      "5. It's true that there is violence in our society, but what about the impact of violent media on youth?\n",
      "6. While I agree that healthcare reforms are necessary, what about the cost burden it may place on taxpayers?\n",
      "7. I understand the need for stricter gun control, but what about focusing on mental health issues to address violence?\n",
      "8. Yes, there are restrictions on civil liberties, but what about the need for security and protection from terrorism?\n",
      "9. I see your concern about privacy issues, but what about the benefits of targeted advertising and personalized services?\n",
      "10. I appreciate your perspective on immigration, but what about the strain it can put on job markets and social services?\n"
     ]
    }
   ],
   "source": [
    "#temperature=1.25\n",
    "prompt = \"\"\"Can you write sentences that contain linguistic patterns allowing to classify them as whataboutist?\"\"\"\n",
    "response = get_completion(prompt)\n",
    "print(response)"
   ]
  },
  {
   "cell_type": "markdown",
   "metadata": {},
   "source": [
    "I see your point but ..."
   ]
  },
  {
   "cell_type": "code",
   "execution_count": 7,
   "metadata": {},
   "outputs": [
    {
     "name": "stdout",
     "output_type": "stream",
     "text": [
      "1. Instead of addressing the core issue, you're diverting the conversation by discussing a different topic altogether.\n",
      "2. Oh, so you're concerned about this one problem, but what about all the other similar problems out there?\n",
      "3. You're criticizing one political party's decision, but what about the other party's mistakes in the past?\n",
      "4. While we're discussing racial inequality, what about discrimination happening in other parts of the world?\n",
      "5. I understand your concern about environmental pollution, but what about the countless other factors contributing to global warming?\n",
      "6. Rather than addressing the issue at hand, you're pointing fingers at unrelated individuals.\n",
      "7. Before we engage in a productive conversation, we need to explore the broader context of similar incidents.\n",
      "8. The problem we're discussing is trivial compared to the bigger issues in society; what about poverty and hunger?\n",
      "9. While we're talking about immigration policies, shouldn't we also address the economic consequences of this decision?\n",
      "10. You're bringing up a single incident, but what about the long history of similar incidents that were overlooked?\n"
     ]
    }
   ],
   "source": [
    "#temperature=1.25\n",
    "prompt = \"\"\"Can you write sentences that contain linguistic patterns (different from 'what about') allowing to classify them as whataboutist?\"\"\"\n",
    "response = get_completion(prompt)\n",
    "print(response)"
   ]
  },
  {
   "cell_type": "markdown",
   "metadata": {},
   "source": [
    "- rather than\n",
    "- we should also address/ shouldn't we\n",
    "- "
   ]
  },
  {
   "cell_type": "code",
   "execution_count": 8,
   "metadata": {},
   "outputs": [
    {
     "name": "stdout",
     "output_type": "stream",
     "text": [
      "While \"what about\" is commonly associated with whataboutism, there are several other linguistic expressions that can be used to illustrate this phenomenon. Some of these expressions include:\n",
      "\n",
      "1. \"But what about...\"\n",
      "2. \"What if...\"\n",
      "3. \"What regarding...\"\n",
      "4. \"And what of...\"\n",
      "5. \"Why don't you talk about...\"\n",
      "6. \"Instead of criticizing X, why don't you look at...\"\n",
      "7. \"And what is being done about...\"\n",
      "8. \"Can we ignore the fact that...\"\n",
      "9. \"How about...\"\n",
      "10. \"Let's not forget about...\"\n",
      "\n",
      "These expressions are often followed by shifting the focus of the discussion or diverting attention towards undesirable actions of someone else or another group, in an attempt to deflect criticism or defend one's own actions. It is important to note that whataboutism is a logical fallacy as it attempts to distract from the original issue at hand.\n"
     ]
    }
   ],
   "source": [
    "prompt = \"\"\"Which linguistic expressions different from 'what about' characterize whataboutism?\"\"\"\n",
    "response = get_completion(prompt)\n",
    "print(response)"
   ]
  },
  {
   "cell_type": "markdown",
   "metadata": {},
   "source": [
    "# ChatGpt used for classifying texts"
   ]
  },
  {
   "cell_type": "code",
   "execution_count": 4,
   "metadata": {},
   "outputs": [
    {
     "name": "stdout",
     "output_type": "stream",
     "text": [
      "No, the given text does not exhibit any elements of whataboutism. It simply describes the choices and journey of a character named Elcon.\n"
     ]
    }
   ],
   "source": [
    "#temperature=1.25\n",
    "prompt = \"\"\"Can you tell me if the following text is whataboutist? Elcon’s choices lead him into the Vale of Shadows, where he learns that to deliver his people, he must find redemption himself.\"\"\"\n",
    "response = get_completion(prompt)  #no\n",
    "print(response)"
   ]
  },
  {
   "cell_type": "code",
   "execution_count": 5,
   "metadata": {},
   "outputs": [
    {
     "name": "stdout",
     "output_type": "stream",
     "text": [
      "The mentioned text can be considered as whataboutist to some extent. While acknowledging that the actions of Al Franken may be appalling, it immediately deflects attention by claiming that there are far worse offenders in Washington. The use of \"whataboutism\" is generally seen as a technique to divert criticism by shifting the focus to other individuals or issues.\n"
     ]
    }
   ],
   "source": [
    "#temperature=1.25\n",
    "prompt = \"\"\"Can you tell me if the following text is whataboutist? As much as we may be appalled by some of the things that Al Franken has done, the truth is that there are far worse offenders in Washington. \"\"\"\n",
    "response = get_completion(prompt) #yes\n",
    "print(response)"
   ]
  },
  {
   "cell_type": "code",
   "execution_count": 6,
   "metadata": {},
   "outputs": [
    {
     "name": "stdout",
     "output_type": "stream",
     "text": [
      "No, the following text, \"it is true but not all mens are the same,\" is not an example of whataboutism. It is simply stating that while something may be true, it does not apply to all men.\n"
     ]
    }
   ],
   "source": [
    "#temperature=1.25\n",
    "prompt = \"\"\"Can you tell me if the following text is whataboutist? 'it is true but not all mens are the same.'\"\"\"  #yes\n",
    "response = get_completion(prompt) \n",
    "print(response)"
   ]
  },
  {
   "cell_type": "code",
   "execution_count": 7,
   "metadata": {},
   "outputs": [
    {
     "name": "stdout",
     "output_type": "stream",
     "text": [
      "The given text does not explicitly display any whataboutism. Whataboutism is a rhetorical technique in which a person avoids addressing an issue by changing the subject and pointing out a different issue. However, the text does seemingly engage in potentially relevant arguments about licensing and qualifications of the individual in question.\n"
     ]
    }
   ],
   "source": [
    "#temperature=1.25\n",
    "prompt = \"\"\"Can you tell me if the following text is whataboutist? 'Järlström had no right to criticize the length of yellow lights and talk about his ideas with ‘members of the public’ because he’s not an Oregon-licensed engineer.'\"\"\"\n",
    "response = get_completion(prompt)    #yes\n",
    "print(response)"
   ]
  },
  {
   "cell_type": "code",
   "execution_count": 8,
   "metadata": {},
   "outputs": [
    {
     "name": "stdout",
     "output_type": "stream",
     "text": [
      "Yes, the text can be considered whataboutist. Whataboutism is often characterized by deflecting or distracting from a specific issue or criticism by shifting the focus elsewhere. In this case, the speaker deflects from talking about enemy forces dying per day by bringing up unrelated topics, such as deaths on U.S roadways and daily deaths in Africa.\n"
     ]
    }
   ],
   "source": [
    "#temperature=1.25\n",
    "prompt = \"\"\"Can you tell me if the following text is whataboutist? 'thanks for that update. How about telling us how many enemy forces are dying per day? While we are on the subject of dying per day, why don't we talk about how many people die on U.S roadways every day. Daily deaths in Africa is a good one too.'\"\"\"\n",
    "response = get_completion(prompt) #yes\n",
    "print(response)"
   ]
  },
  {
   "cell_type": "code",
   "execution_count": 9,
   "metadata": {},
   "outputs": [
    {
     "name": "stdout",
     "output_type": "stream",
     "text": [
      "As an AI language model, I can analyze the text and provide an analysis for you. The text provided includes elements of whataboutism. Whataboutism is a rhetorical technique where points or criticism made by someone are dismissed or undermined by redirecting the focus to something else. In this case, the person is ranting and expressing concerns about global warming and excessive driving. However, they are criticized for simultaneously complaining about expensive gas, which can cause people to drive less. This diverts attention from the original concerns raised about global warming and shifts the blame to the cost of gas instead.\n"
     ]
    }
   ],
   "source": [
    "#temperature=1.25\n",
    "prompt = \"\"\"Can you tell me if the following text is whataboutist? 'You rant about \"global warming\" and bitch that people drive too much, then complain about expensive gas which is causing people to drive less.'\"\"\"\n",
    "response = get_completion(prompt) #yes\n",
    "print(response)"
   ]
  }
 ],
 "metadata": {
  "kernelspec": {
   "display_name": "Python 3",
   "language": "python",
   "name": "python3"
  },
  "language_info": {
   "codemirror_mode": {
    "name": "ipython",
    "version": 3
   },
   "file_extension": ".py",
   "mimetype": "text/x-python",
   "name": "python",
   "nbconvert_exporter": "python",
   "pygments_lexer": "ipython3",
   "version": "3.10.0"
  }
 },
 "nbformat": 4,
 "nbformat_minor": 2
}
