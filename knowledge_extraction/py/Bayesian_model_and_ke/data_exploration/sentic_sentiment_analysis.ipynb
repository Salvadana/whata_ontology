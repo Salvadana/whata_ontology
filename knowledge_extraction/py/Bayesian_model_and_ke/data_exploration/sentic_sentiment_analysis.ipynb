{
  "cells": [
    {
      "cell_type": "code",
      "execution_count": null,
      "metadata": {
        "id": "Ok8PbcQ3v12R"
      },
      "outputs": [],
      "source": [
        "# Topic model"
      ]
    },
    {
      "cell_type": "markdown",
      "metadata": {
        "id": "-_dyEZYsf6CG"
      },
      "source": [
        "# Sentiment Analysis"
      ]
    },
    {
      "cell_type": "code",
      "execution_count": 5,
      "metadata": {
        "colab": {
          "base_uri": "https://localhost:8080/"
        },
        "id": "a5_OhQ4NqJtS",
        "outputId": "d30dc7e1-1dfa-4289-8bca-a2d6cb7ae34a"
      },
      "outputs": [
        {
          "name": "stderr",
          "output_type": "stream",
          "text": [
            "[nltk_data] Downloading package punkt to /root/nltk_data...\n",
            "[nltk_data]   Package punkt is already up-to-date!\n"
          ]
        },
        {
          "data": {
            "text/plain": [
              "True"
            ]
          },
          "execution_count": 5,
          "metadata": {},
          "output_type": "execute_result"
        }
      ],
      "source": [
        "import nltk\n",
        "nltk.download('punkt')"
      ]
    },
    {
      "cell_type": "markdown",
      "metadata": {
        "id": "hYUe-h_xkG1a"
      },
      "source": [
        "# senticnet\n"
      ]
    },
    {
      "cell_type": "code",
      "execution_count": null,
      "metadata": {
        "colab": {
          "base_uri": "https://localhost:8080/"
        },
        "id": "FZdFyBuEkKFi",
        "outputId": "01a1ea8c-f39d-4b91-d52f-77b2ceeffe60"
      },
      "outputs": [
        {
          "name": "stdout",
          "output_type": "stream",
          "text": [
            "Collecting senticnet\n",
            "  Downloading senticnet-1.6-py3-none-any.whl (51.9 MB)\n",
            "\u001b[2K     \u001b[90m━━━━━━━━━━━━━━━━━━━━━━━━━━━━━━━━━━━━━━━━\u001b[0m \u001b[32m51.9/51.9 MB\u001b[0m \u001b[31m10.3 MB/s\u001b[0m eta \u001b[36m0:00:00\u001b[0m\n",
            "\u001b[?25hInstalling collected packages: senticnet\n",
            "Successfully installed senticnet-1.6\n"
          ]
        }
      ],
      "source": [
        "%pip install senticnet"
      ]
    },
    {
      "cell_type": "code",
      "execution_count": null,
      "metadata": {
        "id": "263YhFm6kd3p"
      },
      "outputs": [],
      "source": [
        "from senticnet.senticnet import SenticNet\n",
        "\n",
        "sn = SenticNet()\n",
        "concept_info = sn.concept('love')\n",
        "polarity_label = sn.polarity_label('love')\n",
        "polarity_value = sn.polarity_value('love')\n",
        "moodtags = sn.moodtags('love')\n",
        "semantics = sn.semantics('love')\n",
        "sentics = sn.sentics('love')"
      ]
    },
    {
      "cell_type": "code",
      "execution_count": null,
      "metadata": {
        "colab": {
          "base_uri": "https://localhost:8080/",
          "height": 36
        },
        "id": "Bsmf43bpl2CY",
        "outputId": "2db064ab-5df9-4fb1-b21e-baf70d29f3d9"
      },
      "outputs": [
        {
          "data": {
            "application/vnd.google.colaboratory.intrinsic+json": {
              "type": "string"
            },
            "text/plain": [
              "'positive'"
            ]
          },
          "execution_count": 8,
          "metadata": {},
          "output_type": "execute_result"
        }
      ],
      "source": [
        "polarity_label"
      ]
    },
    {
      "cell_type": "markdown",
      "metadata": {
        "id": "740mdz_cmYF-"
      },
      "source": [
        "##per analizzare frasi/ gruppi di parole:\n",
        "https://github.com/daliu/sentic  -> python Interface for Semantic and Sentiment Analysis using Senticnet4 (http://sentic.net/)."
      ]
    },
    {
      "cell_type": "code",
      "execution_count": 6,
      "metadata": {
        "colab": {
          "base_uri": "https://localhost:8080/"
        },
        "id": "RGyDcdZQr1b4",
        "outputId": "9f3229f4-6af6-4aa2-99a3-6c82329b58f3"
      },
      "outputs": [
        {
          "name": "stdout",
          "output_type": "stream",
          "text": [
            "Requirement already satisfied: sentic in /usr/local/lib/python3.10/dist-packages (0.0.8)\n"
          ]
        }
      ],
      "source": [
        "%pip install sentic"
      ]
    },
    {
      "cell_type": "markdown",
      "metadata": {
        "id": "WvnmLyuAf093"
      },
      "source": [
        "Using - running github example"
      ]
    },
    {
      "cell_type": "code",
      "execution_count": 5,
      "metadata": {
        "colab": {
          "base_uri": "https://localhost:8080/"
        },
        "id": "bOukDUP6r9vp",
        "outputId": "340f3f67-e699-4752-efdf-1fe52368f0f2"
      },
      "outputs": [
        {
          "name": "stdout",
          "output_type": "stream",
          "text": [
            "Collecting sentic\n",
            "  Downloading sentic-0.0.8.tar.gz (50.5 MB)\n",
            "\u001b[2K     \u001b[90m━━━━━━━━━━━━━━━━━━━━━━━━━━━━━━━━━━━━━━━━\u001b[0m \u001b[32m50.5/50.5 MB\u001b[0m \u001b[31m6.5 MB/s\u001b[0m eta \u001b[36m0:00:00\u001b[0m\n",
            "\u001b[?25h  Preparing metadata (setup.py) ... \u001b[?25l\u001b[?25hdone\n",
            "Building wheels for collected packages: sentic\n",
            "  Building wheel for sentic (setup.py) ... \u001b[?25l\u001b[?25hdone\n",
            "  Created wheel for sentic: filename=sentic-0.0.8-py3-none-any.whl size=52041378 sha256=2b4bae6c324a448c6908dda986cfb4414d629c5d8121cea53eca087a64b4ab96\n",
            "  Stored in directory: /root/.cache/pip/wheels/39/bf/a4/cf9875a8fbdb45d29a7702d29cb85afd8a82b5b9e6e5a29e6c\n",
            "Successfully built sentic\n",
            "Installing collected packages: sentic\n",
            "Successfully installed sentic-0.0.8\n"
          ]
        },
        {
          "data": {
            "text/plain": [
              "{'sentics': {'pleasantness': 0.47050000000000003,\n",
              "  'attention': 0.3695,\n",
              "  'sensitivity': 0.0115,\n",
              "  'aptitude': 0.062},\n",
              " 'moodtags': {'#joy': 2, '#interest': 1, '#admiration': 1},\n",
              " 'sentiment': 'weak positive',\n",
              " 'polarity': 0.29700000000000004,\n",
              " 'semantics': {'animal_furry',\n",
              "  'career',\n",
              "  'domestic_pet',\n",
              "  'employment',\n",
              "  'furry',\n",
              "  'hairy',\n",
              "  'labor',\n",
              "  'nocturnal',\n",
              "  'police_work',\n",
              "  'task'}}"
            ]
          },
          "execution_count": 5,
          "metadata": {},
          "output_type": "execute_result"
        }
      ],
      "source": [
        "%pip install sentic\n",
        "from sentic import SenticPhrase\n",
        "text = \"Shirley is such a cute girl.\"\n",
        "sp = SenticPhrase(text)\n",
        "sp.info(text)"
      ]
    },
    {
      "cell_type": "code",
      "execution_count": null,
      "metadata": {
        "colab": {
          "base_uri": "https://localhost:8080/"
        },
        "id": "fUmEfgSCtyR3",
        "outputId": "1f1ff7c2-17c7-45ee-aed8-70374dd8daa3"
      },
      "outputs": [
        {
          "data": {
            "text/plain": [
              "{'#joy': 1,\n",
              " '#surprise': 1,\n",
              " '#disgust': 4,\n",
              " '#sadness': 1,\n",
              " '#anger': 2,\n",
              " '#interest': 4,\n",
              " '#admiration': 2,\n",
              " '#fear': 1}"
            ]
          },
          "execution_count": 2,
          "metadata": {},
          "output_type": "execute_result"
        }
      ],
      "source": [
        "text = \"The West has no right to criticize our record on human rights, look at US actions in Central America, the history of slavery and of lynchings, not to mention apartheid in South Africa…. \"\n",
        "sp = SenticPhrase(text)\n",
        "sp.get_moodtags(text)"
      ]
    },
    {
      "cell_type": "code",
      "execution_count": null,
      "metadata": {
        "colab": {
          "base_uri": "https://localhost:8080/"
        },
        "id": "Q96c0pxm5lJa",
        "outputId": "9eaf866b-fd9a-4f9e-8577-0893638b2358"
      },
      "outputs": [
        {
          "data": {
            "text/plain": [
              "{'#joy': 3, '#interest': 1, '#admiration': 2, '#anger': 1, '#disgust': 3}"
            ]
          },
          "execution_count": 3,
          "metadata": {},
          "output_type": "execute_result"
        }
      ],
      "source": [
        "text='The West’s crimes mean it does not have the moral standing to criticize the Soviet Union.'\n",
        "sp = SenticPhrase(text)\n",
        "sp.get_moodtags(text)"
      ]
    },
    {
      "cell_type": "code",
      "execution_count": null,
      "metadata": {
        "colab": {
          "base_uri": "https://localhost:8080/"
        },
        "id": "WmcSHKu-uFg2",
        "outputId": "b273d194-b31f-44b3-f46d-a3f2d0dcad6c"
      },
      "outputs": [
        {
          "name": "stdout",
          "output_type": "stream",
          "text": [
            "                                                  Line  Polarity  \\\n",
            "0    Urgent action to prevent a pandemic is of cour... -0.086167   \n",
            "1    Dad: Billy, when did you last tidy your room? ...  0.047706   \n",
            "2    The West has no right to criticize our record ... -0.045125   \n",
            "3                        but what about the economy?\\n  0.000000   \n",
            "4    So President Trump wants to ban certain flavou... -0.132500   \n",
            "..                                                 ...       ...   \n",
            "505  He is just looking for attention and doesn’t w...  0.216444   \n",
            "506  If you want to see doctoring, go to 0:58 of th...  0.195000   \n",
            "507  U.S. District Court Judge Timothy Kelly, a Tru...  0.452667   \n",
            "508  She went on to write that she thinks the incor...  0.331900   \n",
            "509  But, she said, a bigger problem is the fact th... -0.292333   \n",
            "\n",
            "                 Sentiment  \n",
            "0              [#interest]  \n",
            "1            [#admiration]  \n",
            "2    [#disgust, #interest]  \n",
            "3                       []  \n",
            "4            [#admiration]  \n",
            "..                     ...  \n",
            "505            [#interest]  \n",
            "506          [#admiration]  \n",
            "507      [#joy, #interest]  \n",
            "508                 [#joy]  \n",
            "509     [#anger, #disgust]  \n",
            "\n",
            "[510 rows x 3 columns]\n"
          ]
        }
      ],
      "source": [
        "import pandas as pd\n",
        "\n",
        "\n",
        "# Assuming you have a DataFrame\n",
        "df = pd.DataFrame(columns=['Line', 'Polarity', 'Sentiment'])\n",
        "\n",
        "with open('result_whatabout.txt', 'r', encoding='utf-8') as f:\n",
        "    data = []\n",
        "    for line in f:\n",
        "      if line.strip():\n",
        "        # Perform sentiment analysis\n",
        "          polarity = sp.get_polarity(line)\n",
        "          sent=dict()\n",
        "          att=sp.get_moodtags(line)\n",
        "          sent.update(att)\n",
        "          # Find the key with the maximum value\n",
        "          max_value = max(list(sent.values()), default=0)\n",
        "          keys_with_max_value = [k for k, v in sent.items() if v == max_value]\n",
        "\n",
        "        # Append the line and polarity to the data list\n",
        "          data.append({'Line': line, 'Polarity': polarity, 'Sentiment':keys_with_max_value})\n",
        "\n",
        "# Create a new DataFrame by concatenating the data list\n",
        "df = pd.concat([df, pd.DataFrame(data)], ignore_index=True)\n",
        "\n",
        "# Print the DataFrame\n",
        "print(df)\n",
        "\n"
      ]
    },
    {
      "cell_type": "code",
      "execution_count": null,
      "metadata": {
        "colab": {
          "base_uri": "https://localhost:8080/"
        },
        "id": "uSyTm6hVLWMf",
        "outputId": "b367c2fd-949c-437b-f333-5e420dc5a03e"
      },
      "outputs": [
        {
          "name": "stdout",
          "output_type": "stream",
          "text": [
            "<class 'pandas.core.frame.DataFrame'>\n",
            "RangeIndex: 510 entries, 0 to 509\n",
            "Data columns (total 3 columns):\n",
            " #   Column     Non-Null Count  Dtype  \n",
            "---  ------     --------------  -----  \n",
            " 0   Line       510 non-null    object \n",
            " 1   Polarity   510 non-null    float64\n",
            " 2   Sentiment  510 non-null    object \n",
            "dtypes: float64(1), object(2)\n",
            "memory usage: 12.1+ KB\n"
          ]
        }
      ],
      "source": [
        "df.info()"
      ]
    },
    {
      "cell_type": "code",
      "execution_count": null,
      "metadata": {
        "colab": {
          "base_uri": "https://localhost:8080/",
          "height": 300
        },
        "id": "5IJX6vXhvUpv",
        "outputId": "70bb2c56-209b-4e9e-bbf5-52522bcc9ebe"
      },
      "outputs": [
        {
          "data": {
            "text/html": [
              "\n",
              "  <div id=\"df-ab9c6e38-50ab-4f9c-80e6-5955bb616269\" class=\"colab-df-container\">\n",
              "    <div>\n",
              "<style scoped>\n",
              "    .dataframe tbody tr th:only-of-type {\n",
              "        vertical-align: middle;\n",
              "    }\n",
              "\n",
              "    .dataframe tbody tr th {\n",
              "        vertical-align: top;\n",
              "    }\n",
              "\n",
              "    .dataframe thead th {\n",
              "        text-align: right;\n",
              "    }\n",
              "</style>\n",
              "<table border=\"1\" class=\"dataframe\">\n",
              "  <thead>\n",
              "    <tr style=\"text-align: right;\">\n",
              "      <th></th>\n",
              "      <th>Polarity</th>\n",
              "    </tr>\n",
              "  </thead>\n",
              "  <tbody>\n",
              "    <tr>\n",
              "      <th>count</th>\n",
              "      <td>510.000000</td>\n",
              "    </tr>\n",
              "    <tr>\n",
              "      <th>mean</th>\n",
              "      <td>0.078775</td>\n",
              "    </tr>\n",
              "    <tr>\n",
              "      <th>std</th>\n",
              "      <td>0.268696</td>\n",
              "    </tr>\n",
              "    <tr>\n",
              "      <th>min</th>\n",
              "      <td>-0.910000</td>\n",
              "    </tr>\n",
              "    <tr>\n",
              "      <th>25%</th>\n",
              "      <td>-0.045931</td>\n",
              "    </tr>\n",
              "    <tr>\n",
              "      <th>50%</th>\n",
              "      <td>0.078214</td>\n",
              "    </tr>\n",
              "    <tr>\n",
              "      <th>75%</th>\n",
              "      <td>0.253583</td>\n",
              "    </tr>\n",
              "    <tr>\n",
              "      <th>max</th>\n",
              "      <td>0.943000</td>\n",
              "    </tr>\n",
              "  </tbody>\n",
              "</table>\n",
              "</div>\n",
              "    <div class=\"colab-df-buttons\">\n",
              "\n",
              "  <div class=\"colab-df-container\">\n",
              "    <button class=\"colab-df-convert\" onclick=\"convertToInteractive('df-ab9c6e38-50ab-4f9c-80e6-5955bb616269')\"\n",
              "            title=\"Convert this dataframe to an interactive table.\"\n",
              "            style=\"display:none;\">\n",
              "\n",
              "  <svg xmlns=\"http://www.w3.org/2000/svg\" height=\"24px\" viewBox=\"0 -960 960 960\">\n",
              "    <path d=\"M120-120v-720h720v720H120Zm60-500h600v-160H180v160Zm220 220h160v-160H400v160Zm0 220h160v-160H400v160ZM180-400h160v-160H180v160Zm440 0h160v-160H620v160ZM180-180h160v-160H180v160Zm440 0h160v-160H620v160Z\"/>\n",
              "  </svg>\n",
              "    </button>\n",
              "\n",
              "  <style>\n",
              "    .colab-df-container {\n",
              "      display:flex;\n",
              "      gap: 12px;\n",
              "    }\n",
              "\n",
              "    .colab-df-convert {\n",
              "      background-color: #E8F0FE;\n",
              "      border: none;\n",
              "      border-radius: 50%;\n",
              "      cursor: pointer;\n",
              "      display: none;\n",
              "      fill: #1967D2;\n",
              "      height: 32px;\n",
              "      padding: 0 0 0 0;\n",
              "      width: 32px;\n",
              "    }\n",
              "\n",
              "    .colab-df-convert:hover {\n",
              "      background-color: #E2EBFA;\n",
              "      box-shadow: 0px 1px 2px rgba(60, 64, 67, 0.3), 0px 1px 3px 1px rgba(60, 64, 67, 0.15);\n",
              "      fill: #174EA6;\n",
              "    }\n",
              "\n",
              "    .colab-df-buttons div {\n",
              "      margin-bottom: 4px;\n",
              "    }\n",
              "\n",
              "    [theme=dark] .colab-df-convert {\n",
              "      background-color: #3B4455;\n",
              "      fill: #D2E3FC;\n",
              "    }\n",
              "\n",
              "    [theme=dark] .colab-df-convert:hover {\n",
              "      background-color: #434B5C;\n",
              "      box-shadow: 0px 1px 3px 1px rgba(0, 0, 0, 0.15);\n",
              "      filter: drop-shadow(0px 1px 2px rgba(0, 0, 0, 0.3));\n",
              "      fill: #FFFFFF;\n",
              "    }\n",
              "  </style>\n",
              "\n",
              "    <script>\n",
              "      const buttonEl =\n",
              "        document.querySelector('#df-ab9c6e38-50ab-4f9c-80e6-5955bb616269 button.colab-df-convert');\n",
              "      buttonEl.style.display =\n",
              "        google.colab.kernel.accessAllowed ? 'block' : 'none';\n",
              "\n",
              "      async function convertToInteractive(key) {\n",
              "        const element = document.querySelector('#df-ab9c6e38-50ab-4f9c-80e6-5955bb616269');\n",
              "        const dataTable =\n",
              "          await google.colab.kernel.invokeFunction('convertToInteractive',\n",
              "                                                    [key], {});\n",
              "        if (!dataTable) return;\n",
              "\n",
              "        const docLinkHtml = 'Like what you see? Visit the ' +\n",
              "          '<a target=\"_blank\" href=https://colab.research.google.com/notebooks/data_table.ipynb>data table notebook</a>'\n",
              "          + ' to learn more about interactive tables.';\n",
              "        element.innerHTML = '';\n",
              "        dataTable['output_type'] = 'display_data';\n",
              "        await google.colab.output.renderOutput(dataTable, element);\n",
              "        const docLink = document.createElement('div');\n",
              "        docLink.innerHTML = docLinkHtml;\n",
              "        element.appendChild(docLink);\n",
              "      }\n",
              "    </script>\n",
              "  </div>\n",
              "\n",
              "\n",
              "<div id=\"df-2e43b589-6a2b-4eb3-9554-008f2d8322d3\">\n",
              "  <button class=\"colab-df-quickchart\" onclick=\"quickchart('df-2e43b589-6a2b-4eb3-9554-008f2d8322d3')\"\n",
              "            title=\"Suggest charts\"\n",
              "            style=\"display:none;\">\n",
              "\n",
              "<svg xmlns=\"http://www.w3.org/2000/svg\" height=\"24px\"viewBox=\"0 0 24 24\"\n",
              "     width=\"24px\">\n",
              "    <g>\n",
              "        <path d=\"M19 3H5c-1.1 0-2 .9-2 2v14c0 1.1.9 2 2 2h14c1.1 0 2-.9 2-2V5c0-1.1-.9-2-2-2zM9 17H7v-7h2v7zm4 0h-2V7h2v10zm4 0h-2v-4h2v4z\"/>\n",
              "    </g>\n",
              "</svg>\n",
              "  </button>\n",
              "\n",
              "<style>\n",
              "  .colab-df-quickchart {\n",
              "      --bg-color: #E8F0FE;\n",
              "      --fill-color: #1967D2;\n",
              "      --hover-bg-color: #E2EBFA;\n",
              "      --hover-fill-color: #174EA6;\n",
              "      --disabled-fill-color: #AAA;\n",
              "      --disabled-bg-color: #DDD;\n",
              "  }\n",
              "\n",
              "  [theme=dark] .colab-df-quickchart {\n",
              "      --bg-color: #3B4455;\n",
              "      --fill-color: #D2E3FC;\n",
              "      --hover-bg-color: #434B5C;\n",
              "      --hover-fill-color: #FFFFFF;\n",
              "      --disabled-bg-color: #3B4455;\n",
              "      --disabled-fill-color: #666;\n",
              "  }\n",
              "\n",
              "  .colab-df-quickchart {\n",
              "    background-color: var(--bg-color);\n",
              "    border: none;\n",
              "    border-radius: 50%;\n",
              "    cursor: pointer;\n",
              "    display: none;\n",
              "    fill: var(--fill-color);\n",
              "    height: 32px;\n",
              "    padding: 0;\n",
              "    width: 32px;\n",
              "  }\n",
              "\n",
              "  .colab-df-quickchart:hover {\n",
              "    background-color: var(--hover-bg-color);\n",
              "    box-shadow: 0 1px 2px rgba(60, 64, 67, 0.3), 0 1px 3px 1px rgba(60, 64, 67, 0.15);\n",
              "    fill: var(--button-hover-fill-color);\n",
              "  }\n",
              "\n",
              "  .colab-df-quickchart-complete:disabled,\n",
              "  .colab-df-quickchart-complete:disabled:hover {\n",
              "    background-color: var(--disabled-bg-color);\n",
              "    fill: var(--disabled-fill-color);\n",
              "    box-shadow: none;\n",
              "  }\n",
              "\n",
              "  .colab-df-spinner {\n",
              "    border: 2px solid var(--fill-color);\n",
              "    border-color: transparent;\n",
              "    border-bottom-color: var(--fill-color);\n",
              "    animation:\n",
              "      spin 1s steps(1) infinite;\n",
              "  }\n",
              "\n",
              "  @keyframes spin {\n",
              "    0% {\n",
              "      border-color: transparent;\n",
              "      border-bottom-color: var(--fill-color);\n",
              "      border-left-color: var(--fill-color);\n",
              "    }\n",
              "    20% {\n",
              "      border-color: transparent;\n",
              "      border-left-color: var(--fill-color);\n",
              "      border-top-color: var(--fill-color);\n",
              "    }\n",
              "    30% {\n",
              "      border-color: transparent;\n",
              "      border-left-color: var(--fill-color);\n",
              "      border-top-color: var(--fill-color);\n",
              "      border-right-color: var(--fill-color);\n",
              "    }\n",
              "    40% {\n",
              "      border-color: transparent;\n",
              "      border-right-color: var(--fill-color);\n",
              "      border-top-color: var(--fill-color);\n",
              "    }\n",
              "    60% {\n",
              "      border-color: transparent;\n",
              "      border-right-color: var(--fill-color);\n",
              "    }\n",
              "    80% {\n",
              "      border-color: transparent;\n",
              "      border-right-color: var(--fill-color);\n",
              "      border-bottom-color: var(--fill-color);\n",
              "    }\n",
              "    90% {\n",
              "      border-color: transparent;\n",
              "      border-bottom-color: var(--fill-color);\n",
              "    }\n",
              "  }\n",
              "</style>\n",
              "\n",
              "  <script>\n",
              "    async function quickchart(key) {\n",
              "      const quickchartButtonEl =\n",
              "        document.querySelector('#' + key + ' button');\n",
              "      quickchartButtonEl.disabled = true;  // To prevent multiple clicks.\n",
              "      quickchartButtonEl.classList.add('colab-df-spinner');\n",
              "      try {\n",
              "        const charts = await google.colab.kernel.invokeFunction(\n",
              "            'suggestCharts', [key], {});\n",
              "      } catch (error) {\n",
              "        console.error('Error during call to suggestCharts:', error);\n",
              "      }\n",
              "      quickchartButtonEl.classList.remove('colab-df-spinner');\n",
              "      quickchartButtonEl.classList.add('colab-df-quickchart-complete');\n",
              "    }\n",
              "    (() => {\n",
              "      let quickchartButtonEl =\n",
              "        document.querySelector('#df-2e43b589-6a2b-4eb3-9554-008f2d8322d3 button');\n",
              "      quickchartButtonEl.style.display =\n",
              "        google.colab.kernel.accessAllowed ? 'block' : 'none';\n",
              "    })();\n",
              "  </script>\n",
              "</div>\n",
              "    </div>\n",
              "  </div>\n"
            ],
            "text/plain": [
              "         Polarity\n",
              "count  510.000000\n",
              "mean     0.078775\n",
              "std      0.268696\n",
              "min     -0.910000\n",
              "25%     -0.045931\n",
              "50%      0.078214\n",
              "75%      0.253583\n",
              "max      0.943000"
            ]
          },
          "execution_count": 54,
          "metadata": {},
          "output_type": "execute_result"
        }
      ],
      "source": [
        "df.describe()"
      ]
    },
    {
      "cell_type": "code",
      "execution_count": null,
      "metadata": {
        "colab": {
          "base_uri": "https://localhost:8080/"
        },
        "id": "M-jMiTrRLZor",
        "outputId": "d23f2fa1-f800-4ec5-96cb-0b56d1a0e55b"
      },
      "outputs": [
        {
          "name": "stdout",
          "output_type": "stream",
          "text": [
            "The most common string in the column is: [('#admiration', 305), ('#interest', 147), ('#disgust', 111), ('#joy', 69), ('#sadness', 47), ('#anger', 45), ('#surprise', 31), ('#fear', 19)]\n"
          ]
        }
      ],
      "source": [
        "import pandas as pd\n",
        "from collections import Counter\n",
        "# Flatten the list of lists in the column\n",
        "flat_list = [item for sublist in df['Sentiment'] for item in sublist]\n",
        "print(flat_list)\n",
        "# Use Counter to count the occurrences of each string\n",
        "counter = Counter(flat_list)\n",
        "\n",
        "# Find the most common string\n",
        "most_common_string = counter.most_common(10)\n",
        "\n",
        "print(\"The most common string in the column is:\", most_common_string)"
      ]
    },
    {
      "cell_type": "code",
      "execution_count": null,
      "metadata": {
        "id": "4OlCd0z5WDz3"
      },
      "outputs": [],
      "source": []
    },
    {
      "cell_type": "markdown",
      "metadata": {
        "id": "o4JB5Awmlnce"
      },
      "source": [
        "## no_what txt"
      ]
    },
    {
      "cell_type": "code",
      "execution_count": 6,
      "metadata": {
        "colab": {
          "base_uri": "https://localhost:8080/"
        },
        "id": "Q0hZ46TsWVsq",
        "outputId": "57ed9b48-324c-4773-b604-21fb8dfc1d22"
      },
      "outputs": [
        {
          "name": "stdout",
          "output_type": "stream",
          "text": [
            "                                                  Line  Polarity  \\\n",
            "0    We'd love to hear from you and share with you ...  0.513714   \n",
            "1    NOTICE: The products described on this website...  0.267833   \n",
            "2    When the tour date arrives, copy and paste the...  0.228714   \n",
            "3    When the tour date arrives, copy and paste the...  0.228714   \n",
            "4    Grab the HTML for the entire post (will look l...  0.232800   \n",
            "..                                                 ...       ...   \n",
            "518  Los Angeles City Hall was illuminated in red a...  0.301000   \n",
            "519  In Rio de Janeiro, the Christ the Redeemer sta...  0.439125   \n",
            "520  A reveler smiles under the rain as people gath...  0.059600   \n",
            "521  The global party kicked off on Sydney's waterf...  0.108167   \n",
            "522  Signage beamed onto a bridge pylon got the yea... -0.186000   \n",
            "\n",
            "                    Sentiment  \n",
            "0               [#admiration]  \n",
            "1           [#joy, #interest]  \n",
            "2               [#admiration]  \n",
            "3               [#admiration]  \n",
            "4    [#interest, #admiration]  \n",
            "..                        ...  \n",
            "518             [#admiration]  \n",
            "519               [#interest]  \n",
            "520  [#interest, #admiration]  \n",
            "521               [#interest]  \n",
            "522                    [#joy]  \n",
            "\n",
            "[523 rows x 3 columns]\n"
          ]
        }
      ],
      "source": [
        "import pandas as pd\n",
        "\n",
        "\n",
        "# Assuming you have a DataFrame\n",
        "dfno = pd.DataFrame(columns=['Line', 'Polarity', 'Sentiment'])\n",
        "\n",
        "with open('no_what.txt', 'r', encoding='utf-8') as f:\n",
        "    data = []\n",
        "    for line in f:\n",
        "      if line.strip():\n",
        "        # Perform sentiment analysis\n",
        "          polarity = sp.get_polarity(line)\n",
        "          sent=dict()\n",
        "          att=sp.get_moodtags(line)\n",
        "          sent.update(att)\n",
        "          # Find the key with the maximum value\n",
        "          max_value = max(list(sent.values()), default=0)\n",
        "          keys_with_max_value = [k for k, v in sent.items() if v == max_value]\n",
        "\n",
        "        # Append the line and polarity to the data list\n",
        "          data.append({'Line': line, 'Polarity': polarity, 'Sentiment':keys_with_max_value})\n",
        "\n",
        "# Create a new DataFrame by concatenating the data list\n",
        "dfno = pd.concat([dfno, pd.DataFrame(data)], ignore_index=True)\n",
        "\n",
        "# Print the DataFrame\n",
        "print(dfno)\n",
        "\n"
      ]
    },
    {
      "cell_type": "code",
      "execution_count": 7,
      "metadata": {
        "colab": {
          "base_uri": "https://localhost:8080/"
        },
        "id": "Fh46lf74WEEZ",
        "outputId": "e6e7cd6b-3099-4309-c0f2-5411959d88b0"
      },
      "outputs": [
        {
          "name": "stdout",
          "output_type": "stream",
          "text": [
            "The most common string in the column is: [('#admiration', 325), ('#interest', 149), ('#joy', 85), ('#disgust', 64), ('#sadness', 43), ('#fear', 21), ('#anger', 20), ('#surprise', 12)]\n"
          ]
        }
      ],
      "source": [
        "import pandas as pd\n",
        "from collections import Counter\n",
        "# Flatten the list of lists in the column\n",
        "flat_list = [item for sublist in dfno['Sentiment'] for item in sublist]\n",
        "\n",
        "# Use Counter to count the occurrences of each string\n",
        "counter = Counter(flat_list)\n",
        "\n",
        "# Find the most common string\n",
        "most_common_string = counter.most_common(10)\n",
        "\n",
        "print(\"The most common string in the column is:\", most_common_string)"
      ]
    },
    {
      "cell_type": "code",
      "execution_count": 8,
      "metadata": {
        "colab": {
          "base_uri": "https://localhost:8080/",
          "height": 300
        },
        "id": "fhvwCHv6wBr-",
        "outputId": "8f0e08a9-e29e-4746-a075-9311c4b7dd2a"
      },
      "outputs": [
        {
          "data": {
            "text/html": [
              "\n",
              "  <div id=\"df-e6308d67-7751-489e-861b-b60bc04ae3c7\" class=\"colab-df-container\">\n",
              "    <div>\n",
              "<style scoped>\n",
              "    .dataframe tbody tr th:only-of-type {\n",
              "        vertical-align: middle;\n",
              "    }\n",
              "\n",
              "    .dataframe tbody tr th {\n",
              "        vertical-align: top;\n",
              "    }\n",
              "\n",
              "    .dataframe thead th {\n",
              "        text-align: right;\n",
              "    }\n",
              "</style>\n",
              "<table border=\"1\" class=\"dataframe\">\n",
              "  <thead>\n",
              "    <tr style=\"text-align: right;\">\n",
              "      <th></th>\n",
              "      <th>Polarity</th>\n",
              "    </tr>\n",
              "  </thead>\n",
              "  <tbody>\n",
              "    <tr>\n",
              "      <th>count</th>\n",
              "      <td>523.000000</td>\n",
              "    </tr>\n",
              "    <tr>\n",
              "      <th>mean</th>\n",
              "      <td>0.123540</td>\n",
              "    </tr>\n",
              "    <tr>\n",
              "      <th>std</th>\n",
              "      <td>0.238238</td>\n",
              "    </tr>\n",
              "    <tr>\n",
              "      <th>min</th>\n",
              "      <td>-0.760000</td>\n",
              "    </tr>\n",
              "    <tr>\n",
              "      <th>25%</th>\n",
              "      <td>0.000000</td>\n",
              "    </tr>\n",
              "    <tr>\n",
              "      <th>50%</th>\n",
              "      <td>0.128583</td>\n",
              "    </tr>\n",
              "    <tr>\n",
              "      <th>75%</th>\n",
              "      <td>0.274125</td>\n",
              "    </tr>\n",
              "    <tr>\n",
              "      <th>max</th>\n",
              "      <td>0.823000</td>\n",
              "    </tr>\n",
              "  </tbody>\n",
              "</table>\n",
              "</div>\n",
              "    <div class=\"colab-df-buttons\">\n",
              "\n",
              "  <div class=\"colab-df-container\">\n",
              "    <button class=\"colab-df-convert\" onclick=\"convertToInteractive('df-e6308d67-7751-489e-861b-b60bc04ae3c7')\"\n",
              "            title=\"Convert this dataframe to an interactive table.\"\n",
              "            style=\"display:none;\">\n",
              "\n",
              "  <svg xmlns=\"http://www.w3.org/2000/svg\" height=\"24px\" viewBox=\"0 -960 960 960\">\n",
              "    <path d=\"M120-120v-720h720v720H120Zm60-500h600v-160H180v160Zm220 220h160v-160H400v160Zm0 220h160v-160H400v160ZM180-400h160v-160H180v160Zm440 0h160v-160H620v160ZM180-180h160v-160H180v160Zm440 0h160v-160H620v160Z\"/>\n",
              "  </svg>\n",
              "    </button>\n",
              "\n",
              "  <style>\n",
              "    .colab-df-container {\n",
              "      display:flex;\n",
              "      gap: 12px;\n",
              "    }\n",
              "\n",
              "    .colab-df-convert {\n",
              "      background-color: #E8F0FE;\n",
              "      border: none;\n",
              "      border-radius: 50%;\n",
              "      cursor: pointer;\n",
              "      display: none;\n",
              "      fill: #1967D2;\n",
              "      height: 32px;\n",
              "      padding: 0 0 0 0;\n",
              "      width: 32px;\n",
              "    }\n",
              "\n",
              "    .colab-df-convert:hover {\n",
              "      background-color: #E2EBFA;\n",
              "      box-shadow: 0px 1px 2px rgba(60, 64, 67, 0.3), 0px 1px 3px 1px rgba(60, 64, 67, 0.15);\n",
              "      fill: #174EA6;\n",
              "    }\n",
              "\n",
              "    .colab-df-buttons div {\n",
              "      margin-bottom: 4px;\n",
              "    }\n",
              "\n",
              "    [theme=dark] .colab-df-convert {\n",
              "      background-color: #3B4455;\n",
              "      fill: #D2E3FC;\n",
              "    }\n",
              "\n",
              "    [theme=dark] .colab-df-convert:hover {\n",
              "      background-color: #434B5C;\n",
              "      box-shadow: 0px 1px 3px 1px rgba(0, 0, 0, 0.15);\n",
              "      filter: drop-shadow(0px 1px 2px rgba(0, 0, 0, 0.3));\n",
              "      fill: #FFFFFF;\n",
              "    }\n",
              "  </style>\n",
              "\n",
              "    <script>\n",
              "      const buttonEl =\n",
              "        document.querySelector('#df-e6308d67-7751-489e-861b-b60bc04ae3c7 button.colab-df-convert');\n",
              "      buttonEl.style.display =\n",
              "        google.colab.kernel.accessAllowed ? 'block' : 'none';\n",
              "\n",
              "      async function convertToInteractive(key) {\n",
              "        const element = document.querySelector('#df-e6308d67-7751-489e-861b-b60bc04ae3c7');\n",
              "        const dataTable =\n",
              "          await google.colab.kernel.invokeFunction('convertToInteractive',\n",
              "                                                    [key], {});\n",
              "        if (!dataTable) return;\n",
              "\n",
              "        const docLinkHtml = 'Like what you see? Visit the ' +\n",
              "          '<a target=\"_blank\" href=https://colab.research.google.com/notebooks/data_table.ipynb>data table notebook</a>'\n",
              "          + ' to learn more about interactive tables.';\n",
              "        element.innerHTML = '';\n",
              "        dataTable['output_type'] = 'display_data';\n",
              "        await google.colab.output.renderOutput(dataTable, element);\n",
              "        const docLink = document.createElement('div');\n",
              "        docLink.innerHTML = docLinkHtml;\n",
              "        element.appendChild(docLink);\n",
              "      }\n",
              "    </script>\n",
              "  </div>\n",
              "\n",
              "\n",
              "<div id=\"df-1c4737a4-0643-4b3c-9daf-91760d3e9f60\">\n",
              "  <button class=\"colab-df-quickchart\" onclick=\"quickchart('df-1c4737a4-0643-4b3c-9daf-91760d3e9f60')\"\n",
              "            title=\"Suggest charts\"\n",
              "            style=\"display:none;\">\n",
              "\n",
              "<svg xmlns=\"http://www.w3.org/2000/svg\" height=\"24px\"viewBox=\"0 0 24 24\"\n",
              "     width=\"24px\">\n",
              "    <g>\n",
              "        <path d=\"M19 3H5c-1.1 0-2 .9-2 2v14c0 1.1.9 2 2 2h14c1.1 0 2-.9 2-2V5c0-1.1-.9-2-2-2zM9 17H7v-7h2v7zm4 0h-2V7h2v10zm4 0h-2v-4h2v4z\"/>\n",
              "    </g>\n",
              "</svg>\n",
              "  </button>\n",
              "\n",
              "<style>\n",
              "  .colab-df-quickchart {\n",
              "      --bg-color: #E8F0FE;\n",
              "      --fill-color: #1967D2;\n",
              "      --hover-bg-color: #E2EBFA;\n",
              "      --hover-fill-color: #174EA6;\n",
              "      --disabled-fill-color: #AAA;\n",
              "      --disabled-bg-color: #DDD;\n",
              "  }\n",
              "\n",
              "  [theme=dark] .colab-df-quickchart {\n",
              "      --bg-color: #3B4455;\n",
              "      --fill-color: #D2E3FC;\n",
              "      --hover-bg-color: #434B5C;\n",
              "      --hover-fill-color: #FFFFFF;\n",
              "      --disabled-bg-color: #3B4455;\n",
              "      --disabled-fill-color: #666;\n",
              "  }\n",
              "\n",
              "  .colab-df-quickchart {\n",
              "    background-color: var(--bg-color);\n",
              "    border: none;\n",
              "    border-radius: 50%;\n",
              "    cursor: pointer;\n",
              "    display: none;\n",
              "    fill: var(--fill-color);\n",
              "    height: 32px;\n",
              "    padding: 0;\n",
              "    width: 32px;\n",
              "  }\n",
              "\n",
              "  .colab-df-quickchart:hover {\n",
              "    background-color: var(--hover-bg-color);\n",
              "    box-shadow: 0 1px 2px rgba(60, 64, 67, 0.3), 0 1px 3px 1px rgba(60, 64, 67, 0.15);\n",
              "    fill: var(--button-hover-fill-color);\n",
              "  }\n",
              "\n",
              "  .colab-df-quickchart-complete:disabled,\n",
              "  .colab-df-quickchart-complete:disabled:hover {\n",
              "    background-color: var(--disabled-bg-color);\n",
              "    fill: var(--disabled-fill-color);\n",
              "    box-shadow: none;\n",
              "  }\n",
              "\n",
              "  .colab-df-spinner {\n",
              "    border: 2px solid var(--fill-color);\n",
              "    border-color: transparent;\n",
              "    border-bottom-color: var(--fill-color);\n",
              "    animation:\n",
              "      spin 1s steps(1) infinite;\n",
              "  }\n",
              "\n",
              "  @keyframes spin {\n",
              "    0% {\n",
              "      border-color: transparent;\n",
              "      border-bottom-color: var(--fill-color);\n",
              "      border-left-color: var(--fill-color);\n",
              "    }\n",
              "    20% {\n",
              "      border-color: transparent;\n",
              "      border-left-color: var(--fill-color);\n",
              "      border-top-color: var(--fill-color);\n",
              "    }\n",
              "    30% {\n",
              "      border-color: transparent;\n",
              "      border-left-color: var(--fill-color);\n",
              "      border-top-color: var(--fill-color);\n",
              "      border-right-color: var(--fill-color);\n",
              "    }\n",
              "    40% {\n",
              "      border-color: transparent;\n",
              "      border-right-color: var(--fill-color);\n",
              "      border-top-color: var(--fill-color);\n",
              "    }\n",
              "    60% {\n",
              "      border-color: transparent;\n",
              "      border-right-color: var(--fill-color);\n",
              "    }\n",
              "    80% {\n",
              "      border-color: transparent;\n",
              "      border-right-color: var(--fill-color);\n",
              "      border-bottom-color: var(--fill-color);\n",
              "    }\n",
              "    90% {\n",
              "      border-color: transparent;\n",
              "      border-bottom-color: var(--fill-color);\n",
              "    }\n",
              "  }\n",
              "</style>\n",
              "\n",
              "  <script>\n",
              "    async function quickchart(key) {\n",
              "      const quickchartButtonEl =\n",
              "        document.querySelector('#' + key + ' button');\n",
              "      quickchartButtonEl.disabled = true;  // To prevent multiple clicks.\n",
              "      quickchartButtonEl.classList.add('colab-df-spinner');\n",
              "      try {\n",
              "        const charts = await google.colab.kernel.invokeFunction(\n",
              "            'suggestCharts', [key], {});\n",
              "      } catch (error) {\n",
              "        console.error('Error during call to suggestCharts:', error);\n",
              "      }\n",
              "      quickchartButtonEl.classList.remove('colab-df-spinner');\n",
              "      quickchartButtonEl.classList.add('colab-df-quickchart-complete');\n",
              "    }\n",
              "    (() => {\n",
              "      let quickchartButtonEl =\n",
              "        document.querySelector('#df-1c4737a4-0643-4b3c-9daf-91760d3e9f60 button');\n",
              "      quickchartButtonEl.style.display =\n",
              "        google.colab.kernel.accessAllowed ? 'block' : 'none';\n",
              "    })();\n",
              "  </script>\n",
              "</div>\n",
              "    </div>\n",
              "  </div>\n"
            ],
            "text/plain": [
              "         Polarity\n",
              "count  523.000000\n",
              "mean     0.123540\n",
              "std      0.238238\n",
              "min     -0.760000\n",
              "25%      0.000000\n",
              "50%      0.128583\n",
              "75%      0.274125\n",
              "max      0.823000"
            ]
          },
          "execution_count": 8,
          "metadata": {},
          "output_type": "execute_result"
        }
      ],
      "source": [
        "dfno.describe()"
      ]
    },
    {
      "cell_type": "code",
      "execution_count": 3,
      "metadata": {
        "colab": {
          "base_uri": "https://localhost:8080/"
        },
        "id": "u3iu0DTzNPMY",
        "outputId": "3d6756c9-c5cb-4832-c74e-26adba21a14d"
      },
      "outputs": [
        {
          "name": "stdout",
          "output_type": "stream",
          "text": [
            "Collecting senticnet\n",
            "  Downloading senticnet-1.6-py3-none-any.whl (51.9 MB)\n",
            "\u001b[2K     \u001b[90m━━━━━━━━━━━━━━━━━━━━━━━━━━━━━━━━━━━━━━━━\u001b[0m \u001b[32m51.9/51.9 MB\u001b[0m \u001b[31m9.6 MB/s\u001b[0m eta \u001b[36m0:00:00\u001b[0m\n",
            "\u001b[?25hInstalling collected packages: senticnet\n",
            "Successfully installed senticnet-1.6\n"
          ]
        },
        {
          "name": "stderr",
          "output_type": "stream",
          "text": [
            "[nltk_data] Downloading package punkt to /root/nltk_data...\n",
            "[nltk_data]   Unzipping tokenizers/punkt.zip.\n"
          ]
        },
        {
          "name": "stdout",
          "output_type": "stream",
          "text": [
            "[['#joy', '#eagerness'], ['#pleasantness', '#fear'], ['#pleasantness', '#fear']]\n"
          ]
        }
      ],
      "source": [
        "# import\n",
        "%pip install senticnet\n",
        "import nltk\n",
        "nltk.download('punkt')\n",
        "\n",
        "from senticnet.senticnet import SenticNet\n",
        "from nltk.tokenize import word_tokenize\n",
        "\n",
        "# define sentinet()\n",
        "sn = SenticNet()\n",
        "\n",
        "# create empty list to store results\n",
        "emotion_list = []\n",
        "\n",
        "# tokenize text\n",
        "# you can use word_tokenize() from the nltk library to tokenize your text\n",
        "text = 'love hate python'\n",
        "tokenized_text = word_tokenize(text)\n",
        "\n",
        "# loop through tokenized text and emtion and append to list\n",
        "for word in tokenized_text:\n",
        "    emotion_list.append(sn.moodtags(word))\n",
        "\n",
        "# print\n",
        "print(emotion_list)"
      ]
    },
    {
      "cell_type": "code",
      "execution_count": null,
      "metadata": {
        "id": "bfQYMuoBN7Gc"
      },
      "outputs": [],
      "source": []
    },
    {
      "cell_type": "markdown",
      "metadata": {
        "id": "_NcO038liiZV"
      },
      "source": [
        "## whatabout dataset - tokenized\n",
        "usinh nltk to tokenize before sentic analysis"
      ]
    },
    {
      "cell_type": "code",
      "execution_count": null,
      "metadata": {
        "colab": {
          "base_uri": "https://localhost:8080/"
        },
        "id": "nld1vNdGPwcQ",
        "outputId": "dfd8539e-bba3-4f8b-ae52-a9119248ccf1"
      },
      "outputs": [
        {
          "name": "stdout",
          "output_type": "stream",
          "text": [
            "                                                  Line  Polarity  \\\n",
            "0    [Urgent, action, to, prevent, a, pandemic, is,... -0.088143   \n",
            "1    [Dad, :, Billy, ,, when, did, you, last, tidy,...  0.081217   \n",
            "2    [The, West, has, no, right, to, criticize, our... -0.045125   \n",
            "3                  [but, what, about, the, economy, ?]  0.120000   \n",
            "4    [So, President, Trump, wants, to, ban, certain... -0.132500   \n",
            "..                                                 ...       ...   \n",
            "505  [He, is, just, looking, for, attention, and, d...  0.216444   \n",
            "506  [If, you, want, to, see, doctoring, ,, go, to,...  0.311500   \n",
            "507  [U.S., District, Court, Judge, Timothy, Kelly,...  0.452667   \n",
            "508  [She, went, on, to, write, that, she, thinks, ...  0.331900   \n",
            "509  [But, ,, she, said, ,, a, bigger, problem, is,... -0.292333   \n",
            "\n",
            "                    Sentiment  \n",
            "0                 [#interest]  \n",
            "1               [#admiration]  \n",
            "2       [#disgust, #interest]  \n",
            "3    [#interest, #admiration]  \n",
            "4               [#admiration]  \n",
            "..                        ...  \n",
            "505               [#interest]  \n",
            "506             [#admiration]  \n",
            "507         [#joy, #interest]  \n",
            "508                    [#joy]  \n",
            "509        [#anger, #disgust]  \n",
            "\n",
            "[510 rows x 3 columns]\n"
          ]
        }
      ],
      "source": [
        "import pandas as pd\n",
        "\n",
        "\n",
        "# Assuming you have a DataFrame\n",
        "df = pd.DataFrame(columns=['Line', 'Polarity', 'Sentiment'])\n",
        "\n",
        "with open('result_whatabout.txt', 'r', encoding='utf-8') as f:\n",
        "    data = []\n",
        "    for line in f:\n",
        "      if line.strip():\n",
        "        # Perform sentiment analysis\n",
        "          line=tokenized_text = word_tokenize(line)\n",
        "\n",
        "          polarity = sp.get_polarity(\" \".join(line))\n",
        "          sent=dict()\n",
        "          att=sp.get_moodtags(\" \".join(line))\n",
        "          sent.update(att)\n",
        "          # Find the key with the maximum value\n",
        "          max_value = max(list(sent.values()), default=0)\n",
        "          keys_with_max_value = [k for k, v in sent.items() if v == max_value]\n",
        "\n",
        "        # Append the line and polarity to the data list\n",
        "          data.append({'Line': line, 'Polarity': polarity, 'Sentiment':keys_with_max_value})\n",
        "\n",
        "# Create a new DataFrame by concatenating the data list\n",
        "df = pd.concat([df, pd.DataFrame(data)], ignore_index=True)\n",
        "\n",
        "# Print the DataFrame\n",
        "print(df)\n",
        "\n"
      ]
    },
    {
      "cell_type": "code",
      "execution_count": null,
      "metadata": {
        "id": "rI__fsxFQRES"
      },
      "outputs": [],
      "source": [
        "with open('result_whatabout.txt', 'r', encoding='utf-8') as f:\n",
        "    data = []\n",
        "    for line in f:\n",
        "      if line.strip():\n",
        "          print(line)\n",
        "          # Perform sentiment analysis\n",
        "          line=tokenized_text = word_tokenize(line)\n",
        "\n",
        "          polarity = sp.get_polarity(\" \".join(line))\n",
        "          sent=dict()\n",
        "          att=sp.get_moodtags(\" \".join(line))\n",
        "          sent.update(att)\n",
        "          # Find the key with the maximum value\n",
        "          max_value = max(list(sent.values()), default=0)\n",
        "          keys_with_max_value = [k for k, v in sent.items() if v == max_value]\n",
        "          print (keys_with_max_value, sent)\n"
      ]
    },
    {
      "cell_type": "code",
      "execution_count": null,
      "metadata": {
        "colab": {
          "base_uri": "https://localhost:8080/"
        },
        "id": "TCuf3gYPQliG",
        "outputId": "f3c83dc3-f0ba-42e0-9cb7-621e67091e59"
      },
      "outputs": [
        {
          "name": "stdout",
          "output_type": "stream",
          "text": [
            "The most common string in the column is: [('#admiration', 326), ('#interest', 154), ('#disgust', 99), ('#joy', 62), ('#sadness', 43)]\n"
          ]
        }
      ],
      "source": [
        "import pandas as pd\n",
        "from collections import Counter\n",
        "# Flatten the list of lists in the column\n",
        "flat_list = [item for sublist in df['Sentiment'] for item in sublist]\n",
        "\n",
        "# Use Counter to count the occurrences of each string\n",
        "counter = Counter(flat_list)\n",
        "\n",
        "# Find the most common string\n",
        "most_common_string = counter.most_common(5)\n",
        "\n",
        "print(\"The most common string in the column is:\", most_common_string)"
      ]
    },
    {
      "cell_type": "code",
      "execution_count": null,
      "metadata": {
        "id": "dkEamIGeQr6R"
      },
      "outputs": [],
      "source": []
    },
    {
      "cell_type": "markdown",
      "metadata": {
        "id": "a7Zx9kwIlaGh"
      },
      "source": [
        "semeval"
      ]
    },
    {
      "cell_type": "code",
      "execution_count": 9,
      "metadata": {
        "colab": {
          "base_uri": "https://localhost:8080/"
        },
        "id": "fNRfCASOQsIj",
        "outputId": "4c42948d-896d-4a54-bd90-367aadb03152"
      },
      "outputs": [
        {
          "name": "stdout",
          "output_type": "stream",
          "text": [
            "                                                  Line  Polarity  \\\n",
            "0    [We, 'd, love, to, hear, from, you, and, share...  0.445750   \n",
            "1    [NOTICE, :, The, products, described, on, this...  0.239714   \n",
            "2    [When, the, tour, date, arrives, ,, copy, and,...  0.240778   \n",
            "3    [When, the, tour, date, arrives, ,, copy, and,...  0.240778   \n",
            "4    [Grab, the, HTML, for, the, entire, post, (, w...  0.232800   \n",
            "..                                                 ...       ...   \n",
            "518  [Los, Angeles, City, Hall, was, illuminated, i...  0.190667   \n",
            "519  [In, Rio, de, Janeiro, ,, the, Christ, the, Re...  0.439125   \n",
            "520  [A, reveler, smiles, under, the, rain, as, peo...  0.059600   \n",
            "521  [The, global, party, kicked, off, on, Sydney, ...  0.091111   \n",
            "522  [Signage, beamed, onto, a, bridge, pylon, got,... -0.240857   \n",
            "\n",
            "                    Sentiment  \n",
            "0               [#admiration]  \n",
            "1                 [#interest]  \n",
            "2               [#admiration]  \n",
            "3               [#admiration]  \n",
            "4    [#interest, #admiration]  \n",
            "..                        ...  \n",
            "518   [#admiration, #sadness]  \n",
            "519               [#interest]  \n",
            "520  [#interest, #admiration]  \n",
            "521  [#interest, #admiration]  \n",
            "522            [#joy, #anger]  \n",
            "\n",
            "[523 rows x 3 columns]\n"
          ]
        }
      ],
      "source": [
        "import pandas as pd\n",
        "\n",
        "\n",
        "# Assuming you have a DataFrame\n",
        "dfno = pd.DataFrame(columns=['Line', 'Polarity', 'Sentiment'])\n",
        "\n",
        "with open('no_what.txt', 'r', encoding='utf-8') as f:\n",
        "    data = []\n",
        "    for line in f:\n",
        "      if line.strip():\n",
        "        # Perform sentiment analysis\n",
        "          line=tokenized_text = word_tokenize(line)\n",
        "\n",
        "          polarity = sp.get_polarity(\" \".join(line))\n",
        "          sent=dict()\n",
        "          att=sp.get_moodtags(\" \".join(line))\n",
        "          sent.update(att)\n",
        "          # Find the key with the maximum value\n",
        "          max_value = max(list(sent.values()), default=0)\n",
        "          keys_with_max_value = [k for k, v in sent.items() if v == max_value]\n",
        "\n",
        "        # Append the line and polarity to the data list\n",
        "          data.append({'Line': line, 'Polarity': polarity, 'Sentiment':keys_with_max_value})\n",
        "\n",
        "# Create a new DataFrame by concatenating the data list\n",
        "dfno = pd.concat([dfno, pd.DataFrame(data)], ignore_index=True)\n",
        "\n",
        "# Print the DataFrame\n",
        "print(dfno)\n",
        "\n"
      ]
    },
    {
      "cell_type": "code",
      "execution_count": null,
      "metadata": {
        "id": "T6nV9OUjQ1ms"
      },
      "outputs": [],
      "source": []
    },
    {
      "cell_type": "code",
      "execution_count": 10,
      "metadata": {
        "colab": {
          "base_uri": "https://localhost:8080/"
        },
        "id": "bk4VU7w9Q2Ae",
        "outputId": "61a0230f-0e1e-40e6-e634-b11e584c94ec"
      },
      "outputs": [
        {
          "name": "stdout",
          "output_type": "stream",
          "text": [
            "The most common string in the column is: [('#admiration', 325), ('#interest', 153), ('#joy', 78), ('#disgust', 53), ('#sadness', 41)]\n"
          ]
        }
      ],
      "source": [
        "import pandas as pd\n",
        "from collections import Counter\n",
        "# Flatten the list of lists in the column\n",
        "flat_list = [item for sublist in dfno['Sentiment'] for item in sublist]\n",
        "\n",
        "# Use Counter to count the occurrences of each string\n",
        "counter = Counter(flat_list)\n",
        "\n",
        "# Find the most common string\n",
        "most_common_string = counter.most_common(5)\n",
        "\n",
        "print(\"The most common string in the column is:\", most_common_string)"
      ]
    }
  ],
  "metadata": {
    "colab": {
      "provenance": []
    },
    "kernelspec": {
      "display_name": "Python 3",
      "name": "python3"
    },
    "language_info": {
      "name": "python"
    }
  },
  "nbformat": 4,
  "nbformat_minor": 0
}
