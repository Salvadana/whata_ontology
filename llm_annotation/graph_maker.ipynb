{
 "cells": [
  {
   "cell_type": "code",
   "execution_count": 3,
   "metadata": {},
   "outputs": [
    {
     "name": "stdout",
     "output_type": "stream",
     "text": [
      "Defaulting to user installation because normal site-packages is not writeable\n"
     ]
    },
    {
     "name": "stderr",
     "output_type": "stream",
     "text": [
      "ERROR: Ignored the following versions that require a different python version: 0.1.0 Requires-Python <4.0,>=3.11; 0.1.1 Requires-Python <4.0,>=3.11; 0.1.2 Requires-Python <4.0,>=3.11; 0.2.0 Requires-Python <4.0,>=3.11\n",
      "ERROR: Could not find a version that satisfies the requirement knowledge-graph-maker (from versions: none)\n",
      "ERROR: No matching distribution found for knowledge-graph-maker\n"
     ]
    }
   ],
   "source": [
    "!pip install knowledge-graph-maker"
   ]
  },
  {
   "cell_type": "code",
   "execution_count": null,
   "metadata": {},
   "outputs": [],
   "source": [
    "from knowledge-graph-maker import GraphMaker, Ontology, GroqClient\n",
    "from knowledge_graph_maker import Document"
   ]
  }
 ],
 "metadata": {
  "kernelspec": {
   "display_name": "Python 3",
   "language": "python",
   "name": "python3"
  },
  "language_info": {
   "codemirror_mode": {
    "name": "ipython",
    "version": 3
   },
   "file_extension": ".py",
   "mimetype": "text/x-python",
   "name": "python",
   "nbconvert_exporter": "python",
   "pygments_lexer": "ipython3",
   "version": "3.10.0"
  }
 },
 "nbformat": 4,
 "nbformat_minor": 2
}
